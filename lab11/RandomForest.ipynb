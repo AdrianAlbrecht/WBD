{
 "cells": [
  {
   "cell_type": "code",
   "execution_count": 1,
   "metadata": {
    "id": "Zc_D8Vq4N-hm"
   },
   "outputs": [],
   "source": [
    "import warnings\n",
    "warnings.filterwarnings('ignore')"
   ]
  },
  {
   "cell_type": "code",
   "execution_count": 2,
   "metadata": {
    "id": "-zJTyQ1AOrri"
   },
   "outputs": [],
   "source": [
    "import pandas as pd"
   ]
  },
  {
   "cell_type": "code",
   "execution_count": 3,
   "metadata": {
    "id": "rfUXjVkQOtqN"
   },
   "outputs": [],
   "source": [
    "features = pd.read_csv(\"vlagunr-Cyano.csv\")"
   ]
  },
  {
   "cell_type": "code",
   "execution_count": 4,
   "metadata": {
    "colab": {
     "base_uri": "https://localhost:8080/",
     "height": 522
    },
    "id": "JeoT8devOzIm",
    "outputId": "425ee56c-60bf-4348-befa-c6b6f190eb9c"
   },
   "outputs": [
    {
     "data": {
      "text/html": [
       "<div>\n",
       "<style scoped>\n",
       "    .dataframe tbody tr th:only-of-type {\n",
       "        vertical-align: middle;\n",
       "    }\n",
       "\n",
       "    .dataframe tbody tr th {\n",
       "        vertical-align: top;\n",
       "    }\n",
       "\n",
       "    .dataframe thead th {\n",
       "        text-align: right;\n",
       "    }\n",
       "</style>\n",
       "<table border=\"1\" class=\"dataframe\">\n",
       "  <thead>\n",
       "    <tr style=\"text-align: right;\">\n",
       "      <th></th>\n",
       "      <th>PSU</th>\n",
       "      <th>O2</th>\n",
       "      <th>temp.</th>\n",
       "      <th>SS</th>\n",
       "      <th>SRP</th>\n",
       "      <th>DOP</th>\n",
       "      <th>PP</th>\n",
       "      <th>NH4N</th>\n",
       "      <th>NO3N</th>\n",
       "      <th>DON</th>\n",
       "      <th>...</th>\n",
       "      <th>TN/TP</th>\n",
       "      <th>Fe</th>\n",
       "      <th>SiO4Si</th>\n",
       "      <th>ChlorophyceaeBiomassC</th>\n",
       "      <th>DiatomsBiomassC</th>\n",
       "      <th>PicoplanktonBiomassC</th>\n",
       "      <th>Windspeedinsitu</th>\n",
       "      <th>Depth</th>\n",
       "      <th>DIN to DIP</th>\n",
       "      <th>CyanobacteriaBiomassC</th>\n",
       "    </tr>\n",
       "  </thead>\n",
       "  <tbody>\n",
       "    <tr>\n",
       "      <th>0</th>\n",
       "      <td>3.758</td>\n",
       "      <td>9.46</td>\n",
       "      <td>18.3</td>\n",
       "      <td>52.00</td>\n",
       "      <td>3.5</td>\n",
       "      <td>11.7</td>\n",
       "      <td>185.0</td>\n",
       "      <td>0.039</td>\n",
       "      <td>0.022</td>\n",
       "      <td>0.551</td>\n",
       "      <td>...</td>\n",
       "      <td>6.848</td>\n",
       "      <td>0.012</td>\n",
       "      <td>2.311</td>\n",
       "      <td>0.508</td>\n",
       "      <td>0.018</td>\n",
       "      <td>0.691</td>\n",
       "      <td>3.5</td>\n",
       "      <td>3.3</td>\n",
       "      <td>17.429</td>\n",
       "      <td>0.429</td>\n",
       "    </tr>\n",
       "    <tr>\n",
       "      <th>1</th>\n",
       "      <td>3.505</td>\n",
       "      <td>9.89</td>\n",
       "      <td>19.1</td>\n",
       "      <td>50.00</td>\n",
       "      <td>4.4</td>\n",
       "      <td>17.5</td>\n",
       "      <td>111.3</td>\n",
       "      <td>0.020</td>\n",
       "      <td>0.025</td>\n",
       "      <td>0.123</td>\n",
       "      <td>...</td>\n",
       "      <td>10.128</td>\n",
       "      <td>0.014</td>\n",
       "      <td>2.116</td>\n",
       "      <td>0.473</td>\n",
       "      <td>0.001</td>\n",
       "      <td>0.522</td>\n",
       "      <td>0.0</td>\n",
       "      <td>3.6</td>\n",
       "      <td>10.227</td>\n",
       "      <td>1.085</td>\n",
       "    </tr>\n",
       "    <tr>\n",
       "      <th>2</th>\n",
       "      <td>3.758</td>\n",
       "      <td>9.66</td>\n",
       "      <td>18.1</td>\n",
       "      <td>59.00</td>\n",
       "      <td>3.2</td>\n",
       "      <td>22.8</td>\n",
       "      <td>103.4</td>\n",
       "      <td>0.016</td>\n",
       "      <td>0.008</td>\n",
       "      <td>0.582</td>\n",
       "      <td>...</td>\n",
       "      <td>9.134</td>\n",
       "      <td>0.037</td>\n",
       "      <td>2.264</td>\n",
       "      <td>0.271</td>\n",
       "      <td>0.021</td>\n",
       "      <td>0.538</td>\n",
       "      <td>1.0</td>\n",
       "      <td>3.4</td>\n",
       "      <td>7.500</td>\n",
       "      <td>1.734</td>\n",
       "    </tr>\n",
       "    <tr>\n",
       "      <th>3</th>\n",
       "      <td>3.107</td>\n",
       "      <td>10.36</td>\n",
       "      <td>19.5</td>\n",
       "      <td>46.00</td>\n",
       "      <td>4.3</td>\n",
       "      <td>22.3</td>\n",
       "      <td>92.7</td>\n",
       "      <td>0.026</td>\n",
       "      <td>0.021</td>\n",
       "      <td>0.693</td>\n",
       "      <td>...</td>\n",
       "      <td>11.978</td>\n",
       "      <td>0.017</td>\n",
       "      <td>2.262</td>\n",
       "      <td>0.458</td>\n",
       "      <td>0.122</td>\n",
       "      <td>0.655</td>\n",
       "      <td>0.0</td>\n",
       "      <td>2.9</td>\n",
       "      <td>10.930</td>\n",
       "      <td>0.814</td>\n",
       "    </tr>\n",
       "    <tr>\n",
       "      <th>4</th>\n",
       "      <td>2.619</td>\n",
       "      <td>11.56</td>\n",
       "      <td>19.0</td>\n",
       "      <td>42.00</td>\n",
       "      <td>11.7</td>\n",
       "      <td>30.3</td>\n",
       "      <td>73.2</td>\n",
       "      <td>0.022</td>\n",
       "      <td>0.048</td>\n",
       "      <td>0.383</td>\n",
       "      <td>...</td>\n",
       "      <td>12.665</td>\n",
       "      <td>0.024</td>\n",
       "      <td>2.216</td>\n",
       "      <td>0.328</td>\n",
       "      <td>0.085</td>\n",
       "      <td>0.182</td>\n",
       "      <td>0.0</td>\n",
       "      <td>3.0</td>\n",
       "      <td>5.983</td>\n",
       "      <td>1.133</td>\n",
       "    </tr>\n",
       "    <tr>\n",
       "      <th>...</th>\n",
       "      <td>...</td>\n",
       "      <td>...</td>\n",
       "      <td>...</td>\n",
       "      <td>...</td>\n",
       "      <td>...</td>\n",
       "      <td>...</td>\n",
       "      <td>...</td>\n",
       "      <td>...</td>\n",
       "      <td>...</td>\n",
       "      <td>...</td>\n",
       "      <td>...</td>\n",
       "      <td>...</td>\n",
       "      <td>...</td>\n",
       "      <td>...</td>\n",
       "      <td>...</td>\n",
       "      <td>...</td>\n",
       "      <td>...</td>\n",
       "      <td>...</td>\n",
       "      <td>...</td>\n",
       "      <td>...</td>\n",
       "      <td>...</td>\n",
       "    </tr>\n",
       "    <tr>\n",
       "      <th>150</th>\n",
       "      <td>3.700</td>\n",
       "      <td>9.86</td>\n",
       "      <td>16.2</td>\n",
       "      <td>112.50</td>\n",
       "      <td>9.7</td>\n",
       "      <td>21.4</td>\n",
       "      <td>186.3</td>\n",
       "      <td>0.040</td>\n",
       "      <td>0.052</td>\n",
       "      <td>0.838</td>\n",
       "      <td>...</td>\n",
       "      <td>7.157</td>\n",
       "      <td>0.040</td>\n",
       "      <td>2.953</td>\n",
       "      <td>0.465</td>\n",
       "      <td>0.176</td>\n",
       "      <td>1.162</td>\n",
       "      <td>7.0</td>\n",
       "      <td>3.1</td>\n",
       "      <td>9.485</td>\n",
       "      <td>1.364</td>\n",
       "    </tr>\n",
       "    <tr>\n",
       "      <th>151</th>\n",
       "      <td>4.500</td>\n",
       "      <td>9.93</td>\n",
       "      <td>16.3</td>\n",
       "      <td>117.50</td>\n",
       "      <td>23.9</td>\n",
       "      <td>30.3</td>\n",
       "      <td>191.5</td>\n",
       "      <td>0.033</td>\n",
       "      <td>0.029</td>\n",
       "      <td>0.406</td>\n",
       "      <td>...</td>\n",
       "      <td>6.711</td>\n",
       "      <td>0.050</td>\n",
       "      <td>2.904</td>\n",
       "      <td>0.381</td>\n",
       "      <td>0.153</td>\n",
       "      <td>0.845</td>\n",
       "      <td>8.5</td>\n",
       "      <td>3.2</td>\n",
       "      <td>2.594</td>\n",
       "      <td>0.900</td>\n",
       "    </tr>\n",
       "    <tr>\n",
       "      <th>152</th>\n",
       "      <td>4.600</td>\n",
       "      <td>10.02</td>\n",
       "      <td>16.2</td>\n",
       "      <td>115.00</td>\n",
       "      <td>31.4</td>\n",
       "      <td>32.4</td>\n",
       "      <td>37.8</td>\n",
       "      <td>0.024</td>\n",
       "      <td>0.024</td>\n",
       "      <td>0.549</td>\n",
       "      <td>...</td>\n",
       "      <td>10.561</td>\n",
       "      <td>0.031</td>\n",
       "      <td>2.665</td>\n",
       "      <td>0.246</td>\n",
       "      <td>0.116</td>\n",
       "      <td>0.848</td>\n",
       "      <td>10.2</td>\n",
       "      <td>3.3</td>\n",
       "      <td>1.529</td>\n",
       "      <td>0.971</td>\n",
       "    </tr>\n",
       "    <tr>\n",
       "      <th>153</th>\n",
       "      <td>4.500</td>\n",
       "      <td>9.93</td>\n",
       "      <td>16.3</td>\n",
       "      <td>113.75</td>\n",
       "      <td>7.1</td>\n",
       "      <td>20.6</td>\n",
       "      <td>223.2</td>\n",
       "      <td>0.021</td>\n",
       "      <td>0.032</td>\n",
       "      <td>0.482</td>\n",
       "      <td>...</td>\n",
       "      <td>5.369</td>\n",
       "      <td>0.019</td>\n",
       "      <td>2.967</td>\n",
       "      <td>0.129</td>\n",
       "      <td>0.164</td>\n",
       "      <td>0.529</td>\n",
       "      <td>9.5</td>\n",
       "      <td>3.4</td>\n",
       "      <td>7.465</td>\n",
       "      <td>0.679</td>\n",
       "    </tr>\n",
       "    <tr>\n",
       "      <th>154</th>\n",
       "      <td>4.200</td>\n",
       "      <td>10.30</td>\n",
       "      <td>16.0</td>\n",
       "      <td>102.50</td>\n",
       "      <td>19.5</td>\n",
       "      <td>58.8</td>\n",
       "      <td>97.1</td>\n",
       "      <td>0.027</td>\n",
       "      <td>0.048</td>\n",
       "      <td>0.572</td>\n",
       "      <td>...</td>\n",
       "      <td>5.855</td>\n",
       "      <td>0.038</td>\n",
       "      <td>2.875</td>\n",
       "      <td>0.142</td>\n",
       "      <td>0.143</td>\n",
       "      <td>0.872</td>\n",
       "      <td>10.5</td>\n",
       "      <td>3.3</td>\n",
       "      <td>3.846</td>\n",
       "      <td>0.809</td>\n",
       "    </tr>\n",
       "  </tbody>\n",
       "</table>\n",
       "<p>155 rows × 21 columns</p>\n",
       "</div>"
      ],
      "text/plain": [
       "       PSU     O2  temp.      SS   SRP   DOP     PP   NH4N   NO3N    DON  ...  \\\n",
       "0    3.758   9.46   18.3   52.00   3.5  11.7  185.0  0.039  0.022  0.551  ...   \n",
       "1    3.505   9.89   19.1   50.00   4.4  17.5  111.3  0.020  0.025  0.123  ...   \n",
       "2    3.758   9.66   18.1   59.00   3.2  22.8  103.4  0.016  0.008  0.582  ...   \n",
       "3    3.107  10.36   19.5   46.00   4.3  22.3   92.7  0.026  0.021  0.693  ...   \n",
       "4    2.619  11.56   19.0   42.00  11.7  30.3   73.2  0.022  0.048  0.383  ...   \n",
       "..     ...    ...    ...     ...   ...   ...    ...    ...    ...    ...  ...   \n",
       "150  3.700   9.86   16.2  112.50   9.7  21.4  186.3  0.040  0.052  0.838  ...   \n",
       "151  4.500   9.93   16.3  117.50  23.9  30.3  191.5  0.033  0.029  0.406  ...   \n",
       "152  4.600  10.02   16.2  115.00  31.4  32.4   37.8  0.024  0.024  0.549  ...   \n",
       "153  4.500   9.93   16.3  113.75   7.1  20.6  223.2  0.021  0.032  0.482  ...   \n",
       "154  4.200  10.30   16.0  102.50  19.5  58.8   97.1  0.027  0.048  0.572  ...   \n",
       "\n",
       "      TN/TP     Fe  SiO4Si  ChlorophyceaeBiomassC  DiatomsBiomassC  \\\n",
       "0     6.848  0.012   2.311                  0.508            0.018   \n",
       "1    10.128  0.014   2.116                  0.473            0.001   \n",
       "2     9.134  0.037   2.264                  0.271            0.021   \n",
       "3    11.978  0.017   2.262                  0.458            0.122   \n",
       "4    12.665  0.024   2.216                  0.328            0.085   \n",
       "..      ...    ...     ...                    ...              ...   \n",
       "150   7.157  0.040   2.953                  0.465            0.176   \n",
       "151   6.711  0.050   2.904                  0.381            0.153   \n",
       "152  10.561  0.031   2.665                  0.246            0.116   \n",
       "153   5.369  0.019   2.967                  0.129            0.164   \n",
       "154   5.855  0.038   2.875                  0.142            0.143   \n",
       "\n",
       "     PicoplanktonBiomassC  Windspeedinsitu  Depth  DIN to DIP  \\\n",
       "0                   0.691              3.5    3.3      17.429   \n",
       "1                   0.522              0.0    3.6      10.227   \n",
       "2                   0.538              1.0    3.4       7.500   \n",
       "3                   0.655              0.0    2.9      10.930   \n",
       "4                   0.182              0.0    3.0       5.983   \n",
       "..                    ...              ...    ...         ...   \n",
       "150                 1.162              7.0    3.1       9.485   \n",
       "151                 0.845              8.5    3.2       2.594   \n",
       "152                 0.848             10.2    3.3       1.529   \n",
       "153                 0.529              9.5    3.4       7.465   \n",
       "154                 0.872             10.5    3.3       3.846   \n",
       "\n",
       "     CyanobacteriaBiomassC  \n",
       "0                    0.429  \n",
       "1                    1.085  \n",
       "2                    1.734  \n",
       "3                    0.814  \n",
       "4                    1.133  \n",
       "..                     ...  \n",
       "150                  1.364  \n",
       "151                  0.900  \n",
       "152                  0.971  \n",
       "153                  0.679  \n",
       "154                  0.809  \n",
       "\n",
       "[155 rows x 21 columns]"
      ]
     },
     "execution_count": 4,
     "metadata": {},
     "output_type": "execute_result"
    }
   ],
   "source": [
    "features.head(155)"
   ]
  },
  {
   "cell_type": "code",
   "execution_count": 5,
   "metadata": {
    "colab": {
     "base_uri": "https://localhost:8080/"
    },
    "id": "swSJHmtkO216",
    "outputId": "40a0871a-9e42-449c-fb2e-aa5811adc15a"
   },
   "outputs": [
    {
     "name": "stdout",
     "output_type": "stream",
     "text": [
      "The shape of out feature is: (156, 21)\n"
     ]
    }
   ],
   "source": [
    "print(f'The shape of out feature is: {features.shape}')"
   ]
  },
  {
   "cell_type": "code",
   "execution_count": 6,
   "metadata": {
    "colab": {
     "base_uri": "https://localhost:8080/",
     "height": 411
    },
    "id": "ShOAJRYXPHqR",
    "outputId": "5d9ae29e-690e-450f-f57d-d2d3c215f5c1"
   },
   "outputs": [
    {
     "data": {
      "text/html": [
       "<div>\n",
       "<style scoped>\n",
       "    .dataframe tbody tr th:only-of-type {\n",
       "        vertical-align: middle;\n",
       "    }\n",
       "\n",
       "    .dataframe tbody tr th {\n",
       "        vertical-align: top;\n",
       "    }\n",
       "\n",
       "    .dataframe thead th {\n",
       "        text-align: right;\n",
       "    }\n",
       "</style>\n",
       "<table border=\"1\" class=\"dataframe\">\n",
       "  <thead>\n",
       "    <tr style=\"text-align: right;\">\n",
       "      <th></th>\n",
       "      <th>PSU</th>\n",
       "      <th>O2</th>\n",
       "      <th>temp.</th>\n",
       "      <th>SS</th>\n",
       "      <th>SRP</th>\n",
       "      <th>DOP</th>\n",
       "      <th>PP</th>\n",
       "      <th>NH4N</th>\n",
       "      <th>NO3N</th>\n",
       "      <th>DON</th>\n",
       "      <th>...</th>\n",
       "      <th>TN/TP</th>\n",
       "      <th>Fe</th>\n",
       "      <th>SiO4Si</th>\n",
       "      <th>ChlorophyceaeBiomassC</th>\n",
       "      <th>DiatomsBiomassC</th>\n",
       "      <th>PicoplanktonBiomassC</th>\n",
       "      <th>Windspeedinsitu</th>\n",
       "      <th>Depth</th>\n",
       "      <th>DIN to DIP</th>\n",
       "      <th>CyanobacteriaBiomassC</th>\n",
       "    </tr>\n",
       "  </thead>\n",
       "  <tbody>\n",
       "    <tr>\n",
       "      <th>count</th>\n",
       "      <td>156.000000</td>\n",
       "      <td>156.000000</td>\n",
       "      <td>156.000000</td>\n",
       "      <td>156.000000</td>\n",
       "      <td>156.000000</td>\n",
       "      <td>156.000000</td>\n",
       "      <td>156.000000</td>\n",
       "      <td>156.000000</td>\n",
       "      <td>156.000000</td>\n",
       "      <td>156.000000</td>\n",
       "      <td>...</td>\n",
       "      <td>156.000000</td>\n",
       "      <td>156.000000</td>\n",
       "      <td>156.000000</td>\n",
       "      <td>156.000000</td>\n",
       "      <td>156.000000</td>\n",
       "      <td>156.000000</td>\n",
       "      <td>156.000000</td>\n",
       "      <td>156.000000</td>\n",
       "      <td>156.000000</td>\n",
       "      <td>156.000000</td>\n",
       "    </tr>\n",
       "    <tr>\n",
       "      <th>mean</th>\n",
       "      <td>3.356955</td>\n",
       "      <td>10.180705</td>\n",
       "      <td>17.350000</td>\n",
       "      <td>86.937115</td>\n",
       "      <td>15.035256</td>\n",
       "      <td>22.421154</td>\n",
       "      <td>134.547436</td>\n",
       "      <td>0.029429</td>\n",
       "      <td>0.037071</td>\n",
       "      <td>0.573897</td>\n",
       "      <td>...</td>\n",
       "      <td>8.578487</td>\n",
       "      <td>0.032135</td>\n",
       "      <td>2.586397</td>\n",
       "      <td>0.592468</td>\n",
       "      <td>0.111782</td>\n",
       "      <td>0.619397</td>\n",
       "      <td>4.985897</td>\n",
       "      <td>3.023718</td>\n",
       "      <td>7.885410</td>\n",
       "      <td>0.709897</td>\n",
       "    </tr>\n",
       "    <tr>\n",
       "      <th>std</th>\n",
       "      <td>0.758863</td>\n",
       "      <td>1.078504</td>\n",
       "      <td>3.122251</td>\n",
       "      <td>35.506823</td>\n",
       "      <td>11.841528</td>\n",
       "      <td>19.531893</td>\n",
       "      <td>51.210224</td>\n",
       "      <td>0.017682</td>\n",
       "      <td>0.020047</td>\n",
       "      <td>0.173958</td>\n",
       "      <td>...</td>\n",
       "      <td>2.502329</td>\n",
       "      <td>0.020844</td>\n",
       "      <td>0.693842</td>\n",
       "      <td>0.308659</td>\n",
       "      <td>0.118384</td>\n",
       "      <td>0.338192</td>\n",
       "      <td>2.621043</td>\n",
       "      <td>0.537961</td>\n",
       "      <td>8.516169</td>\n",
       "      <td>0.530361</td>\n",
       "    </tr>\n",
       "    <tr>\n",
       "      <th>min</th>\n",
       "      <td>1.400000</td>\n",
       "      <td>7.620000</td>\n",
       "      <td>10.600000</td>\n",
       "      <td>29.000000</td>\n",
       "      <td>0.100000</td>\n",
       "      <td>0.700000</td>\n",
       "      <td>20.900000</td>\n",
       "      <td>0.002000</td>\n",
       "      <td>0.007000</td>\n",
       "      <td>0.022000</td>\n",
       "      <td>...</td>\n",
       "      <td>1.154000</td>\n",
       "      <td>0.002000</td>\n",
       "      <td>0.796000</td>\n",
       "      <td>0.104000</td>\n",
       "      <td>0.001000</td>\n",
       "      <td>0.080000</td>\n",
       "      <td>0.000000</td>\n",
       "      <td>1.500000</td>\n",
       "      <td>0.813000</td>\n",
       "      <td>0.016000</td>\n",
       "    </tr>\n",
       "    <tr>\n",
       "      <th>25%</th>\n",
       "      <td>2.800000</td>\n",
       "      <td>9.367500</td>\n",
       "      <td>16.200000</td>\n",
       "      <td>60.000000</td>\n",
       "      <td>7.475000</td>\n",
       "      <td>9.000000</td>\n",
       "      <td>99.950000</td>\n",
       "      <td>0.019000</td>\n",
       "      <td>0.024000</td>\n",
       "      <td>0.486000</td>\n",
       "      <td>...</td>\n",
       "      <td>6.821750</td>\n",
       "      <td>0.019000</td>\n",
       "      <td>2.190000</td>\n",
       "      <td>0.374000</td>\n",
       "      <td>0.029500</td>\n",
       "      <td>0.348000</td>\n",
       "      <td>3.000000</td>\n",
       "      <td>2.700000</td>\n",
       "      <td>3.132750</td>\n",
       "      <td>0.245000</td>\n",
       "    </tr>\n",
       "    <tr>\n",
       "      <th>50%</th>\n",
       "      <td>3.379000</td>\n",
       "      <td>9.955000</td>\n",
       "      <td>17.900000</td>\n",
       "      <td>80.000000</td>\n",
       "      <td>12.250000</td>\n",
       "      <td>15.750000</td>\n",
       "      <td>131.500000</td>\n",
       "      <td>0.026000</td>\n",
       "      <td>0.032000</td>\n",
       "      <td>0.570500</td>\n",
       "      <td>...</td>\n",
       "      <td>8.391000</td>\n",
       "      <td>0.027000</td>\n",
       "      <td>2.645500</td>\n",
       "      <td>0.535000</td>\n",
       "      <td>0.075000</td>\n",
       "      <td>0.608000</td>\n",
       "      <td>5.000000</td>\n",
       "      <td>3.200000</td>\n",
       "      <td>5.245000</td>\n",
       "      <td>0.632500</td>\n",
       "    </tr>\n",
       "    <tr>\n",
       "      <th>75%</th>\n",
       "      <td>3.957000</td>\n",
       "      <td>10.890000</td>\n",
       "      <td>20.100000</td>\n",
       "      <td>111.562500</td>\n",
       "      <td>19.875000</td>\n",
       "      <td>30.825000</td>\n",
       "      <td>167.700000</td>\n",
       "      <td>0.035000</td>\n",
       "      <td>0.044250</td>\n",
       "      <td>0.699250</td>\n",
       "      <td>...</td>\n",
       "      <td>10.085250</td>\n",
       "      <td>0.038250</td>\n",
       "      <td>2.919250</td>\n",
       "      <td>0.764250</td>\n",
       "      <td>0.145750</td>\n",
       "      <td>0.861750</td>\n",
       "      <td>6.850000</td>\n",
       "      <td>3.400000</td>\n",
       "      <td>8.486500</td>\n",
       "      <td>1.023000</td>\n",
       "    </tr>\n",
       "    <tr>\n",
       "      <th>max</th>\n",
       "      <td>4.600000</td>\n",
       "      <td>12.890000</td>\n",
       "      <td>20.700000</td>\n",
       "      <td>217.500000</td>\n",
       "      <td>88.200000</td>\n",
       "      <td>91.100000</td>\n",
       "      <td>285.100000</td>\n",
       "      <td>0.106000</td>\n",
       "      <td>0.142000</td>\n",
       "      <td>0.975000</td>\n",
       "      <td>...</td>\n",
       "      <td>20.134000</td>\n",
       "      <td>0.163000</td>\n",
       "      <td>4.227000</td>\n",
       "      <td>1.968000</td>\n",
       "      <td>0.765000</td>\n",
       "      <td>1.387000</td>\n",
       "      <td>11.500000</td>\n",
       "      <td>3.900000</td>\n",
       "      <td>49.091000</td>\n",
       "      <td>2.862000</td>\n",
       "    </tr>\n",
       "  </tbody>\n",
       "</table>\n",
       "<p>8 rows × 21 columns</p>\n",
       "</div>"
      ],
      "text/plain": [
       "              PSU          O2       temp.          SS         SRP         DOP  \\\n",
       "count  156.000000  156.000000  156.000000  156.000000  156.000000  156.000000   \n",
       "mean     3.356955   10.180705   17.350000   86.937115   15.035256   22.421154   \n",
       "std      0.758863    1.078504    3.122251   35.506823   11.841528   19.531893   \n",
       "min      1.400000    7.620000   10.600000   29.000000    0.100000    0.700000   \n",
       "25%      2.800000    9.367500   16.200000   60.000000    7.475000    9.000000   \n",
       "50%      3.379000    9.955000   17.900000   80.000000   12.250000   15.750000   \n",
       "75%      3.957000   10.890000   20.100000  111.562500   19.875000   30.825000   \n",
       "max      4.600000   12.890000   20.700000  217.500000   88.200000   91.100000   \n",
       "\n",
       "               PP        NH4N        NO3N         DON  ...       TN/TP  \\\n",
       "count  156.000000  156.000000  156.000000  156.000000  ...  156.000000   \n",
       "mean   134.547436    0.029429    0.037071    0.573897  ...    8.578487   \n",
       "std     51.210224    0.017682    0.020047    0.173958  ...    2.502329   \n",
       "min     20.900000    0.002000    0.007000    0.022000  ...    1.154000   \n",
       "25%     99.950000    0.019000    0.024000    0.486000  ...    6.821750   \n",
       "50%    131.500000    0.026000    0.032000    0.570500  ...    8.391000   \n",
       "75%    167.700000    0.035000    0.044250    0.699250  ...   10.085250   \n",
       "max    285.100000    0.106000    0.142000    0.975000  ...   20.134000   \n",
       "\n",
       "               Fe      SiO4Si  ChlorophyceaeBiomassC  DiatomsBiomassC  \\\n",
       "count  156.000000  156.000000             156.000000       156.000000   \n",
       "mean     0.032135    2.586397               0.592468         0.111782   \n",
       "std      0.020844    0.693842               0.308659         0.118384   \n",
       "min      0.002000    0.796000               0.104000         0.001000   \n",
       "25%      0.019000    2.190000               0.374000         0.029500   \n",
       "50%      0.027000    2.645500               0.535000         0.075000   \n",
       "75%      0.038250    2.919250               0.764250         0.145750   \n",
       "max      0.163000    4.227000               1.968000         0.765000   \n",
       "\n",
       "       PicoplanktonBiomassC  Windspeedinsitu       Depth  DIN to DIP  \\\n",
       "count            156.000000       156.000000  156.000000  156.000000   \n",
       "mean               0.619397         4.985897    3.023718    7.885410   \n",
       "std                0.338192         2.621043    0.537961    8.516169   \n",
       "min                0.080000         0.000000    1.500000    0.813000   \n",
       "25%                0.348000         3.000000    2.700000    3.132750   \n",
       "50%                0.608000         5.000000    3.200000    5.245000   \n",
       "75%                0.861750         6.850000    3.400000    8.486500   \n",
       "max                1.387000        11.500000    3.900000   49.091000   \n",
       "\n",
       "       CyanobacteriaBiomassC  \n",
       "count             156.000000  \n",
       "mean                0.709897  \n",
       "std                 0.530361  \n",
       "min                 0.016000  \n",
       "25%                 0.245000  \n",
       "50%                 0.632500  \n",
       "75%                 1.023000  \n",
       "max                 2.862000  \n",
       "\n",
       "[8 rows x 21 columns]"
      ]
     },
     "execution_count": 6,
     "metadata": {},
     "output_type": "execute_result"
    }
   ],
   "source": [
    "features.describe()"
   ]
  },
  {
   "cell_type": "code",
   "execution_count": 7,
   "metadata": {
    "id": "3wX_SD0jPNsX"
   },
   "outputs": [],
   "source": [
    "import numpy as np\n",
    "\n",
    "labels = np.array(features['CyanobacteriaBiomassC'])\n",
    "features = features.drop('CyanobacteriaBiomassC', axis = 1)\n",
    "feature_list = list(features.columns)\n",
    "features = np.array(features)"
   ]
  },
  {
   "cell_type": "code",
   "execution_count": 8,
   "metadata": {
    "id": "Xs-MWzfUPsAT"
   },
   "outputs": [],
   "source": [
    "from sklearn.model_selection import train_test_split\n",
    "\n",
    "train_features, test_features, train_labels, test_labels = train_test_split(features, labels, test_size=0.3, random_state=42)"
   ]
  },
  {
   "cell_type": "code",
   "execution_count": 9,
   "metadata": {
    "colab": {
     "base_uri": "https://localhost:8080/"
    },
    "id": "ych6nWx8QBOq",
    "outputId": "6eab5a47-6f96-4019-bfd6-5d55de5095c0"
   },
   "outputs": [
    {
     "name": "stdout",
     "output_type": "stream",
     "text": [
      "Training Features Shape: (109, 20)\n",
      "Training Labels Shape: (109,)\n",
      "Testing Features Shape: (47, 20)\n",
      "Testing Labels Shape: (47,)\n"
     ]
    }
   ],
   "source": [
    "print(f'Training Features Shape: {train_features.shape}')\n",
    "print(f'Training Labels Shape: {train_labels.shape}')\n",
    "print(f'Testing Features Shape: {test_features.shape}')\n",
    "print(f'Testing Labels Shape: {test_labels.shape}')"
   ]
  },
  {
   "cell_type": "code",
   "execution_count": 10,
   "metadata": {
    "colab": {
     "base_uri": "https://localhost:8080/"
    },
    "id": "SgB2BLN9QXM4",
    "outputId": "5734f17d-0151-4519-c140-65feae831a02"
   },
   "outputs": [
    {
     "name": "stdout",
     "output_type": "stream",
     "text": [
      "temp. baseline error: 16.729\n"
     ]
    }
   ],
   "source": [
    "baseline_preds = test_features[:,feature_list.index('temp.')]\n",
    "baseline_errors = abs(baseline_preds - test_labels)\n",
    "print(f'temp. baseline error: {round(np.mean(baseline_errors),3)}')"
   ]
  },
  {
   "cell_type": "code",
   "execution_count": 11,
   "metadata": {
    "colab": {
     "base_uri": "https://localhost:8080/",
     "height": 75
    },
    "id": "U2nbBlkBRHKR",
    "outputId": "9b3757ce-e51a-4f08-bcc2-740e8a55c594"
   },
   "outputs": [
    {
     "data": {
      "text/html": [
       "<style>#sk-container-id-1 {color: black;background-color: white;}#sk-container-id-1 pre{padding: 0;}#sk-container-id-1 div.sk-toggleable {background-color: white;}#sk-container-id-1 label.sk-toggleable__label {cursor: pointer;display: block;width: 100%;margin-bottom: 0;padding: 0.3em;box-sizing: border-box;text-align: center;}#sk-container-id-1 label.sk-toggleable__label-arrow:before {content: \"▸\";float: left;margin-right: 0.25em;color: #696969;}#sk-container-id-1 label.sk-toggleable__label-arrow:hover:before {color: black;}#sk-container-id-1 div.sk-estimator:hover label.sk-toggleable__label-arrow:before {color: black;}#sk-container-id-1 div.sk-toggleable__content {max-height: 0;max-width: 0;overflow: hidden;text-align: left;background-color: #f0f8ff;}#sk-container-id-1 div.sk-toggleable__content pre {margin: 0.2em;color: black;border-radius: 0.25em;background-color: #f0f8ff;}#sk-container-id-1 input.sk-toggleable__control:checked~div.sk-toggleable__content {max-height: 200px;max-width: 100%;overflow: auto;}#sk-container-id-1 input.sk-toggleable__control:checked~label.sk-toggleable__label-arrow:before {content: \"▾\";}#sk-container-id-1 div.sk-estimator input.sk-toggleable__control:checked~label.sk-toggleable__label {background-color: #d4ebff;}#sk-container-id-1 div.sk-label input.sk-toggleable__control:checked~label.sk-toggleable__label {background-color: #d4ebff;}#sk-container-id-1 input.sk-hidden--visually {border: 0;clip: rect(1px 1px 1px 1px);clip: rect(1px, 1px, 1px, 1px);height: 1px;margin: -1px;overflow: hidden;padding: 0;position: absolute;width: 1px;}#sk-container-id-1 div.sk-estimator {font-family: monospace;background-color: #f0f8ff;border: 1px dotted black;border-radius: 0.25em;box-sizing: border-box;margin-bottom: 0.5em;}#sk-container-id-1 div.sk-estimator:hover {background-color: #d4ebff;}#sk-container-id-1 div.sk-parallel-item::after {content: \"\";width: 100%;border-bottom: 1px solid gray;flex-grow: 1;}#sk-container-id-1 div.sk-label:hover label.sk-toggleable__label {background-color: #d4ebff;}#sk-container-id-1 div.sk-serial::before {content: \"\";position: absolute;border-left: 1px solid gray;box-sizing: border-box;top: 0;bottom: 0;left: 50%;z-index: 0;}#sk-container-id-1 div.sk-serial {display: flex;flex-direction: column;align-items: center;background-color: white;padding-right: 0.2em;padding-left: 0.2em;position: relative;}#sk-container-id-1 div.sk-item {position: relative;z-index: 1;}#sk-container-id-1 div.sk-parallel {display: flex;align-items: stretch;justify-content: center;background-color: white;position: relative;}#sk-container-id-1 div.sk-item::before, #sk-container-id-1 div.sk-parallel-item::before {content: \"\";position: absolute;border-left: 1px solid gray;box-sizing: border-box;top: 0;bottom: 0;left: 50%;z-index: -1;}#sk-container-id-1 div.sk-parallel-item {display: flex;flex-direction: column;z-index: 1;position: relative;background-color: white;}#sk-container-id-1 div.sk-parallel-item:first-child::after {align-self: flex-end;width: 50%;}#sk-container-id-1 div.sk-parallel-item:last-child::after {align-self: flex-start;width: 50%;}#sk-container-id-1 div.sk-parallel-item:only-child::after {width: 0;}#sk-container-id-1 div.sk-dashed-wrapped {border: 1px dashed gray;margin: 0 0.4em 0.5em 0.4em;box-sizing: border-box;padding-bottom: 0.4em;background-color: white;}#sk-container-id-1 div.sk-label label {font-family: monospace;font-weight: bold;display: inline-block;line-height: 1.2em;}#sk-container-id-1 div.sk-label-container {text-align: center;}#sk-container-id-1 div.sk-container {/* jupyter's `normalize.less` sets `[hidden] { display: none; }` but bootstrap.min.css set `[hidden] { display: none !important; }` so we also need the `!important` here to be able to override the default hidden behavior on the sphinx rendered scikit-learn.org. See: https://github.com/scikit-learn/scikit-learn/issues/21755 */display: inline-block !important;position: relative;}#sk-container-id-1 div.sk-text-repr-fallback {display: none;}</style><div id=\"sk-container-id-1\" class=\"sk-top-container\"><div class=\"sk-text-repr-fallback\"><pre>RandomForestRegressor(n_estimators=1000, random_state=42)</pre><b>In a Jupyter environment, please rerun this cell to show the HTML representation or trust the notebook. <br />On GitHub, the HTML representation is unable to render, please try loading this page with nbviewer.org.</b></div><div class=\"sk-container\" hidden><div class=\"sk-item\"><div class=\"sk-estimator sk-toggleable\"><input class=\"sk-toggleable__control sk-hidden--visually\" id=\"sk-estimator-id-1\" type=\"checkbox\" checked><label for=\"sk-estimator-id-1\" class=\"sk-toggleable__label sk-toggleable__label-arrow\">RandomForestRegressor</label><div class=\"sk-toggleable__content\"><pre>RandomForestRegressor(n_estimators=1000, random_state=42)</pre></div></div></div></div></div>"
      ],
      "text/plain": [
       "RandomForestRegressor(n_estimators=1000, random_state=42)"
      ]
     },
     "execution_count": 11,
     "metadata": {},
     "output_type": "execute_result"
    }
   ],
   "source": [
    "from sklearn.ensemble import RandomForestRegressor\n",
    "\n",
    "rf = RandomForestRegressor(n_estimators = 1000, random_state = 42)\n",
    "\n",
    "rf.fit(train_features, train_labels)"
   ]
  },
  {
   "cell_type": "code",
   "execution_count": 12,
   "metadata": {
    "colab": {
     "base_uri": "https://localhost:8080/"
    },
    "id": "e3Ot9MtbRqmu",
    "outputId": "4d7512c9-b990-4c4b-df68-d3105e518b4a"
   },
   "outputs": [
    {
     "name": "stdout",
     "output_type": "stream",
     "text": [
      "Test dataset Mean Absolute Error: 0.33627 degrees.\n",
      "Train dataset Mean Absolute Error: 0.10398 degrees.\n"
     ]
    }
   ],
   "source": [
    "pred_test = rf.predict(test_features)\n",
    "pred_train = rf.predict(train_features)\n",
    "\n",
    "errors_test = abs(pred_test - test_labels)\n",
    "errors_train = abs(pred_train - train_labels)\n",
    "\n",
    "print(f'Test dataset Mean Absolute Error: {round(np.mean(errors_test), 5)} degrees.')\n",
    "print(f'Train dataset Mean Absolute Error: {round(np.mean(errors_train), 5)} degrees.')"
   ]
  },
  {
   "cell_type": "code",
   "execution_count": 13,
   "metadata": {
    "colab": {
     "base_uri": "https://localhost:8080/"
    },
    "id": "9CXNLoExSS9k",
    "outputId": "5b9e50f8-0dda-4606-b951-1ef8a5fe5ca0"
   },
   "outputs": [
    {
     "name": "stdout",
     "output_type": "stream",
     "text": [
      "Test dataset MAE/mean Ratio: 47.14686 %.\n",
      "Train dataset MAE/mean Ratio: 14.67651 %.\n"
     ]
    }
   ],
   "source": [
    "test_labels.mean()\n",
    "train_labels.mean()\n",
    "\n",
    "ratio_test = 100 * (np.mean(errors_test)/test_labels.mean())\n",
    "ratio_train = 100 * (np.mean(errors_train)/train_labels.mean())\n",
    "\n",
    "print(f'Test dataset MAE/mean Ratio: {round(ratio_test, 5)} %.')\n",
    "print(f'Train dataset MAE/mean Ratio: {round(ratio_train, 5)} %.')"
   ]
  },
  {
   "cell_type": "code",
   "execution_count": 14,
   "metadata": {
    "colab": {
     "base_uri": "https://localhost:8080/"
    },
    "id": "oe0FJc9ES0C0",
    "outputId": "73c5bf1c-aaf1-4e79-8ab4-46a0fc72fd17"
   },
   "outputs": [
    {
     "name": "stdout",
     "output_type": "stream",
     "text": [
      "Test dataset Mean Squared Error: 0.24026 degrees.\n",
      "Train dataset Mean Squared Error: 0.02238 degrees.\n"
     ]
    }
   ],
   "source": [
    "from sklearn.metrics import mean_squared_error, explained_variance_score\n",
    "\n",
    "mse_test = mean_squared_error(test_labels, pred_test)\n",
    "mse_train = mean_squared_error(train_labels, pred_train)\n",
    "\n",
    "print(f'Test dataset Mean Squared Error: {round(mse_test, 5)} degrees.')\n",
    "print(f'Train dataset Mean Squared Error: {round(mse_train, 5)} degrees.')"
   ]
  },
  {
   "cell_type": "code",
   "execution_count": 15,
   "metadata": {
    "colab": {
     "base_uri": "https://localhost:8080/"
    },
    "id": "GLjbRXYXTUUF",
    "outputId": "1b2391c3-8b3b-4585-cada-8d679f822cba"
   },
   "outputs": [
    {
     "name": "stdout",
     "output_type": "stream",
     "text": [
      "Test dataset Explained Variance Score: 15.16741 %.\n",
      "Train dataset Explained Variance Score: 91.97899 %.\n"
     ]
    }
   ],
   "source": [
    "EVS_test = 100 * (explained_variance_score(test_labels, pred_test))\n",
    "EVS_train = 100 * (explained_variance_score(train_labels, pred_train))\n",
    "\n",
    "print(f'Test dataset Explained Variance Score: {round(EVS_test, 5)} %.')\n",
    "print(f'Train dataset Explained Variance Score: {round(EVS_train, 5)} %.')"
   ]
  },
  {
   "cell_type": "code",
   "execution_count": 16,
   "metadata": {
    "colab": {
     "base_uri": "https://localhost:8080/"
    },
    "id": "yxlVzt7IT4p1",
    "outputId": "cff7ce70-4420-493e-b0e3-33c954bb3dcd"
   },
   "outputs": [
    {
     "name": "stdout",
     "output_type": "stream",
     "text": [
      "Test dataset MAPE: 64.329 %.\n",
      "Train dataset MAPE: 28.842 %.\n"
     ]
    }
   ],
   "source": [
    "mape_test = 100 * (errors_test / test_labels)\n",
    "mape_train = 100 * (errors_train / train_labels)\n",
    "\n",
    "print(f'Test dataset MAPE: {round(np.mean(mape_test), 3)} %.')\n",
    "print(f'Train dataset MAPE: {round(np.mean(mape_train), 3)} %.')"
   ]
  },
  {
   "cell_type": "code",
   "execution_count": 17,
   "metadata": {
    "colab": {
     "base_uri": "https://localhost:8080/"
    },
    "id": "p4YDvdZCUNDD",
    "outputId": "609ac633-2d2d-4f19-a768-d51f2f36dfe8"
   },
   "outputs": [
    {
     "name": "stdout",
     "output_type": "stream",
     "text": [
      "Test dataset Accuracy: 35.67 %\n",
      "Train dataset Accuracy: 71.16 %\n"
     ]
    }
   ],
   "source": [
    "acc_test = 100 - np.mean(mape_test)\n",
    "acc_train = 100 - np.mean(mape_train)\n",
    "\n",
    "print(f'Test dataset Accuracy: {round(acc_test,2)} %')\n",
    "print(f'Train dataset Accuracy: {round(acc_train,2)} %')"
   ]
  },
  {
   "cell_type": "code",
   "execution_count": 18,
   "metadata": {
    "colab": {
     "base_uri": "https://localhost:8080/"
    },
    "id": "TPY2WE-qU3jh",
    "outputId": "334dbfae-609d-4a64-80a9-ee1720c1cf2d"
   },
   "outputs": [
    {
     "name": "stdout",
     "output_type": "stream",
     "text": [
      "Variable: NO3N                            Impportance: 0.176\n",
      "Variable: PN                              Impportance: 0.148\n",
      "Variable: NH4N                            Impportance: 0.103\n",
      "Variable: PSU                             Impportance: 0.102\n",
      "Variable: PicoplanktonBiomassC            Impportance: 0.073\n",
      "Variable: DON                             Impportance: 0.06\n",
      "Variable: O2                              Impportance: 0.049\n",
      "Variable: temp.                           Impportance: 0.047\n",
      "Variable: TN/TP                           Impportance: 0.03\n",
      "Variable: SiO4Si                          Impportance: 0.029\n",
      "Variable: ChlorophyceaeBiomassC           Impportance: 0.025\n",
      "Variable: SS                              Impportance: 0.023\n",
      "Variable: Fe                              Impportance: 0.023\n",
      "Variable: Windspeedinsitu                 Impportance: 0.019\n",
      "Variable: DOP                             Impportance: 0.017\n",
      "Variable: DiatomsBiomassC                 Impportance: 0.017\n",
      "Variable: PP                              Impportance: 0.016\n",
      "Variable: Depth                           Impportance: 0.016\n",
      "Variable: DIN to DIP                      Impportance: 0.015\n",
      "Variable: SRP                             Impportance: 0.01\n"
     ]
    }
   ],
   "source": [
    "importances = list(rf.feature_importances_)\n",
    "feature_importances = [(feature, round(importance,3)) for feature, importance in zip(feature_list, importances)]\n",
    "feature_importances = sorted(feature_importances, key = lambda x: x[1], reverse = True)\n",
    "[print(f'Variable: {pair[0]:31} Impportance: {pair[1]}') for pair in feature_importances];"
   ]
  },
  {
   "cell_type": "code",
   "execution_count": 19,
   "metadata": {
    "id": "itWSnuPKWA_8"
   },
   "outputs": [],
   "source": [
    "rf_most_important = RandomForestRegressor(n_estimators= 1000, random_state = 42)\n",
    "important_indices = [feature_list.index('NO3N'), feature_list.index('PN')]\n",
    "train_important = train_features[:, important_indices]\n",
    "test_important = test_features[:, important_indices]"
   ]
  },
  {
   "cell_type": "code",
   "execution_count": 20,
   "metadata": {
    "colab": {
     "base_uri": "https://localhost:8080/"
    },
    "id": "c7E5IlWWWtPY",
    "outputId": "044ed2fe-9ea9-41f9-b3dc-119236153d98"
   },
   "outputs": [
    {
     "name": "stdout",
     "output_type": "stream",
     "text": [
      "Test dataset Mean Absolute Error: 0.48901 degrees.\n",
      "Train dataset Mean Absolute Error: 0.12003 degrees.\n"
     ]
    }
   ],
   "source": [
    "rf_most_important.fit(train_important, train_labels)\n",
    "\n",
    "pred_test_imp = rf_most_important.predict(test_important)\n",
    "pred_train_imp = rf_most_important.predict(train_important)\n",
    "\n",
    "err_test_imp = abs(pred_test_imp - test_labels)\n",
    "err_train_imp = abs(pred_train_imp - train_labels)\n",
    "\n",
    "print(f'Test dataset Mean Absolute Error: {round(np.mean(err_test_imp), 5)} degrees.')\n",
    "print(f'Train dataset Mean Absolute Error: {round(np.mean(err_train_imp), 5)} degrees.')"
   ]
  },
  {
   "cell_type": "code",
   "execution_count": 21,
   "metadata": {
    "colab": {
     "base_uri": "https://localhost:8080/"
    },
    "id": "aRqiUHEwXS-p",
    "outputId": "da7fee6a-f239-43b2-c2c3-e31bdcd5be82"
   },
   "outputs": [
    {
     "name": "stdout",
     "output_type": "stream",
     "text": [
      "Test dataset MAE/mean Ratio: 68.56291 %.\n",
      "Train dataset MAE/mean Ratio: 16.94272 %.\n"
     ]
    }
   ],
   "source": [
    "test_labels.mean()\n",
    "train_labels.mean()\n",
    "\n",
    "ratio_test_imp = 100 * (np.mean(err_test_imp)/test_labels.mean())\n",
    "ratio_train_imp = 100 * (np.mean(err_train_imp)/train_labels.mean())\n",
    "\n",
    "print(f'Test dataset MAE/mean Ratio: {round(ratio_test_imp, 5)} %.')\n",
    "print(f'Train dataset MAE/mean Ratio: {round(ratio_train_imp, 5)} %.')"
   ]
  },
  {
   "cell_type": "code",
   "execution_count": 22,
   "metadata": {
    "colab": {
     "base_uri": "https://localhost:8080/"
    },
    "id": "l9BdmzPUXgKu",
    "outputId": "0e193d26-0e8b-49e2-c739-dd6821c4af25"
   },
   "outputs": [
    {
     "name": "stdout",
     "output_type": "stream",
     "text": [
      "Test dataset Mean Squared Error: 0.39563 degrees.\n",
      "Train dataset Mean Squared Error: 0.02804 degrees.\n"
     ]
    }
   ],
   "source": [
    "mse_test_imp = mean_squared_error(test_labels, pred_test_imp)\n",
    "mse_train_imp = mean_squared_error(train_labels, pred_train_imp)\n",
    "\n",
    "print(f'Test dataset Mean Squared Error: {round(mse_test_imp, 5)} degrees.')\n",
    "print(f'Train dataset Mean Squared Error: {round(mse_train_imp, 5)} degrees.')"
   ]
  },
  {
   "cell_type": "code",
   "execution_count": 23,
   "metadata": {
    "colab": {
     "base_uri": "https://localhost:8080/"
    },
    "id": "7-cSDicEXqZR",
    "outputId": "2cb411e5-916a-486c-e0cb-9ac067a9628d"
   },
   "outputs": [
    {
     "name": "stdout",
     "output_type": "stream",
     "text": [
      "Test dataset Explained Variance Score: -39.58815 %.\n",
      "Train dataset Explained Variance Score: 89.92171 %.\n"
     ]
    }
   ],
   "source": [
    "EVS_test_imp = 100 * (explained_variance_score(test_labels, pred_test_imp))\n",
    "EVS_train_imp = 100 * (explained_variance_score(train_labels, pred_train_imp))\n",
    "\n",
    "print(f'Test dataset Explained Variance Score: {round(EVS_test_imp, 5)} %.')\n",
    "print(f'Train dataset Explained Variance Score: {round(EVS_train_imp, 5)} %.')"
   ]
  },
  {
   "cell_type": "code",
   "execution_count": 24,
   "metadata": {
    "colab": {
     "base_uri": "https://localhost:8080/"
    },
    "id": "kI2r1swMX7Nc",
    "outputId": "df8a2065-74f4-4cf4-8f93-96e33798defe"
   },
   "outputs": [
    {
     "name": "stdout",
     "output_type": "stream",
     "text": [
      "Test dataset Accuracy: -6.07 %\n",
      "Train dataset Accuracy: 62.97 %\n"
     ]
    }
   ],
   "source": [
    "mape_test_imp = np.mean(100 * (err_test_imp / test_labels))\n",
    "mape_train_imp = np.mean(100 * (err_train_imp / train_labels))\n",
    "acc_test_imp = 100 - mape_test_imp\n",
    "acc_train_imp = 100 - mape_train_imp\n",
    "\n",
    "print(f'Test dataset Accuracy: {round(acc_test_imp,2)} %')\n",
    "print(f'Train dataset Accuracy: {round(acc_train_imp,2)} %')"
   ]
  },
  {
   "cell_type": "code",
   "execution_count": 25,
   "metadata": {
    "colab": {
     "base_uri": "https://localhost:8080/",
     "height": 747
    },
    "id": "05ClpAd7ZR4x",
    "outputId": "942d4c15-536b-4c16-db3f-82a4614a59cb"
   },
   "outputs": [
    {
     "data": {
      "text/plain": [
       "Text(0.5, 1.0, 'Cumulative Importances')"
      ]
     },
     "execution_count": 25,
     "metadata": {},
     "output_type": "execute_result"
    },
    {
     "data": {
      "image/png": "[encoded data removed]",
      "text/plain": [
       "<Figure size 640x480 with 1 Axes>"
      ]
     },
     "metadata": {},
     "output_type": "display_data"
    }
   ],
   "source": [
    "import matplotlib.pyplot as plt\n",
    "\n",
    "plt.style.use('fivethirtyeight')\n",
    "\n",
    "x_values = list(range(len(importances)))\n",
    "\n",
    "plt.bar(x_values, importances, orientation = 'vertical')\n",
    "plt.xticks(x_values, feature_list, rotation='vertical')\n",
    "plt.ylabel('Importances')\n",
    "plt.xlabel('Variable')\n",
    "plt.title('Variable Importances')\n",
    "\n",
    "sorted_importances = [importance[1] for importance in feature_importances]\n",
    "sorted_features = [importance[0] for importance in feature_importances]\n",
    "\n",
    "cumulative_importances = np.cumsum(sorted_importances)\n",
    "\n",
    "plt.plot(x_values, cumulative_importances, 'g-')\n",
    "plt.hlines(y=0.9, xmin=0, xmax=len(sorted_importances), color = 'r', linestyles = 'dashed')\n",
    "plt.xticks(x_values, sorted_features, rotation= 'vertical')\n",
    "plt.ylabel('Cumulative Importances')\n",
    "plt.xlabel('Variable')\n",
    "plt.title('Cumulative Importances')"
   ]
  },
  {
   "cell_type": "code",
   "execution_count": 26,
   "metadata": {
    "id": "MPgyv4_Va7so"
   },
   "outputs": [],
   "source": [
    "important_feature_names = ['NO3N','PN','NH4N','PSU','PicoplanktonBiomassC','DON','O2','temp.','TN/TP','SiO4Si','ChlorophyceaeBiomassC','SS',  \n",
    "                           'Fe','Windspeedinsitu','DOP','DiatomsBiomassC','PP','Depth']"
   ]
  },
  {
   "cell_type": "code",
   "execution_count": 27,
   "metadata": {
    "id": "bMqwN4zjbxjh"
   },
   "outputs": [],
   "source": [
    "important_indices = [feature_list.index(feature) for feature in important_feature_names]"
   ]
  },
  {
   "cell_type": "code",
   "execution_count": 28,
   "metadata": {
    "id": "VHsYl57Rb-_L"
   },
   "outputs": [],
   "source": [
    "imp_train_features = train_features[:,important_indices]\n",
    "imp_test_features = test_features[:,important_indices]"
   ]
  },
  {
   "cell_type": "code",
   "execution_count": 29,
   "metadata": {
    "colab": {
     "base_uri": "https://localhost:8080/"
    },
    "id": "w9pNQdb2cJhX",
    "outputId": "9700e720-79d4-467c-9278-24cbb7960127"
   },
   "outputs": [
    {
     "name": "stdout",
     "output_type": "stream",
     "text": [
      "Important train feature shape: (109, 18)\n",
      "Important test feature shape: (47, 18)\n"
     ]
    }
   ],
   "source": [
    "print(f'Important train feature shape: {imp_train_features.shape}')\n",
    "print(f'Important test feature shape: {imp_test_features.shape}')"
   ]
  },
  {
   "cell_type": "code",
   "execution_count": 30,
   "metadata": {
    "id": "t8tyS68QcZVV"
   },
   "outputs": [],
   "source": [
    "train_features = imp_train_features[:]\n",
    "test_features = imp_test_features[:]\n",
    "feature_list = important_feature_names[:]"
   ]
  },
  {
   "cell_type": "code",
   "execution_count": 31,
   "metadata": {
    "colab": {
     "base_uri": "https://localhost:8080/",
     "height": 75
    },
    "id": "amuPRt8lc7kB",
    "outputId": "f213bda4-d626-4a23-82b6-8d6a3c4dbf66"
   },
   "outputs": [
    {
     "data": {
      "text/html": [
       "<style>#sk-container-id-2 {color: black;background-color: white;}#sk-container-id-2 pre{padding: 0;}#sk-container-id-2 div.sk-toggleable {background-color: white;}#sk-container-id-2 label.sk-toggleable__label {cursor: pointer;display: block;width: 100%;margin-bottom: 0;padding: 0.3em;box-sizing: border-box;text-align: center;}#sk-container-id-2 label.sk-toggleable__label-arrow:before {content: \"▸\";float: left;margin-right: 0.25em;color: #696969;}#sk-container-id-2 label.sk-toggleable__label-arrow:hover:before {color: black;}#sk-container-id-2 div.sk-estimator:hover label.sk-toggleable__label-arrow:before {color: black;}#sk-container-id-2 div.sk-toggleable__content {max-height: 0;max-width: 0;overflow: hidden;text-align: left;background-color: #f0f8ff;}#sk-container-id-2 div.sk-toggleable__content pre {margin: 0.2em;color: black;border-radius: 0.25em;background-color: #f0f8ff;}#sk-container-id-2 input.sk-toggleable__control:checked~div.sk-toggleable__content {max-height: 200px;max-width: 100%;overflow: auto;}#sk-container-id-2 input.sk-toggleable__control:checked~label.sk-toggleable__label-arrow:before {content: \"▾\";}#sk-container-id-2 div.sk-estimator input.sk-toggleable__control:checked~label.sk-toggleable__label {background-color: #d4ebff;}#sk-container-id-2 div.sk-label input.sk-toggleable__control:checked~label.sk-toggleable__label {background-color: #d4ebff;}#sk-container-id-2 input.sk-hidden--visually {border: 0;clip: rect(1px 1px 1px 1px);clip: rect(1px, 1px, 1px, 1px);height: 1px;margin: -1px;overflow: hidden;padding: 0;position: absolute;width: 1px;}#sk-container-id-2 div.sk-estimator {font-family: monospace;background-color: #f0f8ff;border: 1px dotted black;border-radius: 0.25em;box-sizing: border-box;margin-bottom: 0.5em;}#sk-container-id-2 div.sk-estimator:hover {background-color: #d4ebff;}#sk-container-id-2 div.sk-parallel-item::after {content: \"\";width: 100%;border-bottom: 1px solid gray;flex-grow: 1;}#sk-container-id-2 div.sk-label:hover label.sk-toggleable__label {background-color: #d4ebff;}#sk-container-id-2 div.sk-serial::before {content: \"\";position: absolute;border-left: 1px solid gray;box-sizing: border-box;top: 0;bottom: 0;left: 50%;z-index: 0;}#sk-container-id-2 div.sk-serial {display: flex;flex-direction: column;align-items: center;background-color: white;padding-right: 0.2em;padding-left: 0.2em;position: relative;}#sk-container-id-2 div.sk-item {position: relative;z-index: 1;}#sk-container-id-2 div.sk-parallel {display: flex;align-items: stretch;justify-content: center;background-color: white;position: relative;}#sk-container-id-2 div.sk-item::before, #sk-container-id-2 div.sk-parallel-item::before {content: \"\";position: absolute;border-left: 1px solid gray;box-sizing: border-box;top: 0;bottom: 0;left: 50%;z-index: -1;}#sk-container-id-2 div.sk-parallel-item {display: flex;flex-direction: column;z-index: 1;position: relative;background-color: white;}#sk-container-id-2 div.sk-parallel-item:first-child::after {align-self: flex-end;width: 50%;}#sk-container-id-2 div.sk-parallel-item:last-child::after {align-self: flex-start;width: 50%;}#sk-container-id-2 div.sk-parallel-item:only-child::after {width: 0;}#sk-container-id-2 div.sk-dashed-wrapped {border: 1px dashed gray;margin: 0 0.4em 0.5em 0.4em;box-sizing: border-box;padding-bottom: 0.4em;background-color: white;}#sk-container-id-2 div.sk-label label {font-family: monospace;font-weight: bold;display: inline-block;line-height: 1.2em;}#sk-container-id-2 div.sk-label-container {text-align: center;}#sk-container-id-2 div.sk-container {/* jupyter's `normalize.less` sets `[hidden] { display: none; }` but bootstrap.min.css set `[hidden] { display: none !important; }` so we also need the `!important` here to be able to override the default hidden behavior on the sphinx rendered scikit-learn.org. See: https://github.com/scikit-learn/scikit-learn/issues/21755 */display: inline-block !important;position: relative;}#sk-container-id-2 div.sk-text-repr-fallback {display: none;}</style><div id=\"sk-container-id-2\" class=\"sk-top-container\"><div class=\"sk-text-repr-fallback\"><pre>RandomForestRegressor(random_state=42)</pre><b>In a Jupyter environment, please rerun this cell to show the HTML representation or trust the notebook. <br />On GitHub, the HTML representation is unable to render, please try loading this page with nbviewer.org.</b></div><div class=\"sk-container\" hidden><div class=\"sk-item\"><div class=\"sk-estimator sk-toggleable\"><input class=\"sk-toggleable__control sk-hidden--visually\" id=\"sk-estimator-id-2\" type=\"checkbox\" checked><label for=\"sk-estimator-id-2\" class=\"sk-toggleable__label sk-toggleable__label-arrow\">RandomForestRegressor</label><div class=\"sk-toggleable__content\"><pre>RandomForestRegressor(random_state=42)</pre></div></div></div></div></div>"
      ],
      "text/plain": [
       "RandomForestRegressor(random_state=42)"
      ]
     },
     "execution_count": 31,
     "metadata": {},
     "output_type": "execute_result"
    }
   ],
   "source": [
    "rf = RandomForestRegressor(n_estimators = 100, random_state = 42)\n",
    "rf.fit(train_features, train_labels)"
   ]
  },
  {
   "cell_type": "code",
   "execution_count": 32,
   "metadata": {
    "colab": {
     "base_uri": "https://localhost:8080/"
    },
    "id": "hqOlQIyedGJv",
    "outputId": "ba4ee73a-b287-47df-b271-8ce5903c6980"
   },
   "outputs": [
    {
     "name": "stdout",
     "output_type": "stream",
     "text": [
      "Test dataset Mean Absolute Error: 0.35589 degrees.\n",
      "Train dataset Mean Absolute Error: 0.1039 degrees.\n"
     ]
    }
   ],
   "source": [
    "pred_test = rf.predict(test_features)\n",
    "pred_train = rf.predict(train_features)\n",
    "\n",
    "errors_test = abs(pred_test - test_labels)\n",
    "errors_train = abs(pred_train - train_labels)\n",
    "\n",
    "print(f'Test dataset Mean Absolute Error: {round(np.mean(errors_test), 5)} degrees.')\n",
    "print(f'Train dataset Mean Absolute Error: {round(np.mean(errors_train), 5)} degrees.')"
   ]
  },
  {
   "cell_type": "code",
   "execution_count": 33,
   "metadata": {
    "colab": {
     "base_uri": "https://localhost:8080/"
    },
    "id": "0PvXypcHdVTq",
    "outputId": "2c0a1107-5f2d-46f1-e0a4-fdfa9092b4cc"
   },
   "outputs": [
    {
     "name": "stdout",
     "output_type": "stream",
     "text": [
      "Test dataset MAE/mean Ratio: 49.89741 %.\n",
      "Train dataset MAE/mean Ratio: 14.66561 %.\n"
     ]
    }
   ],
   "source": [
    "test_labels.mean()\n",
    "train_labels.mean()\n",
    "\n",
    "ratio_test = 100 * (np.mean(errors_test)/test_labels.mean())\n",
    "ratio_train = 100 * (np.mean(errors_train)/train_labels.mean())\n",
    "\n",
    "print(f'Test dataset MAE/mean Ratio: {round(ratio_test, 5)} %.')\n",
    "print(f'Train dataset MAE/mean Ratio: {round(ratio_train, 5)} %.')"
   ]
  },
  {
   "cell_type": "code",
   "execution_count": 34,
   "metadata": {
    "colab": {
     "base_uri": "https://localhost:8080/"
    },
    "id": "KKC0JrBAdbNL",
    "outputId": "944e62b0-668f-4d42-8760-2a6e6dfb0fe5"
   },
   "outputs": [
    {
     "name": "stdout",
     "output_type": "stream",
     "text": [
      "Test dataset Mean Squared Error: 0.26009 degrees.\n",
      "Train dataset Mean Squared Error: 0.02342 degrees.\n"
     ]
    }
   ],
   "source": [
    "mse_test = mean_squared_error(test_labels, pred_test)\n",
    "mse_train = mean_squared_error(train_labels, pred_train)\n",
    "\n",
    "print(f'Test dataset Mean Squared Error: {round(mse_test, 5)} degrees.')\n",
    "print(f'Train dataset Mean Squared Error: {round(mse_train, 5)} degrees.')"
   ]
  },
  {
   "cell_type": "code",
   "execution_count": 35,
   "metadata": {
    "colab": {
     "base_uri": "https://localhost:8080/"
    },
    "id": "FsW0lIX4djOy",
    "outputId": "3d6fc56e-0018-4be7-e480-b4c0bacb2b72"
   },
   "outputs": [
    {
     "name": "stdout",
     "output_type": "stream",
     "text": [
      "Test dataset Explained Variance Score: 8.2321 %.\n",
      "Train dataset Explained Variance Score: 91.59557 %.\n"
     ]
    }
   ],
   "source": [
    "EVS_test = 100 * (explained_variance_score(test_labels, pred_test))\n",
    "EVS_train = 100 * (explained_variance_score(train_labels, pred_train))\n",
    "\n",
    "print(f'Test dataset Explained Variance Score: {round(EVS_test, 5)} %.')\n",
    "print(f'Train dataset Explained Variance Score: {round(EVS_train, 5)} %.')"
   ]
  },
  {
   "cell_type": "code",
   "execution_count": 36,
   "metadata": {
    "colab": {
     "base_uri": "https://localhost:8080/"
    },
    "id": "sif1z5fcdwRy",
    "outputId": "61a3910d-95af-4841-f7b1-b7afca086e94"
   },
   "outputs": [
    {
     "name": "stdout",
     "output_type": "stream",
     "text": [
      "Test dataset MAPE: 70.801 %.\n",
      "Train dataset MAPE: 30.498 %.\n"
     ]
    }
   ],
   "source": [
    "mape_test = 100 * (errors_test / test_labels)\n",
    "mape_train = 100 * (errors_train / train_labels)\n",
    "\n",
    "print(f'Test dataset MAPE: {round(np.mean(mape_test), 3)} %.')\n",
    "print(f'Train dataset MAPE: {round(np.mean(mape_train), 3)} %.')"
   ]
  },
  {
   "cell_type": "code",
   "execution_count": 37,
   "metadata": {
    "colab": {
     "base_uri": "https://localhost:8080/"
    },
    "id": "HGDsRH_ddxBt",
    "outputId": "09d0b9f6-e5cf-4a4e-964d-3aa96d7d8092"
   },
   "outputs": [
    {
     "name": "stdout",
     "output_type": "stream",
     "text": [
      "Test dataset Accuracy: 29.2 %\n",
      "Train dataset Accuracy: 69.5 %\n"
     ]
    }
   ],
   "source": [
    "acc_test = 100 - np.mean(mape_test)\n",
    "acc_train = 100 - np.mean(mape_train)\n",
    "\n",
    "print(f'Test dataset Accuracy: {round(acc_test,2)} %')\n",
    "print(f'Train dataset Accuracy: {round(acc_train,2)} %')"
   ]
  },
  {
   "cell_type": "code",
   "execution_count": 38,
   "metadata": {
    "id": "4nJKSojOd48A"
   },
   "outputs": [],
   "source": [
    "from sklearn.tree import export_graphviz\n",
    "\n",
    "rf_small = RandomForestRegressor(n_estimators = 10, max_depth= 3, min_samples_leaf=16)\n",
    "rf_small.fit(train_features, train_labels)\n",
    "\n",
    "tree_small = rf_small.estimators_[5]\n",
    "\n",
    "export_graphviz(tree_small, out_file = 'small_tree.dot', feature_names = important_feature_names, rounded = True, precision = 3)"
   ]
  },
  {
   "cell_type": "code",
   "execution_count": 39,
   "metadata": {
    "colab": {
     "base_uri": "https://localhost:8080/"
    },
    "id": "_yDf5Ir6e-gP",
    "outputId": "b8c85f42-88af-4e43-9bdf-6867d1c951ae"
   },
   "outputs": [
    {
     "name": "stdout",
     "output_type": "stream",
     "text": [
      "Parameters currently in use:\n",
      "\n",
      "{'bootstrap': True,\n",
      " 'ccp_alpha': 0.0,\n",
      " 'criterion': 'squared_error',\n",
      " 'max_depth': None,\n",
      " 'max_features': 1.0,\n",
      " 'max_leaf_nodes': None,\n",
      " 'max_samples': None,\n",
      " 'min_impurity_decrease': 0.0,\n",
      " 'min_samples_leaf': 1,\n",
      " 'min_samples_split': 2,\n",
      " 'min_weight_fraction_leaf': 0.0,\n",
      " 'n_estimators': 100,\n",
      " 'n_jobs': None,\n",
      " 'oob_score': False,\n",
      " 'random_state': 42,\n",
      " 'verbose': 0,\n",
      " 'warm_start': False}\n"
     ]
    }
   ],
   "source": [
    "rf = RandomForestRegressor(random_state = 42)\n",
    "from pprint import pprint\n",
    "\n",
    "print('Parameters currently in use:\\n')\n",
    "pprint(rf.get_params())"
   ]
  },
  {
   "cell_type": "code",
   "execution_count": 40,
   "metadata": {
    "colab": {
     "base_uri": "https://localhost:8080/"
    },
    "id": "HvV4nK6-fQVv",
    "outputId": "286403a3-fe5e-4d2f-f115-38d65b4f3842"
   },
   "outputs": [
    {
     "name": "stdout",
     "output_type": "stream",
     "text": [
      "{'bootstrap': [True, False],\n",
      " 'max_depth': [10, 20, 30, 40, 50, 60, 70, 80, 90, 100, 110, None],\n",
      " 'max_features': ['auto', 'sqrt'],\n",
      " 'min_samples_leaf': [1, 2, 4],\n",
      " 'min_samples_split': [2, 5, 10],\n",
      " 'n_estimators': [200, 400, 600, 800, 1000, 1200, 1400, 1600, 1800, 2000]}\n"
     ]
    }
   ],
   "source": [
    "from sklearn.model_selection import RandomizedSearchCV\n",
    "\n",
    "n_estimators = [int(x) for x in np.linspace(start = 200, stop = 2000, num=10)]\n",
    "max_features = ['auto','sqrt']\n",
    "max_depth = [int(x) for x in np.linspace(10,110, num=11)]\n",
    "max_depth.append(None)\n",
    "min_samples_split = [2,5,10]\n",
    "min_samples_leaf = [1,2,4]\n",
    "boostrap = [True, False]\n",
    "random_grid = {'n_estimators': n_estimators,\n",
    "               'max_features': max_features,\n",
    "               'max_depth': max_depth,\n",
    "               'min_samples_split': min_samples_split,\n",
    "               'min_samples_leaf': min_samples_leaf,\n",
    "               'bootstrap':boostrap}\n",
    "pprint(random_grid)"
   ]
  },
  {
   "cell_type": "code",
   "execution_count": 41,
   "metadata": {
    "colab": {
     "base_uri": "https://localhost:8080/"
    },
    "id": "wGktewX6gnlt",
    "outputId": "90a57df1-b9f6-4b89-e717-06fcf11288b5"
   },
   "outputs": [
    {
     "name": "stdout",
     "output_type": "stream",
     "text": [
      "Fitting 3 folds for each of 100 candidates, totalling 300 fits\n"
     ]
    },
    {
     "data": {
      "text/html": [
       "<style>#sk-container-id-3 {color: black;background-color: white;}#sk-container-id-3 pre{padding: 0;}#sk-container-id-3 div.sk-toggleable {background-color: white;}#sk-container-id-3 label.sk-toggleable__label {cursor: pointer;display: block;width: 100%;margin-bottom: 0;padding: 0.3em;box-sizing: border-box;text-align: center;}#sk-container-id-3 label.sk-toggleable__label-arrow:before {content: \"▸\";float: left;margin-right: 0.25em;color: #696969;}#sk-container-id-3 label.sk-toggleable__label-arrow:hover:before {color: black;}#sk-container-id-3 div.sk-estimator:hover label.sk-toggleable__label-arrow:before {color: black;}#sk-container-id-3 div.sk-toggleable__content {max-height: 0;max-width: 0;overflow: hidden;text-align: left;background-color: #f0f8ff;}#sk-container-id-3 div.sk-toggleable__content pre {margin: 0.2em;color: black;border-radius: 0.25em;background-color: #f0f8ff;}#sk-container-id-3 input.sk-toggleable__control:checked~div.sk-toggleable__content {max-height: 200px;max-width: 100%;overflow: auto;}#sk-container-id-3 input.sk-toggleable__control:checked~label.sk-toggleable__label-arrow:before {content: \"▾\";}#sk-container-id-3 div.sk-estimator input.sk-toggleable__control:checked~label.sk-toggleable__label {background-color: #d4ebff;}#sk-container-id-3 div.sk-label input.sk-toggleable__control:checked~label.sk-toggleable__label {background-color: #d4ebff;}#sk-container-id-3 input.sk-hidden--visually {border: 0;clip: rect(1px 1px 1px 1px);clip: rect(1px, 1px, 1px, 1px);height: 1px;margin: -1px;overflow: hidden;padding: 0;position: absolute;width: 1px;}#sk-container-id-3 div.sk-estimator {font-family: monospace;background-color: #f0f8ff;border: 1px dotted black;border-radius: 0.25em;box-sizing: border-box;margin-bottom: 0.5em;}#sk-container-id-3 div.sk-estimator:hover {background-color: #d4ebff;}#sk-container-id-3 div.sk-parallel-item::after {content: \"\";width: 100%;border-bottom: 1px solid gray;flex-grow: 1;}#sk-container-id-3 div.sk-label:hover label.sk-toggleable__label {background-color: #d4ebff;}#sk-container-id-3 div.sk-serial::before {content: \"\";position: absolute;border-left: 1px solid gray;box-sizing: border-box;top: 0;bottom: 0;left: 50%;z-index: 0;}#sk-container-id-3 div.sk-serial {display: flex;flex-direction: column;align-items: center;background-color: white;padding-right: 0.2em;padding-left: 0.2em;position: relative;}#sk-container-id-3 div.sk-item {position: relative;z-index: 1;}#sk-container-id-3 div.sk-parallel {display: flex;align-items: stretch;justify-content: center;background-color: white;position: relative;}#sk-container-id-3 div.sk-item::before, #sk-container-id-3 div.sk-parallel-item::before {content: \"\";position: absolute;border-left: 1px solid gray;box-sizing: border-box;top: 0;bottom: 0;left: 50%;z-index: -1;}#sk-container-id-3 div.sk-parallel-item {display: flex;flex-direction: column;z-index: 1;position: relative;background-color: white;}#sk-container-id-3 div.sk-parallel-item:first-child::after {align-self: flex-end;width: 50%;}#sk-container-id-3 div.sk-parallel-item:last-child::after {align-self: flex-start;width: 50%;}#sk-container-id-3 div.sk-parallel-item:only-child::after {width: 0;}#sk-container-id-3 div.sk-dashed-wrapped {border: 1px dashed gray;margin: 0 0.4em 0.5em 0.4em;box-sizing: border-box;padding-bottom: 0.4em;background-color: white;}#sk-container-id-3 div.sk-label label {font-family: monospace;font-weight: bold;display: inline-block;line-height: 1.2em;}#sk-container-id-3 div.sk-label-container {text-align: center;}#sk-container-id-3 div.sk-container {/* jupyter's `normalize.less` sets `[hidden] { display: none; }` but bootstrap.min.css set `[hidden] { display: none !important; }` so we also need the `!important` here to be able to override the default hidden behavior on the sphinx rendered scikit-learn.org. See: https://github.com/scikit-learn/scikit-learn/issues/21755 */display: inline-block !important;position: relative;}#sk-container-id-3 div.sk-text-repr-fallback {display: none;}</style><div id=\"sk-container-id-3\" class=\"sk-top-container\"><div class=\"sk-text-repr-fallback\"><pre>RandomizedSearchCV(cv=3, estimator=RandomForestRegressor(), n_iter=100,\n",
       "                   n_jobs=-1,\n",
       "                   param_distributions={&#x27;bootstrap&#x27;: [True, False],\n",
       "                                        &#x27;max_depth&#x27;: [10, 20, 30, 40, 50, 60,\n",
       "                                                      70, 80, 90, 100, 110,\n",
       "                                                      None],\n",
       "                                        &#x27;max_features&#x27;: [&#x27;auto&#x27;, &#x27;sqrt&#x27;],\n",
       "                                        &#x27;min_samples_leaf&#x27;: [1, 2, 4],\n",
       "                                        &#x27;min_samples_split&#x27;: [2, 5, 10],\n",
       "                                        &#x27;n_estimators&#x27;: [200, 400, 600, 800,\n",
       "                                                         1000, 1200, 1400, 1600,\n",
       "                                                         1800, 2000]},\n",
       "                   random_state=42, verbose=2)</pre><b>In a Jupyter environment, please rerun this cell to show the HTML representation or trust the notebook. <br />On GitHub, the HTML representation is unable to render, please try loading this page with nbviewer.org.</b></div><div class=\"sk-container\" hidden><div class=\"sk-item sk-dashed-wrapped\"><div class=\"sk-label-container\"><div class=\"sk-label sk-toggleable\"><input class=\"sk-toggleable__control sk-hidden--visually\" id=\"sk-estimator-id-3\" type=\"checkbox\" ><label for=\"sk-estimator-id-3\" class=\"sk-toggleable__label sk-toggleable__label-arrow\">RandomizedSearchCV</label><div class=\"sk-toggleable__content\"><pre>RandomizedSearchCV(cv=3, estimator=RandomForestRegressor(), n_iter=100,\n",
       "                   n_jobs=-1,\n",
       "                   param_distributions={&#x27;bootstrap&#x27;: [True, False],\n",
       "                                        &#x27;max_depth&#x27;: [10, 20, 30, 40, 50, 60,\n",
       "                                                      70, 80, 90, 100, 110,\n",
       "                                                      None],\n",
       "                                        &#x27;max_features&#x27;: [&#x27;auto&#x27;, &#x27;sqrt&#x27;],\n",
       "                                        &#x27;min_samples_leaf&#x27;: [1, 2, 4],\n",
       "                                        &#x27;min_samples_split&#x27;: [2, 5, 10],\n",
       "                                        &#x27;n_estimators&#x27;: [200, 400, 600, 800,\n",
       "                                                         1000, 1200, 1400, 1600,\n",
       "                                                         1800, 2000]},\n",
       "                   random_state=42, verbose=2)</pre></div></div></div><div class=\"sk-parallel\"><div class=\"sk-parallel-item\"><div class=\"sk-item\"><div class=\"sk-label-container\"><div class=\"sk-label sk-toggleable\"><input class=\"sk-toggleable__control sk-hidden--visually\" id=\"sk-estimator-id-4\" type=\"checkbox\" ><label for=\"sk-estimator-id-4\" class=\"sk-toggleable__label sk-toggleable__label-arrow\">estimator: RandomForestRegressor</label><div class=\"sk-toggleable__content\"><pre>RandomForestRegressor()</pre></div></div></div><div class=\"sk-serial\"><div class=\"sk-item\"><div class=\"sk-estimator sk-toggleable\"><input class=\"sk-toggleable__control sk-hidden--visually\" id=\"sk-estimator-id-5\" type=\"checkbox\" ><label for=\"sk-estimator-id-5\" class=\"sk-toggleable__label sk-toggleable__label-arrow\">RandomForestRegressor</label><div class=\"sk-toggleable__content\"><pre>RandomForestRegressor()</pre></div></div></div></div></div></div></div></div></div></div>"
      ],
      "text/plain": [
       "RandomizedSearchCV(cv=3, estimator=RandomForestRegressor(), n_iter=100,\n",
       "                   n_jobs=-1,\n",
       "                   param_distributions={'bootstrap': [True, False],\n",
       "                                        'max_depth': [10, 20, 30, 40, 50, 60,\n",
       "                                                      70, 80, 90, 100, 110,\n",
       "                                                      None],\n",
       "                                        'max_features': ['auto', 'sqrt'],\n",
       "                                        'min_samples_leaf': [1, 2, 4],\n",
       "                                        'min_samples_split': [2, 5, 10],\n",
       "                                        'n_estimators': [200, 400, 600, 800,\n",
       "                                                         1000, 1200, 1400, 1600,\n",
       "                                                         1800, 2000]},\n",
       "                   random_state=42, verbose=2)"
      ]
     },
     "execution_count": 41,
     "metadata": {},
     "output_type": "execute_result"
    }
   ],
   "source": [
    "rf = RandomForestRegressor()\n",
    "rf_random = RandomizedSearchCV(estimator = rf, param_distributions= random_grid, n_iter=100, cv=3, verbose=2, random_state=42, n_jobs=-1)\n",
    "rf_random.fit(train_features, train_labels)"
   ]
  },
  {
   "cell_type": "code",
   "execution_count": 42,
   "metadata": {
    "id": "pmrrTFQYhZ1Q"
   },
   "outputs": [],
   "source": [
    "def evaluate(model, test_features, test_labels):\n",
    "  pred = model.predict(test_features)\n",
    "  err = abs(pred - test_labels)\n",
    "  ratio = 100 * (np.mean(err)/test_labels.mean())\n",
    "  mse_test = mean_squared_error(test_labels, pred)\n",
    "  EVS = 100 * (explained_variance_score(test_labels, pred))\n",
    "  mape = 100 * np.mean(err/test_labels)\n",
    "  acc = 100 - mape\n",
    "  print('Test dataset Model Performance')\n",
    "  print(f'Test dataset Mean Absolute Error: {round(np.mean(err), 5)} degrees.')\n",
    "  print(f'Test dataset MAE/mean Ratio: {round(ratio, 5)} %.')\n",
    "  print(f'Test dataset Mean Squared Error: {round(mse_test, 5)} degrees.')\n",
    "  print(f'Test dataset Explained Variance Score: {round(EVS, 5)} %.')\n",
    "  print(f'Test dataset Accuracy: {round(acc,2)} %')"
   ]
  },
  {
   "cell_type": "code",
   "execution_count": 43,
   "metadata": {
    "id": "lzBpZXe6i83g"
   },
   "outputs": [
    {
     "name": "stdout",
     "output_type": "stream",
     "text": [
      "Test dataset Model Performance\n",
      "Test dataset Mean Absolute Error: 0.3381 degrees.\n",
      "Test dataset MAE/mean Ratio: 47.40409 %.\n",
      "Test dataset Mean Squared Error: 0.2613 degrees.\n",
      "Test dataset Explained Variance Score: 8.30809 %.\n",
      "Test dataset Accuracy: 39.64 %\n",
      "Test dataset Model Performance\n",
      "Test dataset Mean Absolute Error: 0.3381 degrees.\n",
      "Test dataset MAE/mean Ratio: 47.40409 %.\n",
      "Test dataset Mean Squared Error: 0.2613 degrees.\n",
      "Test dataset Explained Variance Score: 8.30809 %.\n",
      "Test dataset Accuracy: 39.64 %\n",
      "Test dataset Model Performance\n",
      "Test dataset Mean Absolute Error: 0.3381 degrees.\n",
      "Test dataset MAE/mean Ratio: 47.40409 %.\n",
      "Test dataset Mean Squared Error: 0.2613 degrees.\n",
      "Test dataset Explained Variance Score: 8.30809 %.\n",
      "Test dataset Accuracy: 39.64 %\n",
      "Test dataset Model Performance\n",
      "Test dataset Mean Absolute Error: 0.3381 degrees.\n",
      "Test dataset MAE/mean Ratio: 47.40409 %.\n",
      "Test dataset Mean Squared Error: 0.2613 degrees.\n",
      "Test dataset Explained Variance Score: 8.30809 %.\n",
      "Test dataset Accuracy: 39.64 %\n",
      "Test dataset Model Performance\n",
      "Test dataset Mean Absolute Error: 0.33601 degrees.\n",
      "Test dataset MAE/mean Ratio: 47.11049 %.\n",
      "Test dataset Mean Squared Error: 0.22879 degrees.\n",
      "Test dataset Explained Variance Score: 19.21722 %.\n",
      "Test dataset Accuracy: 34.48 %\n",
      "Test dataset Model Performance\n",
      "Test dataset Mean Absolute Error: 0.33601 degrees.\n",
      "Test dataset MAE/mean Ratio: 47.11049 %.\n",
      "Test dataset Mean Squared Error: 0.22879 degrees.\n",
      "Test dataset Explained Variance Score: 19.21722 %.\n",
      "Test dataset Accuracy: 34.48 %\n",
      "Test dataset Model Performance\n",
      "Test dataset Mean Absolute Error: 0.33601 degrees.\n",
      "Test dataset MAE/mean Ratio: 47.11049 %.\n",
      "Test dataset Mean Squared Error: 0.22879 degrees.\n",
      "Test dataset Explained Variance Score: 19.21722 %.\n",
      "Test dataset Accuracy: 34.48 %\n",
      "Test dataset Model Performance\n",
      "Test dataset Mean Absolute Error: 0.33601 degrees.\n",
      "Test dataset MAE/mean Ratio: 47.11049 %.\n",
      "Test dataset Mean Squared Error: 0.22879 degrees.\n",
      "Test dataset Explained Variance Score: 19.21722 %.\n",
      "Test dataset Accuracy: 34.48 %\n"
     ]
    }
   ],
   "source": [
    "base_model = RandomForestRegressor(n_estimators = 10, random_state = 42) \n",
    "base_model.fit(train_features, train_labels) \n",
    "base_ratio = evaluate(base_model, test_features, test_labels) \n",
    "base_mse_test = evaluate(base_model, test_features, test_labels) \n",
    "base_EVS = evaluate(base_model, test_features, test_labels) \n",
    "base_accuracy = evaluate(base_model, test_features, test_labels) \n",
    "best_random = rf_random.best_estimator_ \n",
    "random_ratio = evaluate(best_random, test_features, test_labels) \n",
    "random_mse_test = evaluate(best_random, test_features, test_labels) \n",
    "random_EVS = evaluate(best_random, test_features, test_labels) \n",
    "random_accuracy = evaluate(best_random, test_features, test_labels)"
   ]
  },
  {
   "cell_type": "code",
   "execution_count": 44,
   "metadata": {
    "id": "jr9KZ3YbjvXY"
   },
   "outputs": [
    {
     "name": "stdout",
     "output_type": "stream",
     "text": [
      "Train dataset Model Performance\n",
      "Train dataset Mean Absolute Error: 0.1192degrees..\n",
      "Train dataset MAE/mean Ratio: 16.8264%.\n",
      "Train dataset Mean Squared Error: 0.0356degrees.\n",
      "Train dataset Explained Variance Score: 87.36%..\n",
      "Train dataset Accuracy: 67.81%.\n",
      "Train dataset Model Performance\n",
      "Train dataset Mean Absolute Error: 0.1192degrees..\n",
      "Train dataset MAE/mean Ratio: 16.8264%.\n",
      "Train dataset Mean Squared Error: 0.0356degrees.\n",
      "Train dataset Explained Variance Score: 87.36%..\n",
      "Train dataset Accuracy: 67.81%.\n",
      "Train dataset Model Performance\n",
      "Train dataset Mean Absolute Error: 0.1192degrees..\n",
      "Train dataset MAE/mean Ratio: 16.8264%.\n",
      "Train dataset Mean Squared Error: 0.0356degrees.\n",
      "Train dataset Explained Variance Score: 87.36%..\n",
      "Train dataset Accuracy: 67.81%.\n",
      "Train dataset Model Performance\n",
      "Train dataset Mean Absolute Error: 0.1192degrees..\n",
      "Train dataset MAE/mean Ratio: 16.8264%.\n",
      "Train dataset Mean Squared Error: 0.0356degrees.\n",
      "Train dataset Explained Variance Score: 87.36%..\n",
      "Train dataset Accuracy: 67.81%.\n",
      "Train dataset Model Performance\n",
      "Train dataset Mean Absolute Error: 0.0524degrees..\n",
      "Train dataset MAE/mean Ratio: 7.3938%.\n",
      "Train dataset Mean Squared Error: 0.0109degrees.\n",
      "Train dataset Explained Variance Score: 96.09%..\n",
      "Train dataset Accuracy: 86.19%.\n",
      "Train dataset Model Performance\n",
      "Train dataset Mean Absolute Error: 0.0524degrees..\n",
      "Train dataset MAE/mean Ratio: 7.3938%.\n",
      "Train dataset Mean Squared Error: 0.0109degrees.\n",
      "Train dataset Explained Variance Score: 96.09%..\n",
      "Train dataset Accuracy: 86.19%.\n",
      "Train dataset Model Performance\n",
      "Train dataset Mean Absolute Error: 0.0524degrees..\n",
      "Train dataset MAE/mean Ratio: 7.3938%.\n",
      "Train dataset Mean Squared Error: 0.0109degrees.\n",
      "Train dataset Explained Variance Score: 96.09%..\n",
      "Train dataset Accuracy: 86.19%.\n",
      "Train dataset Model Performance\n",
      "Train dataset Mean Absolute Error: 0.0524degrees..\n",
      "Train dataset MAE/mean Ratio: 7.3938%.\n",
      "Train dataset Mean Squared Error: 0.0109degrees.\n",
      "Train dataset Explained Variance Score: 96.09%..\n",
      "Train dataset Accuracy: 86.19%.\n"
     ]
    }
   ],
   "source": [
    "def evaluate(model, train_features, train_labels): \n",
    "    predictions = model. predict(train_features) \n",
    "    errors = abs(predictions - train_labels) \n",
    "    ratio = 100 * (np.mean(errors) / train_labels.mean()) \n",
    "    mse_test = mean_squared_error(train_labels, predictions) \n",
    "    EVS = 100 * (explained_variance_score(train_labels, predictions)) \n",
    "    mape = 100 * np.mean(errors / train_labels) \n",
    "    accuracy = 100 - mape\n",
    "    print('Train dataset Model Performance') \n",
    "    print('Train dataset Mean Absolute Error: {:0.4f}degrees..'.format(np.mean(errors))) \n",
    "    print('Train dataset MAE/mean Ratio: {:0.4f}%.'.format(ratio)) \n",
    "    print('Train dataset Mean Squared Error: {:0.4f}degrees.'.format(mse_test)) \n",
    "    print('Train dataset Explained Variance Score: {:0.2f}%..'.format(EVS)) \n",
    "    print('Train dataset Accuracy: {:0.2f}%.'.format(accuracy)) \n",
    "base_model = RandomForestRegressor(n_estimators = 10, random_state = 42) \n",
    "base_model.fit(train_features, train_labels) \n",
    "base_ratio = evaluate(base_model, train_features, train_labels) \n",
    "base_mse_test = evaluate(base_model, train_features, train_labels) \n",
    "base_EVS = evaluate(base_model, train_features, train_labels) \n",
    "base_accuracy = evaluate(base_model, train_features, train_labels) \n",
    "best_random = rf_random.best_estimator_ \n",
    "random_ratio = evaluate(best_random, train_features, train_labels) \n",
    "random_mse_test = evaluate(best_random, train_features, train_labels) \n",
    "random_EVS = evaluate(best_random, train_features, train_labels) \n",
    "random_accuracy = evaluate(best_random, train_features, train_labels)"
   ]
  },
  {
   "cell_type": "code",
   "execution_count": 45,
   "metadata": {
    "id": "ep_GzxX0j5j0"
   },
   "outputs": [
    {
     "name": "stdout",
     "output_type": "stream",
     "text": [
      "Fitting 3 folds for each of 288 candidates, totalling 864 fits\n"
     ]
    },
    {
     "data": {
      "text/html": [
       "<style>#sk-container-id-4 {color: black;background-color: white;}#sk-container-id-4 pre{padding: 0;}#sk-container-id-4 div.sk-toggleable {background-color: white;}#sk-container-id-4 label.sk-toggleable__label {cursor: pointer;display: block;width: 100%;margin-bottom: 0;padding: 0.3em;box-sizing: border-box;text-align: center;}#sk-container-id-4 label.sk-toggleable__label-arrow:before {content: \"▸\";float: left;margin-right: 0.25em;color: #696969;}#sk-container-id-4 label.sk-toggleable__label-arrow:hover:before {color: black;}#sk-container-id-4 div.sk-estimator:hover label.sk-toggleable__label-arrow:before {color: black;}#sk-container-id-4 div.sk-toggleable__content {max-height: 0;max-width: 0;overflow: hidden;text-align: left;background-color: #f0f8ff;}#sk-container-id-4 div.sk-toggleable__content pre {margin: 0.2em;color: black;border-radius: 0.25em;background-color: #f0f8ff;}#sk-container-id-4 input.sk-toggleable__control:checked~div.sk-toggleable__content {max-height: 200px;max-width: 100%;overflow: auto;}#sk-container-id-4 input.sk-toggleable__control:checked~label.sk-toggleable__label-arrow:before {content: \"▾\";}#sk-container-id-4 div.sk-estimator input.sk-toggleable__control:checked~label.sk-toggleable__label {background-color: #d4ebff;}#sk-container-id-4 div.sk-label input.sk-toggleable__control:checked~label.sk-toggleable__label {background-color: #d4ebff;}#sk-container-id-4 input.sk-hidden--visually {border: 0;clip: rect(1px 1px 1px 1px);clip: rect(1px, 1px, 1px, 1px);height: 1px;margin: -1px;overflow: hidden;padding: 0;position: absolute;width: 1px;}#sk-container-id-4 div.sk-estimator {font-family: monospace;background-color: #f0f8ff;border: 1px dotted black;border-radius: 0.25em;box-sizing: border-box;margin-bottom: 0.5em;}#sk-container-id-4 div.sk-estimator:hover {background-color: #d4ebff;}#sk-container-id-4 div.sk-parallel-item::after {content: \"\";width: 100%;border-bottom: 1px solid gray;flex-grow: 1;}#sk-container-id-4 div.sk-label:hover label.sk-toggleable__label {background-color: #d4ebff;}#sk-container-id-4 div.sk-serial::before {content: \"\";position: absolute;border-left: 1px solid gray;box-sizing: border-box;top: 0;bottom: 0;left: 50%;z-index: 0;}#sk-container-id-4 div.sk-serial {display: flex;flex-direction: column;align-items: center;background-color: white;padding-right: 0.2em;padding-left: 0.2em;position: relative;}#sk-container-id-4 div.sk-item {position: relative;z-index: 1;}#sk-container-id-4 div.sk-parallel {display: flex;align-items: stretch;justify-content: center;background-color: white;position: relative;}#sk-container-id-4 div.sk-item::before, #sk-container-id-4 div.sk-parallel-item::before {content: \"\";position: absolute;border-left: 1px solid gray;box-sizing: border-box;top: 0;bottom: 0;left: 50%;z-index: -1;}#sk-container-id-4 div.sk-parallel-item {display: flex;flex-direction: column;z-index: 1;position: relative;background-color: white;}#sk-container-id-4 div.sk-parallel-item:first-child::after {align-self: flex-end;width: 50%;}#sk-container-id-4 div.sk-parallel-item:last-child::after {align-self: flex-start;width: 50%;}#sk-container-id-4 div.sk-parallel-item:only-child::after {width: 0;}#sk-container-id-4 div.sk-dashed-wrapped {border: 1px dashed gray;margin: 0 0.4em 0.5em 0.4em;box-sizing: border-box;padding-bottom: 0.4em;background-color: white;}#sk-container-id-4 div.sk-label label {font-family: monospace;font-weight: bold;display: inline-block;line-height: 1.2em;}#sk-container-id-4 div.sk-label-container {text-align: center;}#sk-container-id-4 div.sk-container {/* jupyter's `normalize.less` sets `[hidden] { display: none; }` but bootstrap.min.css set `[hidden] { display: none !important; }` so we also need the `!important` here to be able to override the default hidden behavior on the sphinx rendered scikit-learn.org. See: https://github.com/scikit-learn/scikit-learn/issues/21755 */display: inline-block !important;position: relative;}#sk-container-id-4 div.sk-text-repr-fallback {display: none;}</style><div id=\"sk-container-id-4\" class=\"sk-top-container\"><div class=\"sk-text-repr-fallback\"><pre>GridSearchCV(cv=3, estimator=RandomForestRegressor(), n_jobs=-1,\n",
       "             param_grid={&#x27;bootstrap&#x27;: [True], &#x27;max_depth&#x27;: [80, 90, 100, 110],\n",
       "                         &#x27;max_features&#x27;: [2, 3], &#x27;min_samples_leaf&#x27;: [3, 4, 5],\n",
       "                         &#x27;min_samples_split&#x27;: [8, 10, 12],\n",
       "                         &#x27;n_estimators&#x27;: [100, 500, 800, 2000]},\n",
       "             verbose=2)</pre><b>In a Jupyter environment, please rerun this cell to show the HTML representation or trust the notebook. <br />On GitHub, the HTML representation is unable to render, please try loading this page with nbviewer.org.</b></div><div class=\"sk-container\" hidden><div class=\"sk-item sk-dashed-wrapped\"><div class=\"sk-label-container\"><div class=\"sk-label sk-toggleable\"><input class=\"sk-toggleable__control sk-hidden--visually\" id=\"sk-estimator-id-6\" type=\"checkbox\" ><label for=\"sk-estimator-id-6\" class=\"sk-toggleable__label sk-toggleable__label-arrow\">GridSearchCV</label><div class=\"sk-toggleable__content\"><pre>GridSearchCV(cv=3, estimator=RandomForestRegressor(), n_jobs=-1,\n",
       "             param_grid={&#x27;bootstrap&#x27;: [True], &#x27;max_depth&#x27;: [80, 90, 100, 110],\n",
       "                         &#x27;max_features&#x27;: [2, 3], &#x27;min_samples_leaf&#x27;: [3, 4, 5],\n",
       "                         &#x27;min_samples_split&#x27;: [8, 10, 12],\n",
       "                         &#x27;n_estimators&#x27;: [100, 500, 800, 2000]},\n",
       "             verbose=2)</pre></div></div></div><div class=\"sk-parallel\"><div class=\"sk-parallel-item\"><div class=\"sk-item\"><div class=\"sk-label-container\"><div class=\"sk-label sk-toggleable\"><input class=\"sk-toggleable__control sk-hidden--visually\" id=\"sk-estimator-id-7\" type=\"checkbox\" ><label for=\"sk-estimator-id-7\" class=\"sk-toggleable__label sk-toggleable__label-arrow\">estimator: RandomForestRegressor</label><div class=\"sk-toggleable__content\"><pre>RandomForestRegressor()</pre></div></div></div><div class=\"sk-serial\"><div class=\"sk-item\"><div class=\"sk-estimator sk-toggleable\"><input class=\"sk-toggleable__control sk-hidden--visually\" id=\"sk-estimator-id-8\" type=\"checkbox\" ><label for=\"sk-estimator-id-8\" class=\"sk-toggleable__label sk-toggleable__label-arrow\">RandomForestRegressor</label><div class=\"sk-toggleable__content\"><pre>RandomForestRegressor()</pre></div></div></div></div></div></div></div></div></div></div>"
      ],
      "text/plain": [
       "GridSearchCV(cv=3, estimator=RandomForestRegressor(), n_jobs=-1,\n",
       "             param_grid={'bootstrap': [True], 'max_depth': [80, 90, 100, 110],\n",
       "                         'max_features': [2, 3], 'min_samples_leaf': [3, 4, 5],\n",
       "                         'min_samples_split': [8, 10, 12],\n",
       "                         'n_estimators': [100, 500, 800, 2000]},\n",
       "             verbose=2)"
      ]
     },
     "execution_count": 45,
     "metadata": {},
     "output_type": "execute_result"
    }
   ],
   "source": [
    "from sklearn.model_selection import GridSearchCV \n",
    "param_grid = { \n",
    "    'bootstrap': [True], \n",
    "    'max_depth': [80, 90, 100, 110], \n",
    "    'max_features': [2, 3], \n",
    "    'min_samples_leaf': [3, 4, 5], \n",
    "    'min_samples_split': [8, 10, 12], \n",
    "    'n_estimators': [100, 500, 800, 2000] \n",
    "} \n",
    "rf = RandomForestRegressor() \n",
    "grid_search = GridSearchCV(estimator = rf, param_grid = param_grid, \n",
    "                           cv = 3, n_jobs = -1, verbose = 2) \n",
    "\n",
    "grid_search.fit(train_features, train_labels)"
   ]
  },
  {
   "cell_type": "code",
   "execution_count": 47,
   "metadata": {
    "id": "r5QXhinDkVXW",
    "scrolled": false
   },
   "outputs": [
    {
     "name": "stdout",
     "output_type": "stream",
     "text": [
      "Test dataset Model Performance\n",
      "Test dataset Mean Absolute Error: 0.3360degrees.\n",
      "Test dataset MAE/mean Ratio: 47.1105%.\n",
      "Test dataset Mean Squared Error: 0.2288degrees...\n",
      "Test dataset Explained Variance Score: 19.22%..\n",
      "Test dataset Accuracy: 34.48%.\n",
      "Test dataset Model Performance\n",
      "Test dataset Mean Absolute Error: 0.3360degrees.\n",
      "Test dataset MAE/mean Ratio: 47.1105%.\n",
      "Test dataset Mean Squared Error: 0.2288degrees...\n",
      "Test dataset Explained Variance Score: 19.22%..\n",
      "Test dataset Accuracy: 34.48%.\n",
      "Test dataset Model Performance\n",
      "Test dataset Mean Absolute Error: 0.3360degrees.\n",
      "Test dataset MAE/mean Ratio: 47.1105%.\n",
      "Test dataset Mean Squared Error: 0.2288degrees...\n",
      "Test dataset Explained Variance Score: 19.22%..\n",
      "Test dataset Accuracy: 34.48%.\n",
      "Test dataset Model Performance\n",
      "Test dataset Mean Absolute Error: 0.3361degrees.\n",
      "Test dataset MAE/mean Ratio: 47.1285%.\n",
      "Test dataset Mean Squared Error: 0.2029degrees...\n",
      "Test dataset Explained Variance Score: 28.41%..\n",
      "Test dataset Accuracy: 22.96%.\n"
     ]
    }
   ],
   "source": [
    "def evaluate(model, test_features, test_labels): \n",
    "    predictions = model.predict(test_features) \n",
    "    errors = abs(predictions - test_labels) \n",
    "    ratio = 100 * (np.mean(errors) / test_labels.mean()) \n",
    "    mse_test = mean_squared_error(test_labels, predictions) \n",
    "    EVS = 100 * (explained_variance_score(test_labels, predictions)) \n",
    "    mape = 100 * np.mean(errors / test_labels) \n",
    "    accuracy = 100 - mape\n",
    "    print('Test dataset Model Performance') \n",
    "    print('Test dataset Mean Absolute Error: {:0.4f}degrees.'.format(np.mean(errors))) \n",
    "    print('Test dataset MAE/mean Ratio: {:0.4f}%.'.format(ratio)) \n",
    "    print('Test dataset Mean Squared Error: {:0.4f}degrees...'.format(mse_test)) \n",
    "    print('Test dataset Explained Variance Score: {:0.2f}%..'.format(EVS)) \n",
    "    print('Test dataset Accuracy: {:0.2f}%.'.format(accuracy))\n",
    "best_grid = grid_search.best_estimator_\n",
    "grid_ratio = evaluate(best_random, test_features, test_labels) \n",
    "grid_mse_test = evaluate(best_random, test_features, test_labels) \n",
    "grid_EVS = evaluate(best_random, test_features, test_labels) \n",
    "grid_accuracy = evaluate(best_grid, test_features, test_labels)"
   ]
  },
  {
   "cell_type": "code",
   "execution_count": 49,
   "metadata": {
    "id": "B34Y32C-kYRG"
   },
   "outputs": [
    {
     "name": "stdout",
     "output_type": "stream",
     "text": [
      "Train dataset Model Performance\n",
      "Train dataset Mean Absolute Error: 0.0524degrees.\n",
      "Train dataset MAE/mean Ratio: 7.3938%..\n",
      "Train dataset Mean Squared Error: 0.0109degrees.\n",
      "Train dataset Explained Variance Score: 96.09%.\n",
      "Train dataset Accuracy: 86.188788604178995456%.\n",
      "Train dataset Model Performance\n",
      "Train dataset Mean Absolute Error: 0.0524degrees.\n",
      "Train dataset MAE/mean Ratio: 7.3938%..\n",
      "Train dataset Mean Squared Error: 0.0109degrees.\n",
      "Train dataset Explained Variance Score: 96.09%.\n",
      "Train dataset Accuracy: 86.188788604178995456%.\n",
      "Train dataset Model Performance\n",
      "Train dataset Mean Absolute Error: 0.0524degrees.\n",
      "Train dataset MAE/mean Ratio: 7.3938%..\n",
      "Train dataset Mean Squared Error: 0.0109degrees.\n",
      "Train dataset Explained Variance Score: 96.09%.\n",
      "Train dataset Accuracy: 86.188788604178995456%.\n",
      "Train dataset Model Performance\n",
      "Train dataset Mean Absolute Error: 0.1863degrees.\n",
      "Train dataset MAE/mean Ratio: 26.2976%..\n",
      "Train dataset Mean Squared Error: 0.0722degrees.\n",
      "Train dataset Explained Variance Score: 74.03%.\n",
      "Train dataset Accuracy: 39.416668865516236053%.\n"
     ]
    }
   ],
   "source": [
    "def evaluate(model, train_features, train_labels): \n",
    "    predictions = model. predict(train_features) \n",
    "    errors = abs(predictions - train_labels) \n",
    "    ratio = 100 * (np.mean(errors) / train_labels.mean()) \n",
    "    mse_test = mean_squared_error(train_labels, predictions) \n",
    "    EVS = 100 * (explained_variance_score(train_labels, predictions)) \n",
    "    mape = 100 * np.mean(errors / train_labels)\n",
    "    accuracy = 100 - mape \n",
    "    print('Train dataset Model Performance') \n",
    "    print('Train dataset Mean Absolute Error: {:0.4f}degrees.'.format(np.mean(errors))) \n",
    "    print('Train dataset MAE/mean Ratio: {:0.4f}%..'.format(ratio)) \n",
    "    print('Train dataset Mean Squared Error: {:0.4f}degrees.'.format(mse_test)) \n",
    "    print('Train dataset Explained Variance Score: {:0.2f}%.'.format(EVS)) \n",
    "    print('Train dataset Accuracy: {:0.20}%.'.format(accuracy)) \n",
    "grid_ratio = evaluate(best_random, train_features, train_labels) \n",
    "grid_mse_test = evaluate(best_random, train_features, train_labels) \n",
    "grid_EVS = evaluate(best_random, train_features, train_labels) \n",
    "grid_accuracy = evaluate(best_grid, train_features, train_labels)"
   ]
  },
  {
   "cell_type": "code",
   "execution_count": null,
   "metadata": {},
   "outputs": [],
   "source": []
  }
 ],
 "metadata": {
  "colab": {
   "provenance": []
  },
  "kernelspec": {
   "display_name": "Python 3 (ipykernel)",
   "language": "python",
   "name": "python3"
  },
  "language_info": {
   "codemirror_mode": {
    "name": "ipython",
    "version": 3
   },
   "file_extension": ".py",
   "mimetype": "text/x-python",
   "name": "python",
   "nbconvert_exporter": "python",
   "pygments_lexer": "ipython3",
   "version": "3.10.0"
  }
 },
 "nbformat": 4,
 "nbformat_minor": 1
}
