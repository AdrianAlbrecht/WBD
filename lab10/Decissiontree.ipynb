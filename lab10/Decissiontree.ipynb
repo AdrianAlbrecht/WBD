{
  "nbformat": 4,
  "nbformat_minor": 0,
  "metadata": {
    "colab": {
      "provenance": []
    },
    "kernelspec": {
      "name": "python3",
      "display_name": "Python 3"
    },
    "language_info": {
      "name": "python"
    }
  },
  "cells": [
    {
      "cell_type": "code",
      "execution_count": 1,
      "metadata": {
        "id": "ukQICtbJSDeq"
      },
      "outputs": [],
      "source": [
        "import warnings\n",
        "warnings.filterwarnings('ignore')"
      ]
    },
    {
      "cell_type": "code",
      "source": [
        "import numpy as np\n",
        "import pandas as pd\n",
        "from IPython.display import display\n",
        "from sklearn.model_selection import train_test_split"
      ],
      "metadata": {
        "id": "pS8hZu4jSLHD"
      },
      "execution_count": 2,
      "outputs": []
    },
    {
      "cell_type": "code",
      "source": [
        "df = pd.read_csv(\"./VLagun_Total_Basins_DT.csv\")"
      ],
      "metadata": {
        "id": "Du0ca2E5SoaB"
      },
      "execution_count": 3,
      "outputs": []
    },
    {
      "cell_type": "code",
      "source": [
        "display(df.head())"
      ],
      "metadata": {
        "colab": {
          "base_uri": "https://localhost:8080/",
          "height": 314
        },
        "id": "gsyBXG86Sue-",
        "outputId": "7912887b-90e5-4fdb-bc36-3668e95f3a2b"
      },
      "execution_count": 4,
      "outputs": [
        {
          "output_type": "display_data",
          "data": {
            "text/plain": [
              "        PSU    O2  temp.    SS   SRP   DOP     PP   NH4N   NO3N    DON  ...  \\\n",
              "0  3.757624  9.46   18.3  52.0   3.5  11.7  185.0  0.039  0.022  0.551  ...   \n",
              "1  3.504707  9.89   19.1  50.0   4.4  17.5  111.3  0.020  0.025  0.123  ...   \n",
              "2  3.721493  9.63   17.5  62.0  11.7  13.0  117.6  0.036  0.021  0.727  ...   \n",
              "3  4.407982  9.54   18.4  55.0   7.4  16.2  124.7  0.023  0.024  0.566  ...   \n",
              "4  4.389916  9.34   17.8  53.0  13.8  21.4   84.4  0.031  0.030  0.022  ...   \n",
              "\n",
              "   Acartia tonsa  Eurytemora affinis  Cyclops sp.  Nauplii Cyclopoida  \\\n",
              "0         0.9298              0.9251       0.0000              0.0025   \n",
              "1         0.0378              0.0000       0.0000              0.0000   \n",
              "2         0.0000              0.0000       0.0093              0.0138   \n",
              "3         0.0000              0.0129       0.0060              0.0140   \n",
              "4         0.0000              0.0141       0.0000              0.0093   \n",
              "\n",
              "   Nauplii Calanoida  Filinia longiseta  Keratella cochlearis cochlearis  \\\n",
              "0             0.0257             1.3152                           0.8920   \n",
              "1             0.0000             0.0769                           0.0640   \n",
              "2             0.0006             0.0466                           0.0120   \n",
              "3             0.0155             0.0313                           0.0079   \n",
              "4             0.0007             0.0491                           0.0143   \n",
              "\n",
              "   Keratella cochlearis f.tecta  Keratella quadrata    Basin  \n",
              "0                        0.2714              0.0000  Eastern  \n",
              "1                        0.0464              0.0000  Eastern  \n",
              "2                        0.0044              0.0000  Eastern  \n",
              "3                        0.0040              0.0000  Eastern  \n",
              "4                        0.0019              0.0026  Eastern  \n",
              "\n",
              "[5 rows x 36 columns]"
            ],
            "text/html": [
              "\n",
              "  <div id=\"df-7571bff4-f505-49b0-9d94-6a3da62a9a0a\">\n",
              "    <div class=\"colab-df-container\">\n",
              "      <div>\n",
              "<style scoped>\n",
              "    .dataframe tbody tr th:only-of-type {\n",
              "        vertical-align: middle;\n",
              "    }\n",
              "\n",
              "    .dataframe tbody tr th {\n",
              "        vertical-align: top;\n",
              "    }\n",
              "\n",
              "    .dataframe thead th {\n",
              "        text-align: right;\n",
              "    }\n",
              "</style>\n",
              "<table border=\"1\" class=\"dataframe\">\n",
              "  <thead>\n",
              "    <tr style=\"text-align: right;\">\n",
              "      <th></th>\n",
              "      <th>PSU</th>\n",
              "      <th>O2</th>\n",
              "      <th>temp.</th>\n",
              "      <th>SS</th>\n",
              "      <th>SRP</th>\n",
              "      <th>DOP</th>\n",
              "      <th>PP</th>\n",
              "      <th>NH4N</th>\n",
              "      <th>NO3N</th>\n",
              "      <th>DON</th>\n",
              "      <th>...</th>\n",
              "      <th>Acartia tonsa</th>\n",
              "      <th>Eurytemora affinis</th>\n",
              "      <th>Cyclops sp.</th>\n",
              "      <th>Nauplii Cyclopoida</th>\n",
              "      <th>Nauplii Calanoida</th>\n",
              "      <th>Filinia longiseta</th>\n",
              "      <th>Keratella cochlearis cochlearis</th>\n",
              "      <th>Keratella cochlearis f.tecta</th>\n",
              "      <th>Keratella quadrata</th>\n",
              "      <th>Basin</th>\n",
              "    </tr>\n",
              "  </thead>\n",
              "  <tbody>\n",
              "    <tr>\n",
              "      <th>0</th>\n",
              "      <td>3.757624</td>\n",
              "      <td>9.46</td>\n",
              "      <td>18.3</td>\n",
              "      <td>52.0</td>\n",
              "      <td>3.5</td>\n",
              "      <td>11.7</td>\n",
              "      <td>185.0</td>\n",
              "      <td>0.039</td>\n",
              "      <td>0.022</td>\n",
              "      <td>0.551</td>\n",
              "      <td>...</td>\n",
              "      <td>0.9298</td>\n",
              "      <td>0.9251</td>\n",
              "      <td>0.0000</td>\n",
              "      <td>0.0025</td>\n",
              "      <td>0.0257</td>\n",
              "      <td>1.3152</td>\n",
              "      <td>0.8920</td>\n",
              "      <td>0.2714</td>\n",
              "      <td>0.0000</td>\n",
              "      <td>Eastern</td>\n",
              "    </tr>\n",
              "    <tr>\n",
              "      <th>1</th>\n",
              "      <td>3.504707</td>\n",
              "      <td>9.89</td>\n",
              "      <td>19.1</td>\n",
              "      <td>50.0</td>\n",
              "      <td>4.4</td>\n",
              "      <td>17.5</td>\n",
              "      <td>111.3</td>\n",
              "      <td>0.020</td>\n",
              "      <td>0.025</td>\n",
              "      <td>0.123</td>\n",
              "      <td>...</td>\n",
              "      <td>0.0378</td>\n",
              "      <td>0.0000</td>\n",
              "      <td>0.0000</td>\n",
              "      <td>0.0000</td>\n",
              "      <td>0.0000</td>\n",
              "      <td>0.0769</td>\n",
              "      <td>0.0640</td>\n",
              "      <td>0.0464</td>\n",
              "      <td>0.0000</td>\n",
              "      <td>Eastern</td>\n",
              "    </tr>\n",
              "    <tr>\n",
              "      <th>2</th>\n",
              "      <td>3.721493</td>\n",
              "      <td>9.63</td>\n",
              "      <td>17.5</td>\n",
              "      <td>62.0</td>\n",
              "      <td>11.7</td>\n",
              "      <td>13.0</td>\n",
              "      <td>117.6</td>\n",
              "      <td>0.036</td>\n",
              "      <td>0.021</td>\n",
              "      <td>0.727</td>\n",
              "      <td>...</td>\n",
              "      <td>0.0000</td>\n",
              "      <td>0.0000</td>\n",
              "      <td>0.0093</td>\n",
              "      <td>0.0138</td>\n",
              "      <td>0.0006</td>\n",
              "      <td>0.0466</td>\n",
              "      <td>0.0120</td>\n",
              "      <td>0.0044</td>\n",
              "      <td>0.0000</td>\n",
              "      <td>Eastern</td>\n",
              "    </tr>\n",
              "    <tr>\n",
              "      <th>3</th>\n",
              "      <td>4.407982</td>\n",
              "      <td>9.54</td>\n",
              "      <td>18.4</td>\n",
              "      <td>55.0</td>\n",
              "      <td>7.4</td>\n",
              "      <td>16.2</td>\n",
              "      <td>124.7</td>\n",
              "      <td>0.023</td>\n",
              "      <td>0.024</td>\n",
              "      <td>0.566</td>\n",
              "      <td>...</td>\n",
              "      <td>0.0000</td>\n",
              "      <td>0.0129</td>\n",
              "      <td>0.0060</td>\n",
              "      <td>0.0140</td>\n",
              "      <td>0.0155</td>\n",
              "      <td>0.0313</td>\n",
              "      <td>0.0079</td>\n",
              "      <td>0.0040</td>\n",
              "      <td>0.0000</td>\n",
              "      <td>Eastern</td>\n",
              "    </tr>\n",
              "    <tr>\n",
              "      <th>4</th>\n",
              "      <td>4.389916</td>\n",
              "      <td>9.34</td>\n",
              "      <td>17.8</td>\n",
              "      <td>53.0</td>\n",
              "      <td>13.8</td>\n",
              "      <td>21.4</td>\n",
              "      <td>84.4</td>\n",
              "      <td>0.031</td>\n",
              "      <td>0.030</td>\n",
              "      <td>0.022</td>\n",
              "      <td>...</td>\n",
              "      <td>0.0000</td>\n",
              "      <td>0.0141</td>\n",
              "      <td>0.0000</td>\n",
              "      <td>0.0093</td>\n",
              "      <td>0.0007</td>\n",
              "      <td>0.0491</td>\n",
              "      <td>0.0143</td>\n",
              "      <td>0.0019</td>\n",
              "      <td>0.0026</td>\n",
              "      <td>Eastern</td>\n",
              "    </tr>\n",
              "  </tbody>\n",
              "</table>\n",
              "<p>5 rows × 36 columns</p>\n",
              "</div>\n",
              "      <button class=\"colab-df-convert\" onclick=\"convertToInteractive('df-7571bff4-f505-49b0-9d94-6a3da62a9a0a')\"\n",
              "              title=\"Convert this dataframe to an interactive table.\"\n",
              "              style=\"display:none;\">\n",
              "        \n",
              "  <svg xmlns=\"http://www.w3.org/2000/svg\" height=\"24px\"viewBox=\"0 0 24 24\"\n",
              "       width=\"24px\">\n",
              "    <path d=\"M0 0h24v24H0V0z\" fill=\"none\"/>\n",
              "    <path d=\"M18.56 5.44l.94 2.06.94-2.06 2.06-.94-2.06-.94-.94-2.06-.94 2.06-2.06.94zm-11 1L8.5 8.5l.94-2.06 2.06-.94-2.06-.94L8.5 2.5l-.94 2.06-2.06.94zm10 10l.94 2.06.94-2.06 2.06-.94-2.06-.94-.94-2.06-.94 2.06-2.06.94z\"/><path d=\"M17.41 7.96l-1.37-1.37c-.4-.4-.92-.59-1.43-.59-.52 0-1.04.2-1.43.59L10.3 9.45l-7.72 7.72c-.78.78-.78 2.05 0 2.83L4 21.41c.39.39.9.59 1.41.59.51 0 1.02-.2 1.41-.59l7.78-7.78 2.81-2.81c.8-.78.8-2.07 0-2.86zM5.41 20L4 18.59l7.72-7.72 1.47 1.35L5.41 20z\"/>\n",
              "  </svg>\n",
              "      </button>\n",
              "      \n",
              "  <style>\n",
              "    .colab-df-container {\n",
              "      display:flex;\n",
              "      flex-wrap:wrap;\n",
              "      gap: 12px;\n",
              "    }\n",
              "\n",
              "    .colab-df-convert {\n",
              "      background-color: #E8F0FE;\n",
              "      border: none;\n",
              "      border-radius: 50%;\n",
              "      cursor: pointer;\n",
              "      display: none;\n",
              "      fill: #1967D2;\n",
              "      height: 32px;\n",
              "      padding: 0 0 0 0;\n",
              "      width: 32px;\n",
              "    }\n",
              "\n",
              "    .colab-df-convert:hover {\n",
              "      background-color: #E2EBFA;\n",
              "      box-shadow: 0px 1px 2px rgba(60, 64, 67, 0.3), 0px 1px 3px 1px rgba(60, 64, 67, 0.15);\n",
              "      fill: #174EA6;\n",
              "    }\n",
              "\n",
              "    [theme=dark] .colab-df-convert {\n",
              "      background-color: #3B4455;\n",
              "      fill: #D2E3FC;\n",
              "    }\n",
              "\n",
              "    [theme=dark] .colab-df-convert:hover {\n",
              "      background-color: #434B5C;\n",
              "      box-shadow: 0px 1px 3px 1px rgba(0, 0, 0, 0.15);\n",
              "      filter: drop-shadow(0px 1px 2px rgba(0, 0, 0, 0.3));\n",
              "      fill: #FFFFFF;\n",
              "    }\n",
              "  </style>\n",
              "\n",
              "      <script>\n",
              "        const buttonEl =\n",
              "          document.querySelector('#df-7571bff4-f505-49b0-9d94-6a3da62a9a0a button.colab-df-convert');\n",
              "        buttonEl.style.display =\n",
              "          google.colab.kernel.accessAllowed ? 'block' : 'none';\n",
              "\n",
              "        async function convertToInteractive(key) {\n",
              "          const element = document.querySelector('#df-7571bff4-f505-49b0-9d94-6a3da62a9a0a');\n",
              "          const dataTable =\n",
              "            await google.colab.kernel.invokeFunction('convertToInteractive',\n",
              "                                                     [key], {});\n",
              "          if (!dataTable) return;\n",
              "\n",
              "          const docLinkHtml = 'Like what you see? Visit the ' +\n",
              "            '<a target=\"_blank\" href=https://colab.research.google.com/notebooks/data_table.ipynb>data table notebook</a>'\n",
              "            + ' to learn more about interactive tables.';\n",
              "          element.innerHTML = '';\n",
              "          dataTable['output_type'] = 'display_data';\n",
              "          await google.colab.output.renderOutput(dataTable, element);\n",
              "          const docLink = document.createElement('div');\n",
              "          docLink.innerHTML = docLinkHtml;\n",
              "          element.appendChild(docLink);\n",
              "        }\n",
              "      </script>\n",
              "    </div>\n",
              "  </div>\n",
              "  "
            ]
          },
          "metadata": {}
        }
      ]
    },
    {
      "cell_type": "code",
      "source": [
        "df.Basin = [1 if i == \"Western\" else 0 for i in df.Basin]"
      ],
      "metadata": {
        "id": "n3C6v3yOSyYN"
      },
      "execution_count": 5,
      "outputs": []
    },
    {
      "cell_type": "code",
      "source": [
        "display(df.head())"
      ],
      "metadata": {
        "colab": {
          "base_uri": "https://localhost:8080/",
          "height": 314
        },
        "id": "X2aUzq8MTB_f",
        "outputId": "deb27dde-c5f9-44dd-94d8-ba4d38b7943f"
      },
      "execution_count": 6,
      "outputs": [
        {
          "output_type": "display_data",
          "data": {
            "text/plain": [
              "        PSU    O2  temp.    SS   SRP   DOP     PP   NH4N   NO3N    DON  ...  \\\n",
              "0  3.757624  9.46   18.3  52.0   3.5  11.7  185.0  0.039  0.022  0.551  ...   \n",
              "1  3.504707  9.89   19.1  50.0   4.4  17.5  111.3  0.020  0.025  0.123  ...   \n",
              "2  3.721493  9.63   17.5  62.0  11.7  13.0  117.6  0.036  0.021  0.727  ...   \n",
              "3  4.407982  9.54   18.4  55.0   7.4  16.2  124.7  0.023  0.024  0.566  ...   \n",
              "4  4.389916  9.34   17.8  53.0  13.8  21.4   84.4  0.031  0.030  0.022  ...   \n",
              "\n",
              "   Acartia tonsa  Eurytemora affinis  Cyclops sp.  Nauplii Cyclopoida  \\\n",
              "0         0.9298              0.9251       0.0000              0.0025   \n",
              "1         0.0378              0.0000       0.0000              0.0000   \n",
              "2         0.0000              0.0000       0.0093              0.0138   \n",
              "3         0.0000              0.0129       0.0060              0.0140   \n",
              "4         0.0000              0.0141       0.0000              0.0093   \n",
              "\n",
              "   Nauplii Calanoida  Filinia longiseta  Keratella cochlearis cochlearis  \\\n",
              "0             0.0257             1.3152                           0.8920   \n",
              "1             0.0000             0.0769                           0.0640   \n",
              "2             0.0006             0.0466                           0.0120   \n",
              "3             0.0155             0.0313                           0.0079   \n",
              "4             0.0007             0.0491                           0.0143   \n",
              "\n",
              "   Keratella cochlearis f.tecta  Keratella quadrata  Basin  \n",
              "0                        0.2714              0.0000      0  \n",
              "1                        0.0464              0.0000      0  \n",
              "2                        0.0044              0.0000      0  \n",
              "3                        0.0040              0.0000      0  \n",
              "4                        0.0019              0.0026      0  \n",
              "\n",
              "[5 rows x 36 columns]"
            ],
            "text/html": [
              "\n",
              "  <div id=\"df-c17ba5c9-13c1-486e-ba2e-1618d96d0637\">\n",
              "    <div class=\"colab-df-container\">\n",
              "      <div>\n",
              "<style scoped>\n",
              "    .dataframe tbody tr th:only-of-type {\n",
              "        vertical-align: middle;\n",
              "    }\n",
              "\n",
              "    .dataframe tbody tr th {\n",
              "        vertical-align: top;\n",
              "    }\n",
              "\n",
              "    .dataframe thead th {\n",
              "        text-align: right;\n",
              "    }\n",
              "</style>\n",
              "<table border=\"1\" class=\"dataframe\">\n",
              "  <thead>\n",
              "    <tr style=\"text-align: right;\">\n",
              "      <th></th>\n",
              "      <th>PSU</th>\n",
              "      <th>O2</th>\n",
              "      <th>temp.</th>\n",
              "      <th>SS</th>\n",
              "      <th>SRP</th>\n",
              "      <th>DOP</th>\n",
              "      <th>PP</th>\n",
              "      <th>NH4N</th>\n",
              "      <th>NO3N</th>\n",
              "      <th>DON</th>\n",
              "      <th>...</th>\n",
              "      <th>Acartia tonsa</th>\n",
              "      <th>Eurytemora affinis</th>\n",
              "      <th>Cyclops sp.</th>\n",
              "      <th>Nauplii Cyclopoida</th>\n",
              "      <th>Nauplii Calanoida</th>\n",
              "      <th>Filinia longiseta</th>\n",
              "      <th>Keratella cochlearis cochlearis</th>\n",
              "      <th>Keratella cochlearis f.tecta</th>\n",
              "      <th>Keratella quadrata</th>\n",
              "      <th>Basin</th>\n",
              "    </tr>\n",
              "  </thead>\n",
              "  <tbody>\n",
              "    <tr>\n",
              "      <th>0</th>\n",
              "      <td>3.757624</td>\n",
              "      <td>9.46</td>\n",
              "      <td>18.3</td>\n",
              "      <td>52.0</td>\n",
              "      <td>3.5</td>\n",
              "      <td>11.7</td>\n",
              "      <td>185.0</td>\n",
              "      <td>0.039</td>\n",
              "      <td>0.022</td>\n",
              "      <td>0.551</td>\n",
              "      <td>...</td>\n",
              "      <td>0.9298</td>\n",
              "      <td>0.9251</td>\n",
              "      <td>0.0000</td>\n",
              "      <td>0.0025</td>\n",
              "      <td>0.0257</td>\n",
              "      <td>1.3152</td>\n",
              "      <td>0.8920</td>\n",
              "      <td>0.2714</td>\n",
              "      <td>0.0000</td>\n",
              "      <td>0</td>\n",
              "    </tr>\n",
              "    <tr>\n",
              "      <th>1</th>\n",
              "      <td>3.504707</td>\n",
              "      <td>9.89</td>\n",
              "      <td>19.1</td>\n",
              "      <td>50.0</td>\n",
              "      <td>4.4</td>\n",
              "      <td>17.5</td>\n",
              "      <td>111.3</td>\n",
              "      <td>0.020</td>\n",
              "      <td>0.025</td>\n",
              "      <td>0.123</td>\n",
              "      <td>...</td>\n",
              "      <td>0.0378</td>\n",
              "      <td>0.0000</td>\n",
              "      <td>0.0000</td>\n",
              "      <td>0.0000</td>\n",
              "      <td>0.0000</td>\n",
              "      <td>0.0769</td>\n",
              "      <td>0.0640</td>\n",
              "      <td>0.0464</td>\n",
              "      <td>0.0000</td>\n",
              "      <td>0</td>\n",
              "    </tr>\n",
              "    <tr>\n",
              "      <th>2</th>\n",
              "      <td>3.721493</td>\n",
              "      <td>9.63</td>\n",
              "      <td>17.5</td>\n",
              "      <td>62.0</td>\n",
              "      <td>11.7</td>\n",
              "      <td>13.0</td>\n",
              "      <td>117.6</td>\n",
              "      <td>0.036</td>\n",
              "      <td>0.021</td>\n",
              "      <td>0.727</td>\n",
              "      <td>...</td>\n",
              "      <td>0.0000</td>\n",
              "      <td>0.0000</td>\n",
              "      <td>0.0093</td>\n",
              "      <td>0.0138</td>\n",
              "      <td>0.0006</td>\n",
              "      <td>0.0466</td>\n",
              "      <td>0.0120</td>\n",
              "      <td>0.0044</td>\n",
              "      <td>0.0000</td>\n",
              "      <td>0</td>\n",
              "    </tr>\n",
              "    <tr>\n",
              "      <th>3</th>\n",
              "      <td>4.407982</td>\n",
              "      <td>9.54</td>\n",
              "      <td>18.4</td>\n",
              "      <td>55.0</td>\n",
              "      <td>7.4</td>\n",
              "      <td>16.2</td>\n",
              "      <td>124.7</td>\n",
              "      <td>0.023</td>\n",
              "      <td>0.024</td>\n",
              "      <td>0.566</td>\n",
              "      <td>...</td>\n",
              "      <td>0.0000</td>\n",
              "      <td>0.0129</td>\n",
              "      <td>0.0060</td>\n",
              "      <td>0.0140</td>\n",
              "      <td>0.0155</td>\n",
              "      <td>0.0313</td>\n",
              "      <td>0.0079</td>\n",
              "      <td>0.0040</td>\n",
              "      <td>0.0000</td>\n",
              "      <td>0</td>\n",
              "    </tr>\n",
              "    <tr>\n",
              "      <th>4</th>\n",
              "      <td>4.389916</td>\n",
              "      <td>9.34</td>\n",
              "      <td>17.8</td>\n",
              "      <td>53.0</td>\n",
              "      <td>13.8</td>\n",
              "      <td>21.4</td>\n",
              "      <td>84.4</td>\n",
              "      <td>0.031</td>\n",
              "      <td>0.030</td>\n",
              "      <td>0.022</td>\n",
              "      <td>...</td>\n",
              "      <td>0.0000</td>\n",
              "      <td>0.0141</td>\n",
              "      <td>0.0000</td>\n",
              "      <td>0.0093</td>\n",
              "      <td>0.0007</td>\n",
              "      <td>0.0491</td>\n",
              "      <td>0.0143</td>\n",
              "      <td>0.0019</td>\n",
              "      <td>0.0026</td>\n",
              "      <td>0</td>\n",
              "    </tr>\n",
              "  </tbody>\n",
              "</table>\n",
              "<p>5 rows × 36 columns</p>\n",
              "</div>\n",
              "      <button class=\"colab-df-convert\" onclick=\"convertToInteractive('df-c17ba5c9-13c1-486e-ba2e-1618d96d0637')\"\n",
              "              title=\"Convert this dataframe to an interactive table.\"\n",
              "              style=\"display:none;\">\n",
              "        \n",
              "  <svg xmlns=\"http://www.w3.org/2000/svg\" height=\"24px\"viewBox=\"0 0 24 24\"\n",
              "       width=\"24px\">\n",
              "    <path d=\"M0 0h24v24H0V0z\" fill=\"none\"/>\n",
              "    <path d=\"M18.56 5.44l.94 2.06.94-2.06 2.06-.94-2.06-.94-.94-2.06-.94 2.06-2.06.94zm-11 1L8.5 8.5l.94-2.06 2.06-.94-2.06-.94L8.5 2.5l-.94 2.06-2.06.94zm10 10l.94 2.06.94-2.06 2.06-.94-2.06-.94-.94-2.06-.94 2.06-2.06.94z\"/><path d=\"M17.41 7.96l-1.37-1.37c-.4-.4-.92-.59-1.43-.59-.52 0-1.04.2-1.43.59L10.3 9.45l-7.72 7.72c-.78.78-.78 2.05 0 2.83L4 21.41c.39.39.9.59 1.41.59.51 0 1.02-.2 1.41-.59l7.78-7.78 2.81-2.81c.8-.78.8-2.07 0-2.86zM5.41 20L4 18.59l7.72-7.72 1.47 1.35L5.41 20z\"/>\n",
              "  </svg>\n",
              "      </button>\n",
              "      \n",
              "  <style>\n",
              "    .colab-df-container {\n",
              "      display:flex;\n",
              "      flex-wrap:wrap;\n",
              "      gap: 12px;\n",
              "    }\n",
              "\n",
              "    .colab-df-convert {\n",
              "      background-color: #E8F0FE;\n",
              "      border: none;\n",
              "      border-radius: 50%;\n",
              "      cursor: pointer;\n",
              "      display: none;\n",
              "      fill: #1967D2;\n",
              "      height: 32px;\n",
              "      padding: 0 0 0 0;\n",
              "      width: 32px;\n",
              "    }\n",
              "\n",
              "    .colab-df-convert:hover {\n",
              "      background-color: #E2EBFA;\n",
              "      box-shadow: 0px 1px 2px rgba(60, 64, 67, 0.3), 0px 1px 3px 1px rgba(60, 64, 67, 0.15);\n",
              "      fill: #174EA6;\n",
              "    }\n",
              "\n",
              "    [theme=dark] .colab-df-convert {\n",
              "      background-color: #3B4455;\n",
              "      fill: #D2E3FC;\n",
              "    }\n",
              "\n",
              "    [theme=dark] .colab-df-convert:hover {\n",
              "      background-color: #434B5C;\n",
              "      box-shadow: 0px 1px 3px 1px rgba(0, 0, 0, 0.15);\n",
              "      filter: drop-shadow(0px 1px 2px rgba(0, 0, 0, 0.3));\n",
              "      fill: #FFFFFF;\n",
              "    }\n",
              "  </style>\n",
              "\n",
              "      <script>\n",
              "        const buttonEl =\n",
              "          document.querySelector('#df-c17ba5c9-13c1-486e-ba2e-1618d96d0637 button.colab-df-convert');\n",
              "        buttonEl.style.display =\n",
              "          google.colab.kernel.accessAllowed ? 'block' : 'none';\n",
              "\n",
              "        async function convertToInteractive(key) {\n",
              "          const element = document.querySelector('#df-c17ba5c9-13c1-486e-ba2e-1618d96d0637');\n",
              "          const dataTable =\n",
              "            await google.colab.kernel.invokeFunction('convertToInteractive',\n",
              "                                                     [key], {});\n",
              "          if (!dataTable) return;\n",
              "\n",
              "          const docLinkHtml = 'Like what you see? Visit the ' +\n",
              "            '<a target=\"_blank\" href=https://colab.research.google.com/notebooks/data_table.ipynb>data table notebook</a>'\n",
              "            + ' to learn more about interactive tables.';\n",
              "          element.innerHTML = '';\n",
              "          dataTable['output_type'] = 'display_data';\n",
              "          await google.colab.output.renderOutput(dataTable, element);\n",
              "          const docLink = document.createElement('div');\n",
              "          docLink.innerHTML = docLinkHtml;\n",
              "          element.appendChild(docLink);\n",
              "        }\n",
              "      </script>\n",
              "    </div>\n",
              "  </div>\n",
              "  "
            ]
          },
          "metadata": {}
        }
      ]
    },
    {
      "cell_type": "code",
      "source": [
        "X = df.drop(\"Basin\", axis =1)\n",
        "Y = df[\"Basin\"]"
      ],
      "metadata": {
        "id": "8FMmLpIvTEK2"
      },
      "execution_count": 7,
      "outputs": []
    },
    {
      "cell_type": "code",
      "source": [
        "X_train, X_test, Y_train, Y_test = train_test_split(X,Y,test_size=0.3, random_state=0)\n",
        "\n",
        "print(f'#Training data points: {X_train.shape[0]}')\n",
        "print(f'#Testing data points: {X_test.shape[0]}')\n",
        "print(f'#Class: {np.unique(Y)}')"
      ],
      "metadata": {
        "colab": {
          "base_uri": "https://localhost:8080/"
        },
        "id": "AVtOPRToTOs3",
        "outputId": "a30ef606-09d8-442d-aeef-0060ae57b26d"
      },
      "execution_count": 8,
      "outputs": [
        {
          "output_type": "stream",
          "name": "stdout",
          "text": [
            "#Training data points: 108\n",
            "#Testing data points: 47\n",
            "#Class: [0 1]\n"
          ]
        }
      ]
    },
    {
      "cell_type": "code",
      "source": [
        "from sklearn.tree import DecisionTreeClassifier\n",
        "\n",
        "tree = DecisionTreeClassifier(criterion = \"entropy\", max_depth = 3, min_samples_leaf=5, random_state=0)\n",
        "tree.fit(X_train, Y_train)\n",
        "Y_pred = tree.predict(X_test)\n",
        "Y_pred_train = tree.predict(X_train)"
      ],
      "metadata": {
        "id": "uPwUxBFCTpoA"
      },
      "execution_count": 9,
      "outputs": []
    },
    {
      "cell_type": "code",
      "source": [
        "print(f'============Test============')\n",
        "print(f'Missclassified samples: {(Y_test != Y_pred).sum()}')\n",
        "print(f'Test dataset Accuracy (tree): {(Y_test == Y_pred).sum() / Y_test.shape[0]}')"
      ],
      "metadata": {
        "colab": {
          "base_uri": "https://localhost:8080/"
        },
        "id": "jbbJnA4sV3Fu",
        "outputId": "d01969c1-8cc6-47a9-8d75-084b2695c420"
      },
      "execution_count": 10,
      "outputs": [
        {
          "output_type": "stream",
          "name": "stdout",
          "text": [
            "============Test============\n",
            "Missclassified samples: 13\n",
            "Test dataset Accuracy (tree): 0.723404255319149\n"
          ]
        }
      ]
    },
    {
      "cell_type": "code",
      "source": [
        "print(f'============Train============')\n",
        "print(f'Missclassified samples: {(Y_train != Y_pred_train).sum()}')\n",
        "print(f'Train dataset Accuracy (tree): {(Y_train == Y_pred_train).sum() / Y_train.shape[0]}')"
      ],
      "metadata": {
        "colab": {
          "base_uri": "https://localhost:8080/"
        },
        "id": "CvA3LRypWrht",
        "outputId": "be1c0282-bee6-4b42-9912-137580205893"
      },
      "execution_count": 11,
      "outputs": [
        {
          "output_type": "stream",
          "name": "stdout",
          "text": [
            "============Train============\n",
            "Missclassified samples: 21\n",
            "Train dataset Accuracy (tree): 0.8055555555555556\n"
          ]
        }
      ]
    },
    {
      "cell_type": "code",
      "source": [
        "from sklearn.tree import export_graphviz\n",
        "\n",
        "export_graphviz(tree, out_file = './tree.dot', feature_names = X.columns.values)"
      ],
      "metadata": {
        "id": "O2OpFWTFX5Di"
      },
      "execution_count": 12,
      "outputs": []
    },
    {
      "cell_type": "code",
      "source": [
        "from sklearn.ensemble import RandomForestClassifier\n",
        "\n",
        "forest = RandomForestClassifier(criterion = \"entropy\", n_estimators = 200, random_state = 1, n_jobs = 2)\n",
        "forest.fit(X_train, Y_train)\n",
        "Y_pred = forest.predict(X_test)\n",
        "Y_pred_train = forest.predict(X_train)"
      ],
      "metadata": {
        "id": "I1Aa8H3EYp-P"
      },
      "execution_count": 13,
      "outputs": []
    },
    {
      "cell_type": "code",
      "source": [
        "print(f'============Test============')\n",
        "print(f'Missclassified samples: {(Y_test != Y_pred).sum()}')\n",
        "print(f'Test dataset Accuracy (forest): {(Y_test == Y_pred).sum() / Y_test.shape[0]}')\n",
        "print(f'============Train============')\n",
        "print(f'Missclassified samples: {(Y_train != Y_pred_train).sum()}')\n",
        "print(f'Train dataset Accuracy (forest): {(Y_train == Y_pred_train).sum() / Y_train.shape[0]}')"
      ],
      "metadata": {
        "colab": {
          "base_uri": "https://localhost:8080/"
        },
        "id": "HcCi5EfPY8sH",
        "outputId": "1330a483-c58a-4f83-b03a-99333cd2adf3"
      },
      "execution_count": 14,
      "outputs": [
        {
          "output_type": "stream",
          "name": "stdout",
          "text": [
            "============Test============\n",
            "Missclassified samples: 11\n",
            "Test dataset Accuracy (forest): 0.7659574468085106\n",
            "============Train============\n",
            "Missclassified samples: 0\n",
            "Train dataset Accuracy (forest): 1.0\n"
          ]
        }
      ]
    },
    {
      "cell_type": "code",
      "source": [
        "import matplotlib.pyplot as plt\n",
        "\n",
        "importances = forest.feature_importances_\n",
        "indices = np.argsort(importances)[::-1]\n",
        "\n",
        "for f in range(X_train.shape[1]):\n",
        "  print(f'{f\"{f +1})\":{\"<\"}{3}} {X.columns.values[indices[f]]:{\"<\"}{max([len(x) for x in X.columns.values])+3}} {importances[indices[f]]}')"
      ],
      "metadata": {
        "colab": {
          "base_uri": "https://localhost:8080/"
        },
        "id": "LUxysQegZPVM",
        "outputId": "27e79241-f029-48f9-afe6-47f5d30cf10a"
      },
      "execution_count": 15,
      "outputs": [
        {
          "output_type": "stream",
          "name": "stdout",
          "text": [
            "1)  Nauplii Cyclopoida                 0.08772343300563099\n",
            "2)  Cyclops sp.                        0.07205631772850435\n",
            "3)  Depth                              0.06833926561605884\n",
            "4)  DON                                0.05379608305733355\n",
            "5)  PSU                                0.042185665143101604\n",
            "6)  DOP                                0.03771431539011539\n",
            "7)  O2                                 0.03606841461682495\n",
            "8)  DOC                                0.03591618325000299\n",
            "9)  Cyanobacteria                      0.03151065132027391\n",
            "10) Acartia tonsa                      0.029090545894258583\n",
            "11) TN/TP                              0.027812033927807126\n",
            "12) Keratella cochlearis cochlearis    0.027800756725427797\n",
            "13) temp.                              0.02730471069422631\n",
            "14) SS                                 0.02648296266462954\n",
            "15) PP                                 0.02410570794258376\n",
            "16) SRP                                0.02387815087189549\n",
            "17) PN                                 0.02374939360885505\n",
            "18) Diatomophyceae                     0.023104820274904743\n",
            "19) Chlorophyceae                      0.02241019822745874\n",
            "20) picophytoplankton                  0.02196653808432296\n",
            "21) Keratella cochlearis f.tecta       0.021754692994045404\n",
            "22) TPOC                               0.021633737362029025\n",
            "23) SiO4Si                             0.02133318462305551\n",
            "24) Filinia longiseta                  0.020858230806614343\n",
            "25) NH4N                               0.020450268510650155\n",
            "26) NO3N                               0.02006205533488833\n",
            "27) Diaphanosoma brachyurum            0.018838888957267808\n",
            "28) Flagellata                         0.017923359517932082\n",
            "29) Fe                                 0.015880786864911792\n",
            "30) Windspeedinsitu                    0.015662696507691896\n",
            "31) Eurytemora affinis                 0.014037635285825243\n",
            "32) Acartia longiremis                 0.013747732753092717\n",
            "33) Euglenophyceae                     0.012616298591027461\n",
            "34) Nauplii Calanoida                  0.012160511486021298\n",
            "35) Keratella quadrata                 0.0100237723607303\n"
          ]
        }
      ]
    },
    {
      "cell_type": "code",
      "source": [
        "plt.figure()\n",
        "plt.title(\"Feature Importances\")\n",
        "plt.bar(range(X_train.shape[1]), importances[indices], align='center', alpha=0.5)\n",
        "plt.xticks(range(X_train.shape[1]), X.columns.values[indices], rotation = 90)\n",
        "plt.tight_layout()\n",
        "plt.savefig(\"./fig-forest-feature-importances.png\", dpi=300)\n",
        "plt.show()"
      ],
      "metadata": {
        "colab": {
          "base_uri": "https://localhost:8080/",
          "height": 487
        },
        "id": "VI1fknx_bMSO",
        "outputId": "dbe819b4-4208-4129-daa5-90afdc491ae6"
      },
      "execution_count": 16,
      "outputs": [
        {
          "output_type": "display_data",
          "data": {
            "text/plain": [
              "<Figure size 640x480 with 1 Axes>"
            ],
            "image/png": "[encoded data removed]"
          },
          "metadata": {}
        }
      ]
    },
    {
      "cell_type": "code",
      "source": [
        "Z_forest = X[['Cyclops sp.', 'Nauplii Cyclopoida']].values\n",
        "colors = ['r','b','g','k']\n",
        "markers = ['s','x','o','^']\n",
        "for l, c, m in zip(np.unique(Y.values), colors, markers):\n",
        "  plt.scatter(Z_forest[Y.values==l, 0], Z_forest[Y.values==l, 1], c=c, label=l, marker=m)\n",
        "plt.title(\"Z_forest\")\n",
        "plt.xlabel('Cyclops sp.')\n",
        "plt.ylabel('Nauplii Cyclopoida')\n",
        "plt.legend(loc=\"lower right\")\n",
        "plt.tight_layout()\n",
        "plt.savefig(\"./fig-forest-z.png\", dpi=300)\n",
        "plt.show()"
      ],
      "metadata": {
        "colab": {
          "base_uri": "https://localhost:8080/",
          "height": 487
        },
        "id": "Evc3hI0ib-_Y",
        "outputId": "2eded65f-f903-4286-dfd8-c9d73742e696"
      },
      "execution_count": 17,
      "outputs": [
        {
          "output_type": "display_data",
          "data": {
            "text/plain": [
              "<Figure size 640x480 with 1 Axes>"
            ],
            "image/png": "[encoded data removed]"
          },
          "metadata": {}
        }
      ]
    },
    {
      "cell_type": "code",
      "source": [
        "X_train_z, X_test_z, Y_train_z, Y_test_z = train_test_split(Z_forest,Y,test_size=0.3, random_state=0)\n",
        "tree_forest = DecisionTreeClassifier(criterion = \"entropy\", max_depth = 10, min_samples_leaf=5, random_state=0)\n",
        "tree_forest.fit(X_train_z, Y_train_z)\n",
        "Y_pred_z = tree_forest.predict(X_test_z)\n",
        "Y_pred_train_z = tree_forest.predict(X_train_z)"
      ],
      "metadata": {
        "id": "aSU28ePjdWSL"
      },
      "execution_count": 18,
      "outputs": []
    },
    {
      "cell_type": "code",
      "source": [
        "print(f'============Test============')\n",
        "print(f'Missclassified samples: {(Y_test_z != Y_pred_z).sum()}')\n",
        "print(f'Test dataset Accuracy (tree_forest): {(Y_test_z == Y_pred_z).sum() / Y_test_z.shape[0]}')\n",
        "print(f'============Train============')\n",
        "print(f'Missclassified samples: {(Y_train_z != Y_pred_train_z).sum()}')\n",
        "print(f'Train dataset Accuracy (tree_forest): {(Y_train_z == Y_pred_train_z).sum() / Y_train_z.shape[0]}')"
      ],
      "metadata": {
        "colab": {
          "base_uri": "https://localhost:8080/"
        },
        "id": "HlVLeR7Vd4xw",
        "outputId": "059165af-fff5-4634-9e43-ac272a697b52"
      },
      "execution_count": 19,
      "outputs": [
        {
          "output_type": "stream",
          "name": "stdout",
          "text": [
            "============Test============\n",
            "Missclassified samples: 15\n",
            "Test dataset Accuracy (tree_forest): 0.6808510638297872\n",
            "============Train============\n",
            "Missclassified samples: 22\n",
            "Train dataset Accuracy (tree_forest): 0.7962962962962963\n"
          ]
        }
      ]
    },
    {
      "cell_type": "code",
      "source": [
        "from sklearn.feature_selection import SelectFromModel\n",
        "\n",
        "sfm = SelectFromModel(forest, threshold=0.075, prefit=True)\n",
        "Z_forest_alt = sfm.transform(X)\n",
        "\n",
        "for f in range(Z_forest_alt.shape[1]):\n",
        "  print(f'{f\"{f +1})\":{\"<\"}{3}} {X.columns.values[indices[f]]:{\"<\"}{max([len(x) for x in X.columns.values])+3}} {importances[indices[f]]}')"
      ],
      "metadata": {
        "colab": {
          "base_uri": "https://localhost:8080/"
        },
        "id": "K49rPrQKeKZr",
        "outputId": "d335132b-a3b6-4133-f702-5b5da270d70f"
      },
      "execution_count": 20,
      "outputs": [
        {
          "output_type": "stream",
          "name": "stdout",
          "text": [
            "1)  Nauplii Cyclopoida                 0.08772343300563099\n"
          ]
        }
      ]
    },
    {
      "cell_type": "code",
      "source": [
        "forest_forest = RandomForestClassifier(criterion = \"entropy\", n_estimators = 200, random_state = 1, n_jobs = 2)\n",
        "forest_forest.fit(X_train_z, Y_train_z)\n",
        "Y_pred_z = forest_forest.predict(X_test_z)\n",
        "Y_pred_train_z = forest_forest.predict(X_train_z)"
      ],
      "metadata": {
        "id": "9Gtn7-lkex-6"
      },
      "execution_count": 21,
      "outputs": []
    },
    {
      "cell_type": "code",
      "source": [
        "print(f'============Test============')\n",
        "print(f'Missclassified samples: {(Y_test_z != Y_pred_z).sum()}')\n",
        "print(f'Test dataset Accuracy (forest_forest): {(Y_test_z == Y_pred_z).sum() / Y_test_z.shape[0]}')\n",
        "print(f'============Train============')\n",
        "print(f'Missclassified samples: {(Y_train_z != Y_pred_train_z).sum()}')\n",
        "print(f'Train dataset Accuracy (forest_forest): {(Y_train_z == Y_pred_train_z).sum() / Y_train_z.shape[0]}')"
      ],
      "metadata": {
        "colab": {
          "base_uri": "https://localhost:8080/"
        },
        "id": "qSAjdsYafERW",
        "outputId": "d303dfc7-6045-4620-b1bd-a594d4c8d63d"
      },
      "execution_count": 22,
      "outputs": [
        {
          "output_type": "stream",
          "name": "stdout",
          "text": [
            "============Test============\n",
            "Missclassified samples: 13\n",
            "Test dataset Accuracy (forest_forest): 0.723404255319149\n",
            "============Train============\n",
            "Missclassified samples: 2\n",
            "Train dataset Accuracy (forest_forest): 0.9814814814814815\n"
          ]
        }
      ]
    },
    {
      "cell_type": "code",
      "source": [
        "%matplotlib inline\n",
        "from matplotlib.colors import ListedColormap"
      ],
      "metadata": {
        "id": "ZCPqJBNxfXt6"
      },
      "execution_count": 23,
      "outputs": []
    },
    {
      "cell_type": "code",
      "source": [
        "def plot_decision_regions(X,Y, classifier, test_idx = None, resolution = 0.02):\n",
        "  colors = ['red','blue','lightgreen','gray','cyan']\n",
        "  markers = ['s','x','o','^','v']\n",
        "  cmap = ListedColormap(colors[:len(np.unique(Y))])\n",
        "\n",
        "  x1_min, x1_max = X[:,0].min() - 1, X[:,0].max() + 1\n",
        "  x2_min, x2_max = X[:,1].min() - 1, X[:,1].max() + 1\n",
        "  xx1, xx2 = np.meshgrid(np.arange(x1_min, x1_max,resolution),np.arange(x2_min, x2_max,resolution))\n",
        "\n",
        "  Z = classifier.predict(np.array([xx1.ravel(),xx2.ravel()]).T)\n",
        "  Z = Z.reshape(xx1.shape)\n",
        "  plt.contourf(xx1, xx2, Z, alpha=0.4, cmap = cmap)\n",
        "  plt.xlim(xx1.min(), xx1.max())\n",
        "  plt.ylim(xx2.min(), xx2.max())\n",
        "\n",
        "  for idx, cl in enumerate(np.unique(Y)):\n",
        "    plt.scatter(x = X[Y==cl,0], y = X[Y==cl,1], alpha=0.8, c= [cmap(idx)], marker = markers[idx], label=cl)\n",
        "\n",
        "  if test_idx:\n",
        "    X_test, Y_test = X[test_idx, :], Y[test_idx]\n",
        "    plt.scatter(X_test[:,0], X_test[:,1], c='c', alpha=1.0, linewidths=1, marker='o', s=55, label=\"test_set\", edgecolors=\"k\")"
      ],
      "metadata": {
        "id": "APWSmgpHfhDO"
      },
      "execution_count": 24,
      "outputs": []
    },
    {
      "cell_type": "code",
      "source": [
        "Z_forest_combined = np.vstack((X_train_z, X_test_z))\n",
        "Y_forest_combined = np.hstack((Y_train_z, Y_test_z))\n",
        "plot_decision_regions(Z_forest_combined, Y_forest_combined, classifier = tree_forest, test_idx = range(Y_train_z.shape[0], Y_train_z.shape[0]+Y_test_z.shape[0]))\n",
        "\n",
        "plt.title(\"Tree_forest\")\n",
        "plt.xlabel(\"Cyclops sp.\")\n",
        "plt.ylabel(\"Nauplii Cyclopoida\")\n",
        "plt.legend(loc=\"lower right\")\n",
        "plt.tight_layout()\n",
        "plt.savefig(\"./fig_borders-tree-forest-z.png\", dpi=300)\n",
        "plt.show()"
      ],
      "metadata": {
        "colab": {
          "base_uri": "https://localhost:8080/",
          "height": 487
        },
        "id": "RTP7ki3NhsAr",
        "outputId": "b3c6d8e3-a1c3-4474-b286-3c8a26494d09"
      },
      "execution_count": 25,
      "outputs": [
        {
          "output_type": "display_data",
          "data": {
            "text/plain": [
              "<Figure size 640x480 with 1 Axes>"
            ],
            "image/png": "[encoded data removed]"
          },
          "metadata": {}
        }
      ]
    },
    {
      "cell_type": "code",
      "source": [
        "plot_decision_regions(Z_forest_combined, Y_forest_combined, classifier = forest_forest, test_idx = range(Y_train_z.shape[0], Y_train_z.shape[0]+Y_test_z.shape[0]))\n",
        "\n",
        "plt.title(\"Forest_forest\")\n",
        "plt.xlabel(\"Cyclops sp.\")\n",
        "plt.ylabel(\"Nauplii Cyclopoida\")\n",
        "plt.legend(loc=\"lower right\")\n",
        "plt.tight_layout()\n",
        "plt.savefig(\"./fig_borders-forest-forest-z.png\", dpi=300)\n",
        "plt.show()"
      ],
      "metadata": {
        "colab": {
          "base_uri": "https://localhost:8080/",
          "height": 487
        },
        "id": "s-gkCB_QlJjr",
        "outputId": "dbdea84f-7371-4cf8-97f4-ac7e13e05ee6"
      },
      "execution_count": 26,
      "outputs": [
        {
          "output_type": "display_data",
          "data": {
            "text/plain": [
              "<Figure size 640x480 with 1 Axes>"
            ],
            "image/png": "[encoded data removed]"
          },
          "metadata": {}
        }
      ]
    },
    {
      "cell_type": "code",
      "source": [
        "%%shell\n",
        "jupyter nbconvert --to html ///content/Decissiontree.ipynb"
      ],
      "metadata": {
        "colab": {
          "base_uri": "https://localhost:8080/",
          "height": 1000
        },
        "id": "gtdoHNAGm0iG",
        "outputId": "b115a5af-3c25-4a02-ecde-81795a2cc6c7"
      },
      "execution_count": 27,
      "outputs": [
        {
          "output_type": "stream",
          "name": "stdout",
          "text": [
            "[NbConvertApp] WARNING | pattern '///content/Decissiontree.ipynb' matched no files\n",
            "This application is used to convert notebook files (*.ipynb)\n",
            "        to various other formats.\n",
            "\n",
            "        WARNING: THE COMMANDLINE INTERFACE MAY CHANGE IN FUTURE RELEASES.\n",
            "\n",
            "Options\n",
            "=======\n",
            "The options below are convenience aliases to configurable class-options,\n",
            "as listed in the \"Equivalent to\" description-line of the aliases.\n",
            "To see all configurable class-options for some <cmd>, use:\n",
            "    <cmd> --help-all\n",
            "\n",
            "--debug\n",
            "    set log level to logging.DEBUG (maximize logging output)\n",
            "    Equivalent to: [--Application.log_level=10]\n",
            "--show-config\n",
            "    Show the application's configuration (human-readable format)\n",
            "    Equivalent to: [--Application.show_config=True]\n",
            "--show-config-json\n",
            "    Show the application's configuration (json format)\n",
            "    Equivalent to: [--Application.show_config_json=True]\n",
            "--generate-config\n",
            "    generate default config file\n",
            "    Equivalent to: [--JupyterApp.generate_config=True]\n",
            "-y\n",
            "    Answer yes to any questions instead of prompting.\n",
            "    Equivalent to: [--JupyterApp.answer_yes=True]\n",
            "--execute\n",
            "    Execute the notebook prior to export.\n",
            "    Equivalent to: [--ExecutePreprocessor.enabled=True]\n",
            "--allow-errors\n",
            "    Continue notebook execution even if one of the cells throws an error and include the error message in the cell output (the default behaviour is to abort conversion). This flag is only relevant if '--execute' was specified, too.\n",
            "    Equivalent to: [--ExecutePreprocessor.allow_errors=True]\n",
            "--stdin\n",
            "    read a single notebook file from stdin. Write the resulting notebook with default basename 'notebook.*'\n",
            "    Equivalent to: [--NbConvertApp.from_stdin=True]\n",
            "--stdout\n",
            "    Write notebook output to stdout instead of files.\n",
            "    Equivalent to: [--NbConvertApp.writer_class=StdoutWriter]\n",
            "--inplace\n",
            "    Run nbconvert in place, overwriting the existing notebook (only\n",
            "            relevant when converting to notebook format)\n",
            "    Equivalent to: [--NbConvertApp.use_output_suffix=False --NbConvertApp.export_format=notebook --FilesWriter.build_directory=]\n",
            "--clear-output\n",
            "    Clear output of current file and save in place,\n",
            "            overwriting the existing notebook.\n",
            "    Equivalent to: [--NbConvertApp.use_output_suffix=False --NbConvertApp.export_format=notebook --FilesWriter.build_directory= --ClearOutputPreprocessor.enabled=True]\n",
            "--no-prompt\n",
            "    Exclude input and output prompts from converted document.\n",
            "    Equivalent to: [--TemplateExporter.exclude_input_prompt=True --TemplateExporter.exclude_output_prompt=True]\n",
            "--no-input\n",
            "    Exclude input cells and output prompts from converted document.\n",
            "            This mode is ideal for generating code-free reports.\n",
            "    Equivalent to: [--TemplateExporter.exclude_output_prompt=True --TemplateExporter.exclude_input=True --TemplateExporter.exclude_input_prompt=True]\n",
            "--allow-chromium-download\n",
            "    Whether to allow downloading chromium if no suitable version is found on the system.\n",
            "    Equivalent to: [--WebPDFExporter.allow_chromium_download=True]\n",
            "--disable-chromium-sandbox\n",
            "    Disable chromium security sandbox when converting to PDF..\n",
            "    Equivalent to: [--WebPDFExporter.disable_sandbox=True]\n",
            "--show-input\n",
            "    Shows code input. This flag is only useful for dejavu users.\n",
            "    Equivalent to: [--TemplateExporter.exclude_input=False]\n",
            "--embed-images\n",
            "    Embed the images as base64 dataurls in the output. This flag is only useful for the HTML/WebPDF/Slides exports.\n",
            "    Equivalent to: [--HTMLExporter.embed_images=True]\n",
            "--sanitize-html\n",
            "    Whether the HTML in Markdown cells and cell outputs should be sanitized..\n",
            "    Equivalent to: [--HTMLExporter.sanitize_html=True]\n",
            "--log-level=<Enum>\n",
            "    Set the log level by value or name.\n",
            "    Choices: any of [0, 10, 20, 30, 40, 50, 'DEBUG', 'INFO', 'WARN', 'ERROR', 'CRITICAL']\n",
            "    Default: 30\n",
            "    Equivalent to: [--Application.log_level]\n",
            "--config=<Unicode>\n",
            "    Full path of a config file.\n",
            "    Default: ''\n",
            "    Equivalent to: [--JupyterApp.config_file]\n",
            "--to=<Unicode>\n",
            "    The export format to be used, either one of the built-in formats\n",
            "            ['asciidoc', 'custom', 'html', 'latex', 'markdown', 'notebook', 'pdf', 'python', 'rst', 'script', 'slides', 'webpdf']\n",
            "            or a dotted object name that represents the import path for an\n",
            "            ``Exporter`` class\n",
            "    Default: ''\n",
            "    Equivalent to: [--NbConvertApp.export_format]\n",
            "--template=<Unicode>\n",
            "    Name of the template to use\n",
            "    Default: ''\n",
            "    Equivalent to: [--TemplateExporter.template_name]\n",
            "--template-file=<Unicode>\n",
            "    Name of the template file to use\n",
            "    Default: None\n",
            "    Equivalent to: [--TemplateExporter.template_file]\n",
            "--theme=<Unicode>\n",
            "    Template specific theme(e.g. the name of a JupyterLab CSS theme distributed\n",
            "    as prebuilt extension for the lab template)\n",
            "    Default: 'light'\n",
            "    Equivalent to: [--HTMLExporter.theme]\n",
            "--sanitize_html=<Bool>\n",
            "    Whether the HTML in Markdown cells and cell outputs should be sanitized.This\n",
            "    should be set to True by nbviewer or similar tools.\n",
            "    Default: False\n",
            "    Equivalent to: [--HTMLExporter.sanitize_html]\n",
            "--writer=<DottedObjectName>\n",
            "    Writer class used to write the\n",
            "                                        results of the conversion\n",
            "    Default: 'FilesWriter'\n",
            "    Equivalent to: [--NbConvertApp.writer_class]\n",
            "--post=<DottedOrNone>\n",
            "    PostProcessor class used to write the\n",
            "                                        results of the conversion\n",
            "    Default: ''\n",
            "    Equivalent to: [--NbConvertApp.postprocessor_class]\n",
            "--output=<Unicode>\n",
            "    overwrite base name use for output files.\n",
            "                can only be used when converting one notebook at a time.\n",
            "    Default: ''\n",
            "    Equivalent to: [--NbConvertApp.output_base]\n",
            "--output-dir=<Unicode>\n",
            "    Directory to write output(s) to. Defaults\n",
            "                                  to output to the directory of each notebook. To recover\n",
            "                                  previous default behaviour (outputting to the current\n",
            "                                  working directory) use . as the flag value.\n",
            "    Default: ''\n",
            "    Equivalent to: [--FilesWriter.build_directory]\n",
            "--reveal-prefix=<Unicode>\n",
            "    The URL prefix for reveal.js (version 3.x).\n",
            "            This defaults to the reveal CDN, but can be any url pointing to a copy\n",
            "            of reveal.js.\n",
            "            For speaker notes to work, this must be a relative path to a local\n",
            "            copy of reveal.js: e.g., \"reveal.js\".\n",
            "            If a relative path is given, it must be a subdirectory of the\n",
            "            current directory (from which the server is run).\n",
            "            See the usage documentation\n",
            "            (https://nbconvert.readthedocs.io/en/latest/usage.html#reveal-js-html-slideshow)\n",
            "            for more details.\n",
            "    Default: ''\n",
            "    Equivalent to: [--SlidesExporter.reveal_url_prefix]\n",
            "--nbformat=<Enum>\n",
            "    The nbformat version to write.\n",
            "            Use this to downgrade notebooks.\n",
            "    Choices: any of [1, 2, 3, 4]\n",
            "    Default: 4\n",
            "    Equivalent to: [--NotebookExporter.nbformat_version]\n",
            "\n",
            "Examples\n",
            "--------\n",
            "\n",
            "    The simplest way to use nbconvert is\n",
            "\n",
            "            > jupyter nbconvert mynotebook.ipynb --to html\n",
            "\n",
            "            Options include ['asciidoc', 'custom', 'html', 'latex', 'markdown', 'notebook', 'pdf', 'python', 'rst', 'script', 'slides', 'webpdf'].\n",
            "\n",
            "            > jupyter nbconvert --to latex mynotebook.ipynb\n",
            "\n",
            "            Both HTML and LaTeX support multiple output templates. LaTeX includes\n",
            "            'base', 'article' and 'report'.  HTML includes 'basic', 'lab' and\n",
            "            'classic'. You can specify the flavor of the format used.\n",
            "\n",
            "            > jupyter nbconvert --to html --template lab mynotebook.ipynb\n",
            "\n",
            "            You can also pipe the output to stdout, rather than a file\n",
            "\n",
            "            > jupyter nbconvert mynotebook.ipynb --stdout\n",
            "\n",
            "            PDF is generated via latex\n",
            "\n",
            "            > jupyter nbconvert mynotebook.ipynb --to pdf\n",
            "\n",
            "            You can get (and serve) a Reveal.js-powered slideshow\n",
            "\n",
            "            > jupyter nbconvert myslides.ipynb --to slides --post serve\n",
            "\n",
            "            Multiple notebooks can be given at the command line in a couple of\n",
            "            different ways:\n",
            "\n",
            "            > jupyter nbconvert notebook*.ipynb\n",
            "            > jupyter nbconvert notebook1.ipynb notebook2.ipynb\n",
            "\n",
            "            or you can specify the notebooks list in a config file, containing::\n",
            "\n",
            "                c.NbConvertApp.notebooks = [\"my_notebook.ipynb\"]\n",
            "\n",
            "            > jupyter nbconvert --config mycfg.py\n",
            "\n",
            "To see all available configurables, use `--help-all`.\n",
            "\n"
          ]
        },
        {
          "output_type": "error",
          "ename": "CalledProcessError",
          "evalue": "ignored",
          "traceback": [
            "\u001b[0;31m---------------------------------------------------------------------------\u001b[0m",
            "\u001b[0;31mCalledProcessError\u001b[0m                        Traceback (most recent call last)",
            "\u001b[0;32m<ipython-input-27-6eddefb786e0>\u001b[0m in \u001b[0;36m<cell line: 1>\u001b[0;34m()\u001b[0m\n\u001b[0;32m----> 1\u001b[0;31m \u001b[0mget_ipython\u001b[0m\u001b[0;34m(\u001b[0m\u001b[0;34m)\u001b[0m\u001b[0;34m.\u001b[0m\u001b[0mrun_cell_magic\u001b[0m\u001b[0;34m(\u001b[0m\u001b[0;34m'shell'\u001b[0m\u001b[0;34m,\u001b[0m \u001b[0;34m''\u001b[0m\u001b[0;34m,\u001b[0m \u001b[0;34m'jupyter nbconvert --to html ///content/Decissiontree.ipynb\\n'\u001b[0m\u001b[0;34m)\u001b[0m\u001b[0;34m\u001b[0m\u001b[0;34m\u001b[0m\u001b[0m\n\u001b[0m",
            "\u001b[0;32m/usr/local/lib/python3.10/dist-packages/google/colab/_shell.py\u001b[0m in \u001b[0;36mrun_cell_magic\u001b[0;34m(self, magic_name, line, cell)\u001b[0m\n\u001b[1;32m    332\u001b[0m     \u001b[0;32mif\u001b[0m \u001b[0mline\u001b[0m \u001b[0;32mand\u001b[0m \u001b[0;32mnot\u001b[0m \u001b[0mcell\u001b[0m\u001b[0;34m:\u001b[0m\u001b[0;34m\u001b[0m\u001b[0;34m\u001b[0m\u001b[0m\n\u001b[1;32m    333\u001b[0m       \u001b[0mcell\u001b[0m \u001b[0;34m=\u001b[0m \u001b[0;34m' '\u001b[0m\u001b[0;34m\u001b[0m\u001b[0;34m\u001b[0m\u001b[0m\n\u001b[0;32m--> 334\u001b[0;31m     \u001b[0;32mreturn\u001b[0m \u001b[0msuper\u001b[0m\u001b[0;34m(\u001b[0m\u001b[0;34m)\u001b[0m\u001b[0;34m.\u001b[0m\u001b[0mrun_cell_magic\u001b[0m\u001b[0;34m(\u001b[0m\u001b[0mmagic_name\u001b[0m\u001b[0;34m,\u001b[0m \u001b[0mline\u001b[0m\u001b[0;34m,\u001b[0m \u001b[0mcell\u001b[0m\u001b[0;34m)\u001b[0m\u001b[0;34m\u001b[0m\u001b[0;34m\u001b[0m\u001b[0m\n\u001b[0m\u001b[1;32m    335\u001b[0m \u001b[0;34m\u001b[0m\u001b[0m\n\u001b[1;32m    336\u001b[0m \u001b[0;34m\u001b[0m\u001b[0m\n",
            "\u001b[0;32m/usr/local/lib/python3.10/dist-packages/IPython/core/interactiveshell.py\u001b[0m in \u001b[0;36mrun_cell_magic\u001b[0;34m(self, magic_name, line, cell)\u001b[0m\n\u001b[1;32m   2471\u001b[0m             \u001b[0;32mwith\u001b[0m \u001b[0mself\u001b[0m\u001b[0;34m.\u001b[0m\u001b[0mbuiltin_trap\u001b[0m\u001b[0;34m:\u001b[0m\u001b[0;34m\u001b[0m\u001b[0;34m\u001b[0m\u001b[0m\n\u001b[1;32m   2472\u001b[0m                 \u001b[0margs\u001b[0m \u001b[0;34m=\u001b[0m \u001b[0;34m(\u001b[0m\u001b[0mmagic_arg_s\u001b[0m\u001b[0;34m,\u001b[0m \u001b[0mcell\u001b[0m\u001b[0;34m)\u001b[0m\u001b[0;34m\u001b[0m\u001b[0;34m\u001b[0m\u001b[0m\n\u001b[0;32m-> 2473\u001b[0;31m                 \u001b[0mresult\u001b[0m \u001b[0;34m=\u001b[0m \u001b[0mfn\u001b[0m\u001b[0;34m(\u001b[0m\u001b[0;34m*\u001b[0m\u001b[0margs\u001b[0m\u001b[0;34m,\u001b[0m \u001b[0;34m**\u001b[0m\u001b[0mkwargs\u001b[0m\u001b[0;34m)\u001b[0m\u001b[0;34m\u001b[0m\u001b[0;34m\u001b[0m\u001b[0m\n\u001b[0m\u001b[1;32m   2474\u001b[0m             \u001b[0;32mreturn\u001b[0m \u001b[0mresult\u001b[0m\u001b[0;34m\u001b[0m\u001b[0;34m\u001b[0m\u001b[0m\n\u001b[1;32m   2475\u001b[0m \u001b[0;34m\u001b[0m\u001b[0m\n",
            "\u001b[0;32m/usr/local/lib/python3.10/dist-packages/google/colab/_system_commands.py\u001b[0m in \u001b[0;36m_shell_cell_magic\u001b[0;34m(args, cmd)\u001b[0m\n\u001b[1;32m    110\u001b[0m   \u001b[0mresult\u001b[0m \u001b[0;34m=\u001b[0m \u001b[0m_run_command\u001b[0m\u001b[0;34m(\u001b[0m\u001b[0mcmd\u001b[0m\u001b[0;34m,\u001b[0m \u001b[0mclear_streamed_output\u001b[0m\u001b[0;34m=\u001b[0m\u001b[0;32mFalse\u001b[0m\u001b[0;34m)\u001b[0m\u001b[0;34m\u001b[0m\u001b[0;34m\u001b[0m\u001b[0m\n\u001b[1;32m    111\u001b[0m   \u001b[0;32mif\u001b[0m \u001b[0;32mnot\u001b[0m \u001b[0mparsed_args\u001b[0m\u001b[0;34m.\u001b[0m\u001b[0mignore_errors\u001b[0m\u001b[0;34m:\u001b[0m\u001b[0;34m\u001b[0m\u001b[0;34m\u001b[0m\u001b[0m\n\u001b[0;32m--> 112\u001b[0;31m     \u001b[0mresult\u001b[0m\u001b[0;34m.\u001b[0m\u001b[0mcheck_returncode\u001b[0m\u001b[0;34m(\u001b[0m\u001b[0;34m)\u001b[0m\u001b[0;34m\u001b[0m\u001b[0;34m\u001b[0m\u001b[0m\n\u001b[0m\u001b[1;32m    113\u001b[0m   \u001b[0;32mreturn\u001b[0m \u001b[0mresult\u001b[0m\u001b[0;34m\u001b[0m\u001b[0;34m\u001b[0m\u001b[0m\n\u001b[1;32m    114\u001b[0m \u001b[0;34m\u001b[0m\u001b[0m\n",
            "\u001b[0;32m/usr/local/lib/python3.10/dist-packages/google/colab/_system_commands.py\u001b[0m in \u001b[0;36mcheck_returncode\u001b[0;34m(self)\u001b[0m\n\u001b[1;32m    135\u001b[0m   \u001b[0;32mdef\u001b[0m \u001b[0mcheck_returncode\u001b[0m\u001b[0;34m(\u001b[0m\u001b[0mself\u001b[0m\u001b[0;34m)\u001b[0m\u001b[0;34m:\u001b[0m\u001b[0;34m\u001b[0m\u001b[0;34m\u001b[0m\u001b[0m\n\u001b[1;32m    136\u001b[0m     \u001b[0;32mif\u001b[0m \u001b[0mself\u001b[0m\u001b[0;34m.\u001b[0m\u001b[0mreturncode\u001b[0m\u001b[0;34m:\u001b[0m\u001b[0;34m\u001b[0m\u001b[0;34m\u001b[0m\u001b[0m\n\u001b[0;32m--> 137\u001b[0;31m       raise subprocess.CalledProcessError(\n\u001b[0m\u001b[1;32m    138\u001b[0m           \u001b[0mreturncode\u001b[0m\u001b[0;34m=\u001b[0m\u001b[0mself\u001b[0m\u001b[0;34m.\u001b[0m\u001b[0mreturncode\u001b[0m\u001b[0;34m,\u001b[0m \u001b[0mcmd\u001b[0m\u001b[0;34m=\u001b[0m\u001b[0mself\u001b[0m\u001b[0;34m.\u001b[0m\u001b[0margs\u001b[0m\u001b[0;34m,\u001b[0m \u001b[0moutput\u001b[0m\u001b[0;34m=\u001b[0m\u001b[0mself\u001b[0m\u001b[0;34m.\u001b[0m\u001b[0moutput\u001b[0m\u001b[0;34m\u001b[0m\u001b[0;34m\u001b[0m\u001b[0m\n\u001b[1;32m    139\u001b[0m       )\n",
            "\u001b[0;31mCalledProcessError\u001b[0m: Command 'jupyter nbconvert --to html ///content/Decissiontree.ipynb\n' returned non-zero exit status 255."
          ]
        }
      ]
    }
  ]
}