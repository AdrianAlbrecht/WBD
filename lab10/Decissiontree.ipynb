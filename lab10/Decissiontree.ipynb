{
  "nbformat": 4,
  "nbformat_minor": 0,
  "metadata": {
    "colab": {
      "provenance": []
    },
    "kernelspec": {
      "name": "python3",
      "display_name": "Python 3"
    },
    "language_info": {
      "name": "python"
    }
  },
  "cells": [
    {
      "cell_type": "code",
      "execution_count": 127,
      "metadata": {
        "id": "ukQICtbJSDeq"
      },
      "outputs": [],
      "source": [
        "import warnings\n",
        "warnings.filterwarnings('ignore')"
      ]
    },
    {
      "cell_type": "code",
      "source": [
        "import numpy as np\n",
        "import pandas as pd\n",
        "from IPython.display import display\n",
        "from sklearn.model_selection import train_test_split"
      ],
      "metadata": {
        "id": "pS8hZu4jSLHD"
      },
      "execution_count": 128,
      "outputs": []
    },
    {
      "cell_type": "code",
      "source": [
        "df = pd.read_csv(\"./VLagun_Total_Basins_DT.csv\")"
      ],
      "metadata": {
        "id": "Du0ca2E5SoaB"
      },
      "execution_count": 129,
      "outputs": []
    },
    {
      "cell_type": "code",
      "source": [
        "display(df.head())"
      ],
      "metadata": {
        "colab": {
          "base_uri": "https://localhost:8080/",
          "height": 314
        },
        "id": "gsyBXG86Sue-",
        "outputId": "9888ddd8-609d-4b4b-b3f4-c4c8d119a963"
      },
      "execution_count": 130,
      "outputs": [
        {
          "output_type": "display_data",
          "data": {
            "text/plain": [
              "        PSU    O2  temp.    SS   SRP   DOP     PP   NH4N   NO3N    DON  ...  \\\n",
              "0  3.757624  9.46   18.3  52.0   3.5  11.7  185.0  0.039  0.022  0.551  ...   \n",
              "1  3.504707  9.89   19.1  50.0   4.4  17.5  111.3  0.020  0.025  0.123  ...   \n",
              "2  3.721493  9.63   17.5  62.0  11.7  13.0  117.6  0.036  0.021  0.727  ...   \n",
              "3  4.407982  9.54   18.4  55.0   7.4  16.2  124.7  0.023  0.024  0.566  ...   \n",
              "4  4.389916  9.34   17.8  53.0  13.8  21.4   84.4  0.031  0.030  0.022  ...   \n",
              "\n",
              "   Acartia tonsa  Eurytemora affinis  Cyclops sp.  Nauplii Cyclopoida  \\\n",
              "0         0.9298              0.9251       0.0000              0.0025   \n",
              "1         0.0378              0.0000       0.0000              0.0000   \n",
              "2         0.0000              0.0000       0.0093              0.0138   \n",
              "3         0.0000              0.0129       0.0060              0.0140   \n",
              "4         0.0000              0.0141       0.0000              0.0093   \n",
              "\n",
              "   Nauplii Calanoida  Filinia longiseta  Keratella cochlearis cochlearis  \\\n",
              "0             0.0257             1.3152                           0.8920   \n",
              "1             0.0000             0.0769                           0.0640   \n",
              "2             0.0006             0.0466                           0.0120   \n",
              "3             0.0155             0.0313                           0.0079   \n",
              "4             0.0007             0.0491                           0.0143   \n",
              "\n",
              "   Keratella cochlearis f.tecta  Keratella quadrata    Basin  \n",
              "0                        0.2714              0.0000  Eastern  \n",
              "1                        0.0464              0.0000  Eastern  \n",
              "2                        0.0044              0.0000  Eastern  \n",
              "3                        0.0040              0.0000  Eastern  \n",
              "4                        0.0019              0.0026  Eastern  \n",
              "\n",
              "[5 rows x 36 columns]"
            ],
            "text/html": [
              "\n",
              "  <div id=\"df-59e12ae8-e209-4149-af51-a3d330cc1e6c\">\n",
              "    <div class=\"colab-df-container\">\n",
              "      <div>\n",
              "<style scoped>\n",
              "    .dataframe tbody tr th:only-of-type {\n",
              "        vertical-align: middle;\n",
              "    }\n",
              "\n",
              "    .dataframe tbody tr th {\n",
              "        vertical-align: top;\n",
              "    }\n",
              "\n",
              "    .dataframe thead th {\n",
              "        text-align: right;\n",
              "    }\n",
              "</style>\n",
              "<table border=\"1\" class=\"dataframe\">\n",
              "  <thead>\n",
              "    <tr style=\"text-align: right;\">\n",
              "      <th></th>\n",
              "      <th>PSU</th>\n",
              "      <th>O2</th>\n",
              "      <th>temp.</th>\n",
              "      <th>SS</th>\n",
              "      <th>SRP</th>\n",
              "      <th>DOP</th>\n",
              "      <th>PP</th>\n",
              "      <th>NH4N</th>\n",
              "      <th>NO3N</th>\n",
              "      <th>DON</th>\n",
              "      <th>...</th>\n",
              "      <th>Acartia tonsa</th>\n",
              "      <th>Eurytemora affinis</th>\n",
              "      <th>Cyclops sp.</th>\n",
              "      <th>Nauplii Cyclopoida</th>\n",
              "      <th>Nauplii Calanoida</th>\n",
              "      <th>Filinia longiseta</th>\n",
              "      <th>Keratella cochlearis cochlearis</th>\n",
              "      <th>Keratella cochlearis f.tecta</th>\n",
              "      <th>Keratella quadrata</th>\n",
              "      <th>Basin</th>\n",
              "    </tr>\n",
              "  </thead>\n",
              "  <tbody>\n",
              "    <tr>\n",
              "      <th>0</th>\n",
              "      <td>3.757624</td>\n",
              "      <td>9.46</td>\n",
              "      <td>18.3</td>\n",
              "      <td>52.0</td>\n",
              "      <td>3.5</td>\n",
              "      <td>11.7</td>\n",
              "      <td>185.0</td>\n",
              "      <td>0.039</td>\n",
              "      <td>0.022</td>\n",
              "      <td>0.551</td>\n",
              "      <td>...</td>\n",
              "      <td>0.9298</td>\n",
              "      <td>0.9251</td>\n",
              "      <td>0.0000</td>\n",
              "      <td>0.0025</td>\n",
              "      <td>0.0257</td>\n",
              "      <td>1.3152</td>\n",
              "      <td>0.8920</td>\n",
              "      <td>0.2714</td>\n",
              "      <td>0.0000</td>\n",
              "      <td>Eastern</td>\n",
              "    </tr>\n",
              "    <tr>\n",
              "      <th>1</th>\n",
              "      <td>3.504707</td>\n",
              "      <td>9.89</td>\n",
              "      <td>19.1</td>\n",
              "      <td>50.0</td>\n",
              "      <td>4.4</td>\n",
              "      <td>17.5</td>\n",
              "      <td>111.3</td>\n",
              "      <td>0.020</td>\n",
              "      <td>0.025</td>\n",
              "      <td>0.123</td>\n",
              "      <td>...</td>\n",
              "      <td>0.0378</td>\n",
              "      <td>0.0000</td>\n",
              "      <td>0.0000</td>\n",
              "      <td>0.0000</td>\n",
              "      <td>0.0000</td>\n",
              "      <td>0.0769</td>\n",
              "      <td>0.0640</td>\n",
              "      <td>0.0464</td>\n",
              "      <td>0.0000</td>\n",
              "      <td>Eastern</td>\n",
              "    </tr>\n",
              "    <tr>\n",
              "      <th>2</th>\n",
              "      <td>3.721493</td>\n",
              "      <td>9.63</td>\n",
              "      <td>17.5</td>\n",
              "      <td>62.0</td>\n",
              "      <td>11.7</td>\n",
              "      <td>13.0</td>\n",
              "      <td>117.6</td>\n",
              "      <td>0.036</td>\n",
              "      <td>0.021</td>\n",
              "      <td>0.727</td>\n",
              "      <td>...</td>\n",
              "      <td>0.0000</td>\n",
              "      <td>0.0000</td>\n",
              "      <td>0.0093</td>\n",
              "      <td>0.0138</td>\n",
              "      <td>0.0006</td>\n",
              "      <td>0.0466</td>\n",
              "      <td>0.0120</td>\n",
              "      <td>0.0044</td>\n",
              "      <td>0.0000</td>\n",
              "      <td>Eastern</td>\n",
              "    </tr>\n",
              "    <tr>\n",
              "      <th>3</th>\n",
              "      <td>4.407982</td>\n",
              "      <td>9.54</td>\n",
              "      <td>18.4</td>\n",
              "      <td>55.0</td>\n",
              "      <td>7.4</td>\n",
              "      <td>16.2</td>\n",
              "      <td>124.7</td>\n",
              "      <td>0.023</td>\n",
              "      <td>0.024</td>\n",
              "      <td>0.566</td>\n",
              "      <td>...</td>\n",
              "      <td>0.0000</td>\n",
              "      <td>0.0129</td>\n",
              "      <td>0.0060</td>\n",
              "      <td>0.0140</td>\n",
              "      <td>0.0155</td>\n",
              "      <td>0.0313</td>\n",
              "      <td>0.0079</td>\n",
              "      <td>0.0040</td>\n",
              "      <td>0.0000</td>\n",
              "      <td>Eastern</td>\n",
              "    </tr>\n",
              "    <tr>\n",
              "      <th>4</th>\n",
              "      <td>4.389916</td>\n",
              "      <td>9.34</td>\n",
              "      <td>17.8</td>\n",
              "      <td>53.0</td>\n",
              "      <td>13.8</td>\n",
              "      <td>21.4</td>\n",
              "      <td>84.4</td>\n",
              "      <td>0.031</td>\n",
              "      <td>0.030</td>\n",
              "      <td>0.022</td>\n",
              "      <td>...</td>\n",
              "      <td>0.0000</td>\n",
              "      <td>0.0141</td>\n",
              "      <td>0.0000</td>\n",
              "      <td>0.0093</td>\n",
              "      <td>0.0007</td>\n",
              "      <td>0.0491</td>\n",
              "      <td>0.0143</td>\n",
              "      <td>0.0019</td>\n",
              "      <td>0.0026</td>\n",
              "      <td>Eastern</td>\n",
              "    </tr>\n",
              "  </tbody>\n",
              "</table>\n",
              "<p>5 rows × 36 columns</p>\n",
              "</div>\n",
              "      <button class=\"colab-df-convert\" onclick=\"convertToInteractive('df-59e12ae8-e209-4149-af51-a3d330cc1e6c')\"\n",
              "              title=\"Convert this dataframe to an interactive table.\"\n",
              "              style=\"display:none;\">\n",
              "        \n",
              "  <svg xmlns=\"http://www.w3.org/2000/svg\" height=\"24px\"viewBox=\"0 0 24 24\"\n",
              "       width=\"24px\">\n",
              "    <path d=\"M0 0h24v24H0V0z\" fill=\"none\"/>\n",
              "    <path d=\"M18.56 5.44l.94 2.06.94-2.06 2.06-.94-2.06-.94-.94-2.06-.94 2.06-2.06.94zm-11 1L8.5 8.5l.94-2.06 2.06-.94-2.06-.94L8.5 2.5l-.94 2.06-2.06.94zm10 10l.94 2.06.94-2.06 2.06-.94-2.06-.94-.94-2.06-.94 2.06-2.06.94z\"/><path d=\"M17.41 7.96l-1.37-1.37c-.4-.4-.92-.59-1.43-.59-.52 0-1.04.2-1.43.59L10.3 9.45l-7.72 7.72c-.78.78-.78 2.05 0 2.83L4 21.41c.39.39.9.59 1.41.59.51 0 1.02-.2 1.41-.59l7.78-7.78 2.81-2.81c.8-.78.8-2.07 0-2.86zM5.41 20L4 18.59l7.72-7.72 1.47 1.35L5.41 20z\"/>\n",
              "  </svg>\n",
              "      </button>\n",
              "      \n",
              "  <style>\n",
              "    .colab-df-container {\n",
              "      display:flex;\n",
              "      flex-wrap:wrap;\n",
              "      gap: 12px;\n",
              "    }\n",
              "\n",
              "    .colab-df-convert {\n",
              "      background-color: #E8F0FE;\n",
              "      border: none;\n",
              "      border-radius: 50%;\n",
              "      cursor: pointer;\n",
              "      display: none;\n",
              "      fill: #1967D2;\n",
              "      height: 32px;\n",
              "      padding: 0 0 0 0;\n",
              "      width: 32px;\n",
              "    }\n",
              "\n",
              "    .colab-df-convert:hover {\n",
              "      background-color: #E2EBFA;\n",
              "      box-shadow: 0px 1px 2px rgba(60, 64, 67, 0.3), 0px 1px 3px 1px rgba(60, 64, 67, 0.15);\n",
              "      fill: #174EA6;\n",
              "    }\n",
              "\n",
              "    [theme=dark] .colab-df-convert {\n",
              "      background-color: #3B4455;\n",
              "      fill: #D2E3FC;\n",
              "    }\n",
              "\n",
              "    [theme=dark] .colab-df-convert:hover {\n",
              "      background-color: #434B5C;\n",
              "      box-shadow: 0px 1px 3px 1px rgba(0, 0, 0, 0.15);\n",
              "      filter: drop-shadow(0px 1px 2px rgba(0, 0, 0, 0.3));\n",
              "      fill: #FFFFFF;\n",
              "    }\n",
              "  </style>\n",
              "\n",
              "      <script>\n",
              "        const buttonEl =\n",
              "          document.querySelector('#df-59e12ae8-e209-4149-af51-a3d330cc1e6c button.colab-df-convert');\n",
              "        buttonEl.style.display =\n",
              "          google.colab.kernel.accessAllowed ? 'block' : 'none';\n",
              "\n",
              "        async function convertToInteractive(key) {\n",
              "          const element = document.querySelector('#df-59e12ae8-e209-4149-af51-a3d330cc1e6c');\n",
              "          const dataTable =\n",
              "            await google.colab.kernel.invokeFunction('convertToInteractive',\n",
              "                                                     [key], {});\n",
              "          if (!dataTable) return;\n",
              "\n",
              "          const docLinkHtml = 'Like what you see? Visit the ' +\n",
              "            '<a target=\"_blank\" href=https://colab.research.google.com/notebooks/data_table.ipynb>data table notebook</a>'\n",
              "            + ' to learn more about interactive tables.';\n",
              "          element.innerHTML = '';\n",
              "          dataTable['output_type'] = 'display_data';\n",
              "          await google.colab.output.renderOutput(dataTable, element);\n",
              "          const docLink = document.createElement('div');\n",
              "          docLink.innerHTML = docLinkHtml;\n",
              "          element.appendChild(docLink);\n",
              "        }\n",
              "      </script>\n",
              "    </div>\n",
              "  </div>\n",
              "  "
            ]
          },
          "metadata": {}
        }
      ]
    },
    {
      "cell_type": "code",
      "source": [
        "df.Basin = [1 if i == \"Western\" else 0 for i in df.Basin]"
      ],
      "metadata": {
        "id": "n3C6v3yOSyYN"
      },
      "execution_count": 131,
      "outputs": []
    },
    {
      "cell_type": "code",
      "source": [
        "display(df.head())"
      ],
      "metadata": {
        "colab": {
          "base_uri": "https://localhost:8080/",
          "height": 314
        },
        "id": "X2aUzq8MTB_f",
        "outputId": "fc21513c-98f5-4ca0-e000-f74f6a537480"
      },
      "execution_count": 132,
      "outputs": [
        {
          "output_type": "display_data",
          "data": {
            "text/plain": [
              "        PSU    O2  temp.    SS   SRP   DOP     PP   NH4N   NO3N    DON  ...  \\\n",
              "0  3.757624  9.46   18.3  52.0   3.5  11.7  185.0  0.039  0.022  0.551  ...   \n",
              "1  3.504707  9.89   19.1  50.0   4.4  17.5  111.3  0.020  0.025  0.123  ...   \n",
              "2  3.721493  9.63   17.5  62.0  11.7  13.0  117.6  0.036  0.021  0.727  ...   \n",
              "3  4.407982  9.54   18.4  55.0   7.4  16.2  124.7  0.023  0.024  0.566  ...   \n",
              "4  4.389916  9.34   17.8  53.0  13.8  21.4   84.4  0.031  0.030  0.022  ...   \n",
              "\n",
              "   Acartia tonsa  Eurytemora affinis  Cyclops sp.  Nauplii Cyclopoida  \\\n",
              "0         0.9298              0.9251       0.0000              0.0025   \n",
              "1         0.0378              0.0000       0.0000              0.0000   \n",
              "2         0.0000              0.0000       0.0093              0.0138   \n",
              "3         0.0000              0.0129       0.0060              0.0140   \n",
              "4         0.0000              0.0141       0.0000              0.0093   \n",
              "\n",
              "   Nauplii Calanoida  Filinia longiseta  Keratella cochlearis cochlearis  \\\n",
              "0             0.0257             1.3152                           0.8920   \n",
              "1             0.0000             0.0769                           0.0640   \n",
              "2             0.0006             0.0466                           0.0120   \n",
              "3             0.0155             0.0313                           0.0079   \n",
              "4             0.0007             0.0491                           0.0143   \n",
              "\n",
              "   Keratella cochlearis f.tecta  Keratella quadrata  Basin  \n",
              "0                        0.2714              0.0000      0  \n",
              "1                        0.0464              0.0000      0  \n",
              "2                        0.0044              0.0000      0  \n",
              "3                        0.0040              0.0000      0  \n",
              "4                        0.0019              0.0026      0  \n",
              "\n",
              "[5 rows x 36 columns]"
            ],
            "text/html": [
              "\n",
              "  <div id=\"df-fc9d7748-a624-406f-8cfb-8cd3a3eb9dbf\">\n",
              "    <div class=\"colab-df-container\">\n",
              "      <div>\n",
              "<style scoped>\n",
              "    .dataframe tbody tr th:only-of-type {\n",
              "        vertical-align: middle;\n",
              "    }\n",
              "\n",
              "    .dataframe tbody tr th {\n",
              "        vertical-align: top;\n",
              "    }\n",
              "\n",
              "    .dataframe thead th {\n",
              "        text-align: right;\n",
              "    }\n",
              "</style>\n",
              "<table border=\"1\" class=\"dataframe\">\n",
              "  <thead>\n",
              "    <tr style=\"text-align: right;\">\n",
              "      <th></th>\n",
              "      <th>PSU</th>\n",
              "      <th>O2</th>\n",
              "      <th>temp.</th>\n",
              "      <th>SS</th>\n",
              "      <th>SRP</th>\n",
              "      <th>DOP</th>\n",
              "      <th>PP</th>\n",
              "      <th>NH4N</th>\n",
              "      <th>NO3N</th>\n",
              "      <th>DON</th>\n",
              "      <th>...</th>\n",
              "      <th>Acartia tonsa</th>\n",
              "      <th>Eurytemora affinis</th>\n",
              "      <th>Cyclops sp.</th>\n",
              "      <th>Nauplii Cyclopoida</th>\n",
              "      <th>Nauplii Calanoida</th>\n",
              "      <th>Filinia longiseta</th>\n",
              "      <th>Keratella cochlearis cochlearis</th>\n",
              "      <th>Keratella cochlearis f.tecta</th>\n",
              "      <th>Keratella quadrata</th>\n",
              "      <th>Basin</th>\n",
              "    </tr>\n",
              "  </thead>\n",
              "  <tbody>\n",
              "    <tr>\n",
              "      <th>0</th>\n",
              "      <td>3.757624</td>\n",
              "      <td>9.46</td>\n",
              "      <td>18.3</td>\n",
              "      <td>52.0</td>\n",
              "      <td>3.5</td>\n",
              "      <td>11.7</td>\n",
              "      <td>185.0</td>\n",
              "      <td>0.039</td>\n",
              "      <td>0.022</td>\n",
              "      <td>0.551</td>\n",
              "      <td>...</td>\n",
              "      <td>0.9298</td>\n",
              "      <td>0.9251</td>\n",
              "      <td>0.0000</td>\n",
              "      <td>0.0025</td>\n",
              "      <td>0.0257</td>\n",
              "      <td>1.3152</td>\n",
              "      <td>0.8920</td>\n",
              "      <td>0.2714</td>\n",
              "      <td>0.0000</td>\n",
              "      <td>0</td>\n",
              "    </tr>\n",
              "    <tr>\n",
              "      <th>1</th>\n",
              "      <td>3.504707</td>\n",
              "      <td>9.89</td>\n",
              "      <td>19.1</td>\n",
              "      <td>50.0</td>\n",
              "      <td>4.4</td>\n",
              "      <td>17.5</td>\n",
              "      <td>111.3</td>\n",
              "      <td>0.020</td>\n",
              "      <td>0.025</td>\n",
              "      <td>0.123</td>\n",
              "      <td>...</td>\n",
              "      <td>0.0378</td>\n",
              "      <td>0.0000</td>\n",
              "      <td>0.0000</td>\n",
              "      <td>0.0000</td>\n",
              "      <td>0.0000</td>\n",
              "      <td>0.0769</td>\n",
              "      <td>0.0640</td>\n",
              "      <td>0.0464</td>\n",
              "      <td>0.0000</td>\n",
              "      <td>0</td>\n",
              "    </tr>\n",
              "    <tr>\n",
              "      <th>2</th>\n",
              "      <td>3.721493</td>\n",
              "      <td>9.63</td>\n",
              "      <td>17.5</td>\n",
              "      <td>62.0</td>\n",
              "      <td>11.7</td>\n",
              "      <td>13.0</td>\n",
              "      <td>117.6</td>\n",
              "      <td>0.036</td>\n",
              "      <td>0.021</td>\n",
              "      <td>0.727</td>\n",
              "      <td>...</td>\n",
              "      <td>0.0000</td>\n",
              "      <td>0.0000</td>\n",
              "      <td>0.0093</td>\n",
              "      <td>0.0138</td>\n",
              "      <td>0.0006</td>\n",
              "      <td>0.0466</td>\n",
              "      <td>0.0120</td>\n",
              "      <td>0.0044</td>\n",
              "      <td>0.0000</td>\n",
              "      <td>0</td>\n",
              "    </tr>\n",
              "    <tr>\n",
              "      <th>3</th>\n",
              "      <td>4.407982</td>\n",
              "      <td>9.54</td>\n",
              "      <td>18.4</td>\n",
              "      <td>55.0</td>\n",
              "      <td>7.4</td>\n",
              "      <td>16.2</td>\n",
              "      <td>124.7</td>\n",
              "      <td>0.023</td>\n",
              "      <td>0.024</td>\n",
              "      <td>0.566</td>\n",
              "      <td>...</td>\n",
              "      <td>0.0000</td>\n",
              "      <td>0.0129</td>\n",
              "      <td>0.0060</td>\n",
              "      <td>0.0140</td>\n",
              "      <td>0.0155</td>\n",
              "      <td>0.0313</td>\n",
              "      <td>0.0079</td>\n",
              "      <td>0.0040</td>\n",
              "      <td>0.0000</td>\n",
              "      <td>0</td>\n",
              "    </tr>\n",
              "    <tr>\n",
              "      <th>4</th>\n",
              "      <td>4.389916</td>\n",
              "      <td>9.34</td>\n",
              "      <td>17.8</td>\n",
              "      <td>53.0</td>\n",
              "      <td>13.8</td>\n",
              "      <td>21.4</td>\n",
              "      <td>84.4</td>\n",
              "      <td>0.031</td>\n",
              "      <td>0.030</td>\n",
              "      <td>0.022</td>\n",
              "      <td>...</td>\n",
              "      <td>0.0000</td>\n",
              "      <td>0.0141</td>\n",
              "      <td>0.0000</td>\n",
              "      <td>0.0093</td>\n",
              "      <td>0.0007</td>\n",
              "      <td>0.0491</td>\n",
              "      <td>0.0143</td>\n",
              "      <td>0.0019</td>\n",
              "      <td>0.0026</td>\n",
              "      <td>0</td>\n",
              "    </tr>\n",
              "  </tbody>\n",
              "</table>\n",
              "<p>5 rows × 36 columns</p>\n",
              "</div>\n",
              "      <button class=\"colab-df-convert\" onclick=\"convertToInteractive('df-fc9d7748-a624-406f-8cfb-8cd3a3eb9dbf')\"\n",
              "              title=\"Convert this dataframe to an interactive table.\"\n",
              "              style=\"display:none;\">\n",
              "        \n",
              "  <svg xmlns=\"http://www.w3.org/2000/svg\" height=\"24px\"viewBox=\"0 0 24 24\"\n",
              "       width=\"24px\">\n",
              "    <path d=\"M0 0h24v24H0V0z\" fill=\"none\"/>\n",
              "    <path d=\"M18.56 5.44l.94 2.06.94-2.06 2.06-.94-2.06-.94-.94-2.06-.94 2.06-2.06.94zm-11 1L8.5 8.5l.94-2.06 2.06-.94-2.06-.94L8.5 2.5l-.94 2.06-2.06.94zm10 10l.94 2.06.94-2.06 2.06-.94-2.06-.94-.94-2.06-.94 2.06-2.06.94z\"/><path d=\"M17.41 7.96l-1.37-1.37c-.4-.4-.92-.59-1.43-.59-.52 0-1.04.2-1.43.59L10.3 9.45l-7.72 7.72c-.78.78-.78 2.05 0 2.83L4 21.41c.39.39.9.59 1.41.59.51 0 1.02-.2 1.41-.59l7.78-7.78 2.81-2.81c.8-.78.8-2.07 0-2.86zM5.41 20L4 18.59l7.72-7.72 1.47 1.35L5.41 20z\"/>\n",
              "  </svg>\n",
              "      </button>\n",
              "      \n",
              "  <style>\n",
              "    .colab-df-container {\n",
              "      display:flex;\n",
              "      flex-wrap:wrap;\n",
              "      gap: 12px;\n",
              "    }\n",
              "\n",
              "    .colab-df-convert {\n",
              "      background-color: #E8F0FE;\n",
              "      border: none;\n",
              "      border-radius: 50%;\n",
              "      cursor: pointer;\n",
              "      display: none;\n",
              "      fill: #1967D2;\n",
              "      height: 32px;\n",
              "      padding: 0 0 0 0;\n",
              "      width: 32px;\n",
              "    }\n",
              "\n",
              "    .colab-df-convert:hover {\n",
              "      background-color: #E2EBFA;\n",
              "      box-shadow: 0px 1px 2px rgba(60, 64, 67, 0.3), 0px 1px 3px 1px rgba(60, 64, 67, 0.15);\n",
              "      fill: #174EA6;\n",
              "    }\n",
              "\n",
              "    [theme=dark] .colab-df-convert {\n",
              "      background-color: #3B4455;\n",
              "      fill: #D2E3FC;\n",
              "    }\n",
              "\n",
              "    [theme=dark] .colab-df-convert:hover {\n",
              "      background-color: #434B5C;\n",
              "      box-shadow: 0px 1px 3px 1px rgba(0, 0, 0, 0.15);\n",
              "      filter: drop-shadow(0px 1px 2px rgba(0, 0, 0, 0.3));\n",
              "      fill: #FFFFFF;\n",
              "    }\n",
              "  </style>\n",
              "\n",
              "      <script>\n",
              "        const buttonEl =\n",
              "          document.querySelector('#df-fc9d7748-a624-406f-8cfb-8cd3a3eb9dbf button.colab-df-convert');\n",
              "        buttonEl.style.display =\n",
              "          google.colab.kernel.accessAllowed ? 'block' : 'none';\n",
              "\n",
              "        async function convertToInteractive(key) {\n",
              "          const element = document.querySelector('#df-fc9d7748-a624-406f-8cfb-8cd3a3eb9dbf');\n",
              "          const dataTable =\n",
              "            await google.colab.kernel.invokeFunction('convertToInteractive',\n",
              "                                                     [key], {});\n",
              "          if (!dataTable) return;\n",
              "\n",
              "          const docLinkHtml = 'Like what you see? Visit the ' +\n",
              "            '<a target=\"_blank\" href=https://colab.research.google.com/notebooks/data_table.ipynb>data table notebook</a>'\n",
              "            + ' to learn more about interactive tables.';\n",
              "          element.innerHTML = '';\n",
              "          dataTable['output_type'] = 'display_data';\n",
              "          await google.colab.output.renderOutput(dataTable, element);\n",
              "          const docLink = document.createElement('div');\n",
              "          docLink.innerHTML = docLinkHtml;\n",
              "          element.appendChild(docLink);\n",
              "        }\n",
              "      </script>\n",
              "    </div>\n",
              "  </div>\n",
              "  "
            ]
          },
          "metadata": {}
        }
      ]
    },
    {
      "cell_type": "code",
      "source": [
        "X = df.drop(\"Basin\", axis =1)\n",
        "Y = df[\"Basin\"]"
      ],
      "metadata": {
        "id": "8FMmLpIvTEK2"
      },
      "execution_count": 133,
      "outputs": []
    },
    {
      "cell_type": "code",
      "source": [
        "X_train, X_test, Y_train, Y_test = train_test_split(X,Y,test_size=0.3, random_state=0)\n",
        "\n",
        "print(f'#Training data points: {X_train.shape[0]}')\n",
        "print(f'#Testing data points: {X_test.shape[0]}')\n",
        "print(f'#Class: {np.unique(Y)}')"
      ],
      "metadata": {
        "colab": {
          "base_uri": "https://localhost:8080/"
        },
        "id": "AVtOPRToTOs3",
        "outputId": "a250af83-ab91-4d0f-fe95-7013fdc2f916"
      },
      "execution_count": 134,
      "outputs": [
        {
          "output_type": "stream",
          "name": "stdout",
          "text": [
            "#Training data points: 108\n",
            "#Testing data points: 47\n",
            "#Class: [0 1]\n"
          ]
        }
      ]
    },
    {
      "cell_type": "code",
      "source": [
        "from sklearn.tree import DecisionTreeClassifier\n",
        "\n",
        "tree = DecisionTreeClassifier(criterion = \"entropy\", max_depth = 3, min_samples_leaf=5, random_state=0)\n",
        "tree.fit(X_train, Y_train)\n",
        "Y_pred = tree.predict(X_test)\n",
        "Y_pred_train = tree.predict(X_train)"
      ],
      "metadata": {
        "id": "uPwUxBFCTpoA"
      },
      "execution_count": 135,
      "outputs": []
    },
    {
      "cell_type": "code",
      "source": [
        "print(f'============Test============')\n",
        "print(f'Missclassified samples: {(Y_test != Y_pred).sum()}')\n",
        "print(f'Test dataset Accuracy (tree): {(Y_test == Y_pred).sum() / Y_test.shape[0]}')"
      ],
      "metadata": {
        "colab": {
          "base_uri": "https://localhost:8080/"
        },
        "id": "jbbJnA4sV3Fu",
        "outputId": "e0e65787-6e73-4329-bed6-cb76dce7b18e"
      },
      "execution_count": 136,
      "outputs": [
        {
          "output_type": "stream",
          "name": "stdout",
          "text": [
            "============Test============\n",
            "Missclassified samples: 13\n",
            "Test dataset Accuracy (tree): 0.723404255319149\n"
          ]
        }
      ]
    },
    {
      "cell_type": "code",
      "source": [
        "print(f'============Train============')\n",
        "print(f'Missclassified samples: {(Y_train != Y_pred_train).sum()}')\n",
        "print(f'Train dataset Accuracy (tree): {(Y_train == Y_pred_train).sum() / Y_train.shape[0]}')"
      ],
      "metadata": {
        "colab": {
          "base_uri": "https://localhost:8080/"
        },
        "id": "CvA3LRypWrht",
        "outputId": "e93646d3-3276-467b-ada8-ad9f2702ec57"
      },
      "execution_count": 137,
      "outputs": [
        {
          "output_type": "stream",
          "name": "stdout",
          "text": [
            "============Train============\n",
            "Missclassified samples: 21\n",
            "Train dataset Accuracy (tree): 0.8055555555555556\n"
          ]
        }
      ]
    },
    {
      "cell_type": "code",
      "source": [
        "from sklearn.tree import export_graphviz\n",
        "\n",
        "export_graphviz(tree, out_file = './tree.dot', feature_names = X.columns.values)"
      ],
      "metadata": {
        "id": "O2OpFWTFX5Di"
      },
      "execution_count": 138,
      "outputs": []
    },
    {
      "cell_type": "code",
      "source": [
        "from sklearn.ensemble import RandomForestClassifier\n",
        "\n",
        "forest = RandomForestClassifier(criterion = \"entropy\", n_estimators = 200, random_state = 1, n_jobs = 2)\n",
        "forest.fit(X_train, Y_train)\n",
        "Y_pred = forest.predict(X_test)\n",
        "Y_pred_train = forest.predict(X_train)"
      ],
      "metadata": {
        "id": "I1Aa8H3EYp-P"
      },
      "execution_count": 139,
      "outputs": []
    },
    {
      "cell_type": "code",
      "source": [
        "print(f'============Test============')\n",
        "print(f'Missclassified samples: {(Y_test != Y_pred).sum()}')\n",
        "print(f'Test dataset Accuracy (forest): {(Y_test == Y_pred).sum() / Y_test.shape[0]}')\n",
        "print(f'============Train============')\n",
        "print(f'Missclassified samples: {(Y_train != Y_pred_train).sum()}')\n",
        "print(f'Train dataset Accuracy (forest): {(Y_train == Y_pred_train).sum() / Y_train.shape[0]}')"
      ],
      "metadata": {
        "colab": {
          "base_uri": "https://localhost:8080/"
        },
        "id": "HcCi5EfPY8sH",
        "outputId": "5736baf2-36a1-4b6a-945f-13edff055530"
      },
      "execution_count": 140,
      "outputs": [
        {
          "output_type": "stream",
          "name": "stdout",
          "text": [
            "============Test============\n",
            "Missclassified samples: 11\n",
            "Test dataset Accuracy (forest): 0.7659574468085106\n",
            "============Train============\n",
            "Missclassified samples: 0\n",
            "Train dataset Accuracy (forest): 1.0\n"
          ]
        }
      ]
    },
    {
      "cell_type": "code",
      "source": [
        "import matplotlib.pyplot as plt\n",
        "\n",
        "importances = forest.feature_importances_\n",
        "indices = np.argsort(importances)[::-1]\n",
        "\n",
        "for f in range(X_train.shape[1]):\n",
        "  print(f'{f\"{f +1})\":{\"<\"}{3}} {X.columns.values[indices[f]]:{\"<\"}{max([len(x) for x in X.columns.values])+3}} {importances[indices[f]]}')"
      ],
      "metadata": {
        "colab": {
          "base_uri": "https://localhost:8080/"
        },
        "id": "LUxysQegZPVM",
        "outputId": "61df1fae-2527-405a-c8bb-da2b317d2c7d"
      },
      "execution_count": 141,
      "outputs": [
        {
          "output_type": "stream",
          "name": "stdout",
          "text": [
            "1)  Nauplii Cyclopoida                 0.08772343300563099\n",
            "2)  Cyclops sp.                        0.07205631772850435\n",
            "3)  Depth                              0.06833926561605884\n",
            "4)  DON                                0.05379608305733355\n",
            "5)  PSU                                0.042185665143101604\n",
            "6)  DOP                                0.03771431539011539\n",
            "7)  O2                                 0.03606841461682495\n",
            "8)  DOC                                0.03591618325000299\n",
            "9)  Cyanobacteria                      0.03151065132027391\n",
            "10) Acartia tonsa                      0.029090545894258583\n",
            "11) TN/TP                              0.027812033927807126\n",
            "12) Keratella cochlearis cochlearis    0.027800756725427797\n",
            "13) temp.                              0.02730471069422631\n",
            "14) SS                                 0.02648296266462954\n",
            "15) PP                                 0.02410570794258376\n",
            "16) SRP                                0.02387815087189549\n",
            "17) PN                                 0.02374939360885505\n",
            "18) Diatomophyceae                     0.023104820274904743\n",
            "19) Chlorophyceae                      0.02241019822745874\n",
            "20) picophytoplankton                  0.02196653808432296\n",
            "21) Keratella cochlearis f.tecta       0.021754692994045404\n",
            "22) TPOC                               0.021633737362029025\n",
            "23) SiO4Si                             0.02133318462305551\n",
            "24) Filinia longiseta                  0.020858230806614343\n",
            "25) NH4N                               0.020450268510650155\n",
            "26) NO3N                               0.02006205533488833\n",
            "27) Diaphanosoma brachyurum            0.018838888957267808\n",
            "28) Flagellata                         0.017923359517932082\n",
            "29) Fe                                 0.015880786864911792\n",
            "30) Windspeedinsitu                    0.015662696507691896\n",
            "31) Eurytemora affinis                 0.014037635285825243\n",
            "32) Acartia longiremis                 0.013747732753092717\n",
            "33) Euglenophyceae                     0.012616298591027461\n",
            "34) Nauplii Calanoida                  0.012160511486021298\n",
            "35) Keratella quadrata                 0.0100237723607303\n"
          ]
        }
      ]
    },
    {
      "cell_type": "code",
      "source": [
        "plt.figure()\n",
        "plt.title(\"Feature Importances\")\n",
        "plt.bar(range(X_train.shape[1]), importances[indices], align='center', alpha=0.5)\n",
        "plt.xticks(range(X_train.shape[1]), X.columns.values[indices], rotation = 90)\n",
        "plt.tight_layout()\n",
        "plt.savefig(\"./fig-forest-feature-importances.png\", dpi=300)\n",
        "plt.show()"
      ],
      "metadata": {
        "colab": {
          "base_uri": "https://localhost:8080/",
          "height": 487
        },
        "id": "VI1fknx_bMSO",
        "outputId": "2dacf99b-78bc-4940-8ea9-bfd83ef429a8"
      },
      "execution_count": 142,
      "outputs": [
        {
          "output_type": "display_data",
          "data": {
            "text/plain": [
              "<Figure size 640x480 with 1 Axes>"
            ],
            "image/png": "[encoded data removed]"
          },
          "metadata": {}
        }
      ]
    },
    {
      "cell_type": "code",
      "source": [
        "Z_forest = X[['Cyclops sp.', 'Cyanobacteria']].values\n",
        "colors = ['r','b','g','k']\n",
        "markers = ['s','x','o','^']\n",
        "for l, c, m in zip(np.unique(Y.values), colors, markers):\n",
        "  plt.scatter(Z_forest[Y.values==l, 0], Z_forest[Y.values==l, 1], c=c, label=l, marker=m)\n",
        "plt.title(\"Z_forest\")\n",
        "plt.xlabel('Cyclops sp.')\n",
        "plt.ylabel('Cyanobacteria')\n",
        "plt.legend(loc=\"lower right\")\n",
        "plt.tight_layout()\n",
        "plt.savefig(\"./fig-forest-z.png\", dpi=300)\n",
        "plt.show()"
      ],
      "metadata": {
        "colab": {
          "base_uri": "https://localhost:8080/",
          "height": 487
        },
        "id": "Evc3hI0ib-_Y",
        "outputId": "27822525-5b9e-4af1-8b8d-01923a5cc7d1"
      },
      "execution_count": 143,
      "outputs": [
        {
          "output_type": "display_data",
          "data": {
            "text/plain": [
              "<Figure size 640x480 with 1 Axes>"
            ],
            "image/png": "[encoded data removed]"
          },
          "metadata": {}
        }
      ]
    },
    {
      "cell_type": "code",
      "source": [
        "X_train_z, X_test_z, Y_train_z, Y_test_z = train_test_split(Z_forest,Y,test_size=0.3, random_state=0)\n",
        "tree_forest = DecisionTreeClassifier(criterion = \"entropy\", max_depth = 10, min_samples_leaf=5, random_state=0)\n",
        "tree_forest.fit(X_train_z, Y_train_z)\n",
        "Y_pred_z = tree_forest.predict(X_test_z)\n",
        "Y_pred_train_z = tree_forest.predict(X_train_z)"
      ],
      "metadata": {
        "id": "aSU28ePjdWSL"
      },
      "execution_count": 144,
      "outputs": []
    },
    {
      "cell_type": "code",
      "source": [
        "print(f'============Test============')\n",
        "print(f'Missclassified samples: {(Y_test_z != Y_pred_z).sum()}')\n",
        "print(f'Test dataset Accuracy (tree_forest): {(Y_test_z == Y_pred_z).sum() / Y_test_z.shape[0]}')\n",
        "print(f'============Train============')\n",
        "print(f'Missclassified samples: {(Y_train_z != Y_pred_train_z).sum()}')\n",
        "print(f'Train dataset Accuracy (tree_forest): {(Y_train_z == Y_pred_train_z).sum() / Y_train_z.shape[0]}')"
      ],
      "metadata": {
        "colab": {
          "base_uri": "https://localhost:8080/"
        },
        "id": "HlVLeR7Vd4xw",
        "outputId": "a1962c18-81bb-4fec-e961-78eb1861d2da"
      },
      "execution_count": 145,
      "outputs": [
        {
          "output_type": "stream",
          "name": "stdout",
          "text": [
            "============Test============\n",
            "Missclassified samples: 14\n",
            "Test dataset Accuracy (tree_forest): 0.7021276595744681\n",
            "============Train============\n",
            "Missclassified samples: 22\n",
            "Train dataset Accuracy (tree_forest): 0.7962962962962963\n"
          ]
        }
      ]
    },
    {
      "cell_type": "code",
      "source": [
        "from sklearn.feature_selection import SelectFromModel\n",
        "\n",
        "sfm = SelectFromModel(forest, threshold=0.075, prefit=True)\n",
        "Z_forest_alt = sfm.transform(X)\n",
        "\n",
        "for f in range(Z_forest_alt.shape[1]):\n",
        "  print(f'{f\"{f +1})\":{\"<\"}{3}} {X.columns.values[indices[f]]:{\"<\"}{max([len(x) for x in X.columns.values])+3}} {importances[indices[f]]}')"
      ],
      "metadata": {
        "colab": {
          "base_uri": "https://localhost:8080/"
        },
        "id": "K49rPrQKeKZr",
        "outputId": "44a64f47-b3c1-480c-8620-a446744e5f15"
      },
      "execution_count": 146,
      "outputs": [
        {
          "output_type": "stream",
          "name": "stdout",
          "text": [
            "1)  Nauplii Cyclopoida                 0.08772343300563099\n"
          ]
        }
      ]
    },
    {
      "cell_type": "code",
      "source": [
        "forest_forest = RandomForestClassifier(criterion = \"entropy\", n_estimators = 200, random_state = 1, n_jobs = 2)\n",
        "forest_forest.fit(X_train_z, Y_train_z)\n",
        "Y_pred_z = forest_forest.predict(X_test_z)\n",
        "Y_pred_train_z = forest_forest.predict(X_train_z)"
      ],
      "metadata": {
        "id": "9Gtn7-lkex-6"
      },
      "execution_count": 147,
      "outputs": []
    },
    {
      "cell_type": "code",
      "source": [
        "print(f'============Test============')\n",
        "print(f'Missclassified samples: {(Y_test_z != Y_pred_z).sum()}')\n",
        "print(f'Test dataset Accuracy (forest_forest): {(Y_test_z == Y_pred_z).sum() / Y_test_z.shape[0]}')\n",
        "print(f'============Train============')\n",
        "print(f'Missclassified samples: {(Y_train_z != Y_pred_train_z).sum()}')\n",
        "print(f'Train dataset Accuracy (forest_forest): {(Y_train_z == Y_pred_train_z).sum() / Y_train_z.shape[0]}')"
      ],
      "metadata": {
        "colab": {
          "base_uri": "https://localhost:8080/"
        },
        "id": "qSAjdsYafERW",
        "outputId": "4b4e962b-31c8-4b23-83e1-84b02cc7c1bb"
      },
      "execution_count": 148,
      "outputs": [
        {
          "output_type": "stream",
          "name": "stdout",
          "text": [
            "============Test============\n",
            "Missclassified samples: 21\n",
            "Test dataset Accuracy (forest_forest): 0.5531914893617021\n",
            "============Train============\n",
            "Missclassified samples: 0\n",
            "Train dataset Accuracy (forest_forest): 1.0\n"
          ]
        }
      ]
    },
    {
      "cell_type": "code",
      "source": [
        "%matplotlib inline\n",
        "from matplotlib.colors import ListedColormap"
      ],
      "metadata": {
        "id": "ZCPqJBNxfXt6"
      },
      "execution_count": 149,
      "outputs": []
    },
    {
      "cell_type": "code",
      "source": [
        "def plot_decision_regions(X,Y, classifier, test_idx = None, resolution = 0.02):\n",
        "  colors = ['red','blue','lightgreen','gray','cyan']\n",
        "  markers = ['s','x','o','^','v']\n",
        "  cmap = ListedColormap(colors[:len(np.unique(Y))])\n",
        "\n",
        "  x1_min, x1_max = X[:,0].min() - 1, X[:,0].max() + 1\n",
        "  x2_min, x2_max = X[:,1].min() - 1, X[:,1].max() + 1\n",
        "  xx1, xx2 = np.meshgrid(np.arange(x1_min, x1_max,resolution),np.arange(x2_min, x2_max,resolution))\n",
        "\n",
        "  Z = classifier.predict(np.array([xx1.ravel(),xx2.ravel()]).T)\n",
        "  Z = Z.reshape(xx1.shape)\n",
        "  plt.contourf(xx1, xx2, Z, alpha=0.4, cmap = cmap)\n",
        "  plt.xlim(xx1.min(), xx1.max())\n",
        "  plt.ylim(xx2.min(), xx2.max())\n",
        "\n",
        "  for idx, cl in enumerate(np.unique(Y)):\n",
        "    plt.scatter(x = X[Y==cl,0], y = X[Y==cl,1], alpha=0.8, c= [cmap(idx)], marker = markers[idx], label=cl)\n",
        "\n",
        "  if test_idx:\n",
        "    X_test, Y_test = X[test_idx, :], Y[test_idx]\n",
        "    plt.scatter(X_test[:,0], X_test[:,1], c='c', alpha=1.0, linewidths=1, marker='o', s=55, label=\"test_set\", edgecolors=\"k\")"
      ],
      "metadata": {
        "id": "APWSmgpHfhDO"
      },
      "execution_count": 150,
      "outputs": []
    },
    {
      "cell_type": "code",
      "source": [
        "Z_forest_combined = np.vstack((X_train_z, X_test_z))\n",
        "Y_forest_combined = np.hstack((Y_train_z, Y_test_z))\n",
        "plot_decision_regions(Z_forest_combined, Y_forest_combined, classifier = tree_forest, test_idx = range(Y_train_z.shape[0], Y_train_z.shape[0]+Y_test_z.shape[0]))\n",
        "\n",
        "plt.title(\"Tree_forest\")\n",
        "plt.xlabel(\"Cyclops sp.\")\n",
        "plt.ylabel(\"Cyanobacteria\")\n",
        "plt.legend(loc=\"lower right\")\n",
        "plt.tight_layout()\n",
        "plt.savefig(\"./fig_borders-tree-forest-z.png\", dpi=300)\n",
        "plt.show()"
      ],
      "metadata": {
        "colab": {
          "base_uri": "https://localhost:8080/",
          "height": 487
        },
        "id": "RTP7ki3NhsAr",
        "outputId": "8ef2e60a-8b54-4148-cc6f-5769e75f5519"
      },
      "execution_count": 151,
      "outputs": [
        {
          "output_type": "display_data",
          "data": {
            "text/plain": [
              "<Figure size 640x480 with 1 Axes>"
            ],
            "image/png": "[encoded data removed]"
          },
          "metadata": {}
        }
      ]
    },
    {
      "cell_type": "code",
      "source": [
        "plot_decision_regions(Z_forest_combined, Y_forest_combined, classifier = forest_forest, test_idx = range(Y_train_z.shape[0], Y_train_z.shape[0]+Y_test_z.shape[0]))\n",
        "\n",
        "plt.title(\"Forest_forest\")\n",
        "plt.xlabel(\"Cyclops sp.\")\n",
        "plt.ylabel(\"Cyanobacteria\")\n",
        "plt.legend(loc=\"lower right\")\n",
        "plt.tight_layout()\n",
        "plt.savefig(\"./fig_borders-forest-forest-z.png\", dpi=300)\n",
        "plt.show()"
      ],
      "metadata": {
        "colab": {
          "base_uri": "https://localhost:8080/",
          "height": 487
        },
        "id": "s-gkCB_QlJjr",
        "outputId": "1fb786bb-81dd-47be-a9ac-f98fa1ff8f0b"
      },
      "execution_count": 152,
      "outputs": [
        {
          "output_type": "display_data",
          "data": {
            "text/plain": [
              "<Figure size 640x480 with 1 Axes>"
            ],
            "image/png": "[encoded data removed]"
          },
          "metadata": {}
        }
      ]
    },
    {
      "cell_type": "code",
      "source": [],
      "metadata": {
        "id": "gtdoHNAGm0iG"
      },
      "execution_count": null,
      "outputs": []
    }
  ]
}